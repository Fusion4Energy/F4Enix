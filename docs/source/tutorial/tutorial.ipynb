{
 "cells": [
  {
   "cell_type": "markdown",
   "metadata": {},
   "source": [
    "# A F4Enix quick tour"
   ]
  },
  {
   "cell_type": "markdown",
   "metadata": {},
   "source": [
    "F4Enix allows you to parse and manipulate a number of files that are commonly found in any neutronics pre and post-processing pipeline. Detailing the full capabilities of the package can be quite a long process. Luckily, extensive usage examples that are classified by type of file being processed can be found in the [Examples section](examples/examples_idx.html). The scope of this tour instead is to give a first feeling of what F4Enix can do and how it could be integrated in your workflow.\n",
    "\n",
    "If you did not install ``f4enix`` yet, please refer to the [installation instructions](usage/installation.html)."
   ]
  },
  {
   "cell_type": "markdown",
   "metadata": {},
   "source": [
    "## Pre-process an MCNP input"
   ]
  },
  {
   "cell_type": "markdown",
   "metadata": {},
   "source": [
    "For the purpose of this example, let's imagine to have a simple model that includes only a sphere"
   ]
  },
  {
   "cell_type": "code",
   "execution_count": 1,
   "metadata": {},
   "outputs": [
    {
     "name": "stdout",
     "output_type": "stream",
     "text": [
      "CELLS:\n",
      "1  0          -1    IMP:N=1   IMP:P=1\n",
      "\n",
      "2  1 -0.302  +1 -2     IMP:N=1   IMP:P=1\n",
      "\n",
      "3  0          +2    IMP:N=0   IMP:P=0\n",
      "\n",
      "SURFACES:\n",
      "1 S 0 0 0 5\n",
      "\n",
      "2 S 0 0 0 50\n",
      "\n",
      "3 S 0 0 0 60\n",
      "\n"
     ]
    }
   ],
   "source": [
    "from f4enix import Input\n",
    "\n",
    "inp = Input.from_input('Sphere.i')\n",
    "print('CELLS:')\n",
    "for _, cell in inp.cells.items():\n",
    "    print(cell.card())\n",
    "\n",
    "print('SURFACES:')\n",
    "for _, surf in inp.surfs.items():\n",
    "    print(surf.card())"
   ]
  },
  {
   "cell_type": "code",
   "execution_count": null,
   "metadata": {},
   "outputs": [
    {
     "name": "stdout",
     "output_type": "stream",
     "text": [
      "CELLS:\n",
      "1  0          -1    IMP:N=1   IMP:P=1\n",
      "\n",
      "2 0  +1 -2 fill=1 IMP:N=1 IMP:P=1       \n",
      "\n",
      "3  0          +2    IMP:N=0   IMP:P=0\n",
      "\n",
      "2 1 -0.302 +1 -2 u=1 IMP:N=1 IMP:P=1    \n",
      "\n"
     ]
    }
   ],
   "source": [
    "idx_universe = 1  # universe ID to be used\n",
    "for key, cell in inp.cells.items():\n",
    "    if cell.get_m() == 1:\n",
    "        # prepare the filler\n",
    "        fill_cell = inp.add_cell_fill_u(cell, 'u', idx_universe, inplace=False)\n",
    "        \n",
    "\n",
    "        # prepare the envelope\n",
    "        inp.set_cell_void(cell)  # remove the material from the cell\n",
    "        inp.add_cell_fill_u(cell, 'fill', idx_universe)\n",
    "\n",
    "# add the filler cell to the input\n",
    "inp.cells['10'] = fill_cell\n",
    "\n",
    "print('CELLS:')\n",
    "for _, cell in inp.cells.items():\n",
    "    print(cell.card())\n"
   ]
  },
  {
   "cell_type": "code",
   "execution_count": null,
   "metadata": {},
   "outputs": [],
   "source": []
  },
  {
   "cell_type": "code",
   "execution_count": null,
   "metadata": {},
   "outputs": [],
   "source": []
  },
  {
   "cell_type": "code",
   "execution_count": null,
   "metadata": {},
   "outputs": [],
   "source": []
  },
  {
   "cell_type": "code",
   "execution_count": null,
   "metadata": {},
   "outputs": [],
   "source": []
  }
 ],
 "metadata": {
  "kernelspec": {
   "display_name": "f4enix",
   "language": "python",
   "name": "python3"
  },
  "language_info": {
   "codemirror_mode": {
    "name": "ipython",
    "version": 3
   },
   "file_extension": ".py",
   "mimetype": "text/x-python",
   "name": "python",
   "nbconvert_exporter": "python",
   "pygments_lexer": "ipython3",
   "version": "3.10.13"
  }
 },
 "nbformat": 4,
 "nbformat_minor": 2
}
