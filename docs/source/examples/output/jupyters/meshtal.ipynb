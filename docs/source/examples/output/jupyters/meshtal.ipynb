{
 "cells": [
  {
   "attachments": {},
   "cell_type": "markdown",
   "metadata": {},
   "source": [
    "## MESHTAL file"
   ]
  },
  {
   "cell_type": "markdown",
   "metadata": {},
   "source": [
    "```{eval-rst}\n",
    "The complete API can be found at :py:class:`f4enix.output.meshtal.Meshtal`\n",
    "```\n",
    "\n",
    "It is possible to parse and MCNP meshtal file and obtain a pyvista\n",
    "object for each of the fmeshes."
   ]
  },
  {
   "cell_type": "code",
   "execution_count": null,
   "metadata": {},
   "outputs": [],
   "source": [
    "# import the related module and parse a meshtal file\n",
    "from f4enix.output.meshtal import Meshtal\n",
    "\n",
    "# file = 'mode0_plasma_prod.msht'\n",
    "file = 'meshtal'\n",
    "meshtal = Meshtal(file)\n",
    "\n",
    "# By default all meshes are parsed, but if speed up is needed, only a subset\n",
    "# of them can be selected\n",
    "meshtal.readMesh()\n",
    "meshtal"
   ]
  },
  {
   "cell_type": "code",
   "execution_count": null,
   "metadata": {},
   "outputs": [],
   "source": [
    "import tempfile  # To have a scratch directory for the example\n",
    "outpath = tempfile.gettempdir()\n",
    "\n",
    "# fmeshes can be dumped all together \n",
    "meshtal.write_all(outpath, out_format='vtk')\n",
    "\n",
    "# Or specifically with higher control\n",
    "meshtal.mesh[1004].write(outpath, list_array_names=['Value - Total'],\n",
    "                         out_format='ip_fluent', outfile='custom name')"
   ]
  },
  {
   "attachments": {},
   "cell_type": "markdown",
   "metadata": {},
   "source": [
    "instead of writing them all separate it could be useful to collapse all fmeshes\n",
    "into a single pyvista grid. This is possible only if the fmeshes have the same\n",
    "geometry and have no binning."
   ]
  },
  {
   "cell_type": "code",
   "execution_count": null,
   "metadata": {},
   "outputs": [],
   "source": [
    "# this dictionary provides the names for the value and error in each fmesh\n",
    "dict_names = {1004: ['neutron flux', 'neutron flux err'],\n",
    "              1024: ['photon flux', 'photon flux err']}\n",
    "collapsed_grid = meshtal.collapse_grids(dict_names)\n",
    "collapsed_grid"
   ]
  },
  {
   "cell_type": "code",
   "execution_count": null,
   "metadata": {},
   "outputs": [],
   "source": [
    "# select a specific fmesh.\n",
    "n_flux_fmesh = meshtal.mesh[1004]\n",
    "\n",
    "# Access the related pyvista object and all its powerful methods\n",
    "# The units from MCNP apply if no modification is made by the user\n",
    "n_flux = n_flux_fmesh.grid\n",
    "n_flux"
   ]
  },
  {
   "cell_type": "code",
   "execution_count": null,
   "metadata": {},
   "outputs": [],
   "source": [
    "import pyvista as pv\n",
    "\n",
    "try:\n",
    "    pv.start_xvfb()\n",
    "except OSError:\n",
    "    # this is needed only on Linux headless servers\n",
    "    pass"
   ]
  },
  {
   "cell_type": "code",
   "execution_count": null,
   "metadata": {},
   "outputs": [],
   "source": [
    "# quick plot to check that the meshes are not empty\n",
    "clip = n_flux.clip(normal='z')  # native pyvista clip\n",
    "clip.plot(scalars='Value - Total', jupyter_backend='static')"
   ]
  },
  {
   "cell_type": "code",
   "execution_count": null,
   "metadata": {},
   "outputs": [],
   "source": [
    "import pyvista as pv\n",
    "\n",
    "# Load an .stl file to be used for plots and plot them with the fmesh to check\n",
    "# that the units match. stl units will depend by export settings of the user\n",
    "stl = pv.read('iter1D.stl').scale(10)  # scale the stl to have same units\n",
    "\n",
    "# Set up and show a pyvista plotter\n",
    "plotter = pv.Plotter()\n",
    "plotter.add_mesh(clip)\n",
    "plotter.add_mesh(stl, opacity=0.4)\n",
    "plotter.show(jupyter_backend='static')"
   ]
  },
  {
   "cell_type": "code",
   "execution_count": null,
   "metadata": {},
   "outputs": [],
   "source": [
    "# Load additional modules related to Atlas production\n",
    "from f4enix.output.plotter import MeshPlotter, Atlas\n",
    "from copy import deepcopy\n",
    "\n",
    "# Get a basic PyVista mesh where to store all other data\n",
    "global_mesh = deepcopy(meshtal.mesh[1004].grid)\n",
    "\n",
    "# On the same grid, load all the different fmeshes results. In this case there\n",
    "# are only two\n",
    "for tally_num, fmesh in meshtal.mesh.items():\n",
    "    # get the FC card comment for the fmesh to be used as name of the scalar\n",
    "    name = fmesh.comment.strip()\n",
    "    # get the scalar values\n",
    "    data = fmesh.grid['Value - Total']\n",
    "    # Adding the array to the global mesh\n",
    "    global_mesh[name] = data\n",
    "\n",
    "# Clean the original results from the template mesh\n",
    "global_mesh.cell_data.remove('Value - Total')\n",
    "global_mesh.cell_data.remove('Error - Total')\n",
    "\n",
    "global_mesh"
   ]
  },
  {
   "cell_type": "markdown",
   "metadata": {},
   "source": [
    "Another handy method from pyvista is the voxelization of stl file and subsequent mapping of pyvista grid onto these voxelized stl"
   ]
  },
  {
   "cell_type": "code",
   "execution_count": null,
   "metadata": {},
   "outputs": [],
   "source": [
    "import pyvista as pv\n",
    "divisions = 50 # increase this will lead to better detail (i.e. smaller size of voxels)\n",
    "voxelized = pv.voxelize(stl, density=stl.length/divisions, check_surface=False)\n",
    "\n",
    "voxelized.clip(normal='y').plot(jupyter_backend='static')"
   ]
  },
  {
   "cell_type": "code",
   "execution_count": null,
   "metadata": {},
   "outputs": [],
   "source": [
    "mapped = voxelized.sample(meshtal.mesh[1004].grid)\n",
    "\n",
    "plotter = pv.Plotter()\n",
    "plotter.add_mesh(mapped.clip(normal='y'), scalars='Value - Total')\n",
    "plotter.show(jupyter_backend='static')"
   ]
  },
  {
   "attachments": {},
   "cell_type": "markdown",
   "metadata": {},
   "source": [
    "### Slicing\n",
    "\n",
    "There are different slicing methods that have been defined in F4Enix. All of them produces slices that can be automatically plotted in order to build an atlas."
   ]
  },
  {
   "cell_type": "code",
   "execution_count": null,
   "metadata": {},
   "outputs": [],
   "source": [
    "# Initialize the custom plotter with the mesh and stl\n",
    "plotter = MeshPlotter(global_mesh, stl=stl)\n",
    "\n",
    "# There are many default settings that can be modified, e.g.:\n",
    "# plotter.legend_args['vertical'] = False"
   ]
  },
  {
   "cell_type": "code",
   "execution_count": null,
   "metadata": {},
   "outputs": [],
   "source": [
    "# toroidal slicing. It can be done on all the 180 deg or specify the sector\n",
    "# and origin\n",
    "toroidal_slices = plotter.slice_toroidal(30)  # 30 deg. increment\n",
    "# Show the first slice\n",
    "print(toroidal_slices[0])  # (name of the slice, mesh slice, stl slice)\n",
    "\n",
    "# Use pyvista native plotter just as an example to show what is the output\n",
    "pv_plotter = pv.Plotter()\n",
    "for slices in toroidal_slices:\n",
    "    mesh_slice = slices[1]\n",
    "    pv_plotter.add_mesh(mesh_slice)\n",
    "\n",
    "pv_plotter.show(jupyter_backend='static')"
   ]
  },
  {
   "attachments": {},
   "cell_type": "markdown",
   "metadata": {},
   "source": [
    "#### Normal slicing"
   ]
  },
  {
   "cell_type": "code",
   "execution_count": null,
   "metadata": {},
   "outputs": [],
   "source": [
    "# perform slices normal to the selected axis\n",
    "horizontal_slices = plotter.slice_on_axis('z', 3)  # 3 slices from max to min\n",
    "# Show the first slice\n",
    "print(toroidal_slices[0])  # (name of the slice, mesh slice, stl slice)\n",
    "\n",
    "# Use pyvista native plotter just as an example to show what is the output\n",
    "pv_plotter = pv.Plotter()\n",
    "for slices in horizontal_slices:\n",
    "    mesh_slice = slices[1]\n",
    "    pv_plotter.add_mesh(mesh_slice)\n",
    "\n",
    "pv_plotter.show(jupyter_backend='static')"
   ]
  },
  {
   "attachments": {},
   "cell_type": "markdown",
   "metadata": {},
   "source": [
    "#### General slicing"
   ]
  },
  {
   "cell_type": "code",
   "execution_count": null,
   "metadata": {},
   "outputs": [],
   "source": [
    "# General slicing using origin and normals for each slice\n",
    "# [name, x, y, z, ux, uy, uz]\n",
    "slices_param = [['slice1', 0, 0, 0, 1, 0, 0],\n",
    "                ['slice2', 500, 700, 300, 0.5, 0.5, 0]]\n",
    "general_slices = plotter.slice(slices_param)\n",
    "\n",
    "# Use pyvista native plotter just as an example to show what is the output\n",
    "pv_plotter = pv.Plotter()\n",
    "for slices in general_slices:\n",
    "    mesh_slice = slices[1]\n",
    "    stl_slice = slices[2]\n",
    "    pv_plotter.add_mesh(mesh_slice)\n",
    "    pv_plotter.add_mesh(stl_slice)\n",
    "\n",
    "pv_plotter.show(jupyter_backend='static')"
   ]
  },
  {
   "attachments": {},
   "cell_type": "markdown",
   "metadata": {},
   "source": [
    "### Build the Atlas"
   ]
  },
  {
   "cell_type": "code",
   "execution_count": null,
   "metadata": {},
   "outputs": [],
   "source": [
    "pv.global_theme.allow_empty_mesh = True\n",
    "\n",
    "# Time to plot the slices\n",
    "meshtal = Meshtal(\"meshtal\")\n",
    "stl = pv.read(\"iter1D.stl\")\n",
    "\n",
    "meshtal.readMesh()\n",
    "mesh = meshtal.mesh[1004].grid\n",
    "\n",
    "plotter = MeshPlotter(mesh, stl.scale(10))\n",
    "\n",
    "\n",
    "toroidal_slices = plotter.slice_toroidal(30)  # 30 deg. increment\n",
    "horizontal_slices = plotter.slice_on_axis(\"z\", 3)  # 3 slices from max to min\n",
    "global_mesh = plotter.mesh\n",
    "# Cycle on all the mesh quantities\n",
    "sections = []\n",
    "for array_name in global_mesh.array_names:\n",
    "\n",
    "    # Arbitrary logic can be inserted here\n",
    "    min_val = 1e6\n",
    "    max_val = 1e15\n",
    "    n_colors = 9\n",
    "    min_max = (min_val, max_val)\n",
    "\n",
    "    # Plot both the vertical and toroidal slice related to the quantity\n",
    "    tot_images = []\n",
    "    for slices in [toroidal_slices, horizontal_slices]:\n",
    "        # Plot the slices\n",
    "        images = plotter.plot_slices(\n",
    "            slices, array_name, n_colors=n_colors, min_max=min_max\n",
    "        )\n",
    "        tot_images.extend(images)\n",
    "\n",
    "    sections.append((array_name, tot_images))\n",
    "\n",
    "# Show one of the images that will build the atlas\n",
    "print(sections[0])\n",
    "print(sections[0][1])\n",
    "print(sections[0][1][-1])\n",
    "sections[0][1][-1][1]"
   ]
  },
  {
   "cell_type": "code",
   "execution_count": null,
   "metadata": {},
   "outputs": [],
   "source": [
    "import tempfile  # To have a scratch directory for the example\n",
    "\n",
    "# Finally build the atlas. This can be built either from folders containing\n",
    "# images, where each subfolder is interpreted as a new section, or adding each\n",
    "# section manually. This second option is recommended since it allows to avoid\n",
    "# saving the images to disk\n",
    "\n",
    "# initialize the atlas\n",
    "atlas = Atlas('Atlas example')\n",
    "\n",
    "# Decrease the default width of plots (by default they occupy the entire text\n",
    "# length)\n",
    "atlas.default_width = atlas.default_width*0.9\n",
    "\n",
    "# Build one section for each quantity\n",
    "for arrayname, images in sections:\n",
    "    atlas.add_section(arrayname, images)\n",
    "\n",
    "outpath = tempfile.gettempdir()\n",
    "print(outpath)  # We are saving in the default temporary directory\n",
    "atlas.save(outpath)"
   ]
  },
  {
   "cell_type": "markdown",
   "metadata": {},
   "source": [
    "### Add volume sampling error to CuV Meshtal files"
   ]
  },
  {
   "cell_type": "markdown",
   "metadata": {},
   "source": [
    "We are going to calculate the volume with a Monte Carlo integral. A random sample of N points inside a voxel is done, checking for each point if it falls inside the studied cell.\n",
    "\n",
    "$$V_r=1/N ∑_i b_i$$\n",
    "\n",
    "Where $b_i$ is a random variable that follows a binomial distribution (0 or 1) depending on if the point fell inside the studied cell. $V_r$ is the partial cell volume over the voxel volume.\n",
    "To  know the uncertainty of the estimator V_r we can apply the uncertainty propagation law, as each point is sampled independently.\n",
    "\n",
    "$$ σ_{(V_r)}^2=∑_i((∂V_r)/(∂b_i ))^2⋅σ_{b_i}^2 =∑_i1/N^2 ⋅σ_{b_i}^2$$\n",
    "\n",
    "All $b_i$ variables follow the same binomial probability distribution, that is, each point has the same chance to fall in the cell. Therefore, $σ_{(b_i)}^2=σ_b^2$ . Then we can make the sum so:\n",
    "\n",
    "$$σ_{V_r}^2=(σ_b^2)/N$$\n",
    "\n",
    "Where $σ_b^2$ can be calculated via the variance numeric estimator.\n",
    "\n",
    "$$σ_b^2=〈b^2 〉-〈b〉^2$$\n",
    "\n",
    "Up to this point, we have seen the same procedure as in many Monte Carlo integrals. For example, that if MCNP as seen in page 2-109 of the MCNP5 Manual I.However, the volume we are calculating is a binomial (0 or 1).\n",
    "\n",
    "$$〈b〉≈1/N ∑_ib_i =V_r$$\n",
    "$$〈b^2 〉≈1/N ∑_ib_i^2 =1/N ∑_ib_i =V_r$$\n",
    "\n",
    "Therefore: \n",
    "\n",
    "$$σ_{(V_r)}^2=(σ_b^2)/N=(〈b^2 〉-〈b〉^2)/N=(V_r-V_r^2)/N$$"
   ]
  },
  {
   "cell_type": "code",
   "execution_count": null,
   "metadata": {},
   "outputs": [],
   "source": [
    "import tempfile  # To have a scratch directory for the example\n",
    "import os\n",
    "import pyvista as pv\n",
    "from f4enix.output.meshtal import Meshtal\n",
    "from f4enix.output.cuv_sampling_error import add_sampling_error_to_vtk\n",
    "\n",
    "# Read a meshtal and create a VTK file\n",
    "meshtal = Meshtal(\"meshtal_cuv\")\n",
    "meshtal.readMesh()\n",
    "\n",
    "# write to vtk\n",
    "tmpdir = tempfile.gettempdir()\n",
    "outname = 'outfile'\n",
    "outpath = os.path.join(tmpdir, outname)\n",
    "meshtal.mesh[44].write(tmpdir, outfile=outname)\n",
    "\n",
    "# Read the VTK file\n",
    "grid = pv.read(os.path.join(tmpdir, outname + '.vtr'))\n",
    "\n",
    "# The amount of sampling points per voxel should be identified from the MCNP input file\n",
    "# by the user. In this example, it is set to 1000 points per voxel.\n",
    "grid_with_errors = add_sampling_error_to_vtk(\n",
    "        grid=grid, cuv_file_path=\"meshtal_cuv\", voxel_sampling_points=1000\n",
    "    )\n",
    "grid_with_errors"
   ]
  },
  {
   "cell_type": "markdown",
   "metadata": {},
   "source": [
    "## Apply transformations to FMESH grids"
   ]
  },
  {
   "cell_type": "markdown",
   "metadata": {},
   "source": [
    "It is possible to apply transformations to the FMESH tally grids of the meshtal file, given a MCNP TR card.\n",
    "The most standard way is by applying a TR card to a FMESH grid:"
   ]
  },
  {
   "cell_type": "code",
   "execution_count": null,
   "metadata": {},
   "outputs": [],
   "source": [
    "from numjuggler import parser\n",
    "from f4enix.output.meshtal import Meshtal\n",
    "\n",
    "# Define a -20 degrees rotation around the z axis with MCNP syntax\n",
    "tr_text = [\"*TR1 0 0 0 20.0000 70.0000 90 110.0000 20.0000 90 90 90 0\\n\"]\n",
    "\n",
    "## Generate the transformation card\n",
    "mcnp_transformation = parser.Card(tr_text, 5, 0)\n",
    "mcnp_transformation.get_values()\n",
    "\n",
    "# Read the meshtal file\n",
    "meshtal = Meshtal(\"meshtal_transform\")\n",
    "meshtal.readMesh()\n",
    "\n",
    "# Select the mesh to be transformed\n",
    "mesh_tally_2024 = meshtal.mesh[2024]\n",
    "\n",
    "# Plot the original mesh\n",
    "mesh_tally_2024.grid.plot(scalars=\"Value - Total\", show_edges=True, jupyter_backend='static')\n",
    "\n",
    "# Apply the transformation to the mesh\n",
    "mesh_tally_2024.apply_transformation(mcnp_transformation)\n",
    "\n",
    "# Plot the transformed mesh\n",
    "mesh_tally_2024.grid.plot(scalars=\"Value - Total\", show_edges=True, jupyter_backend='static')"
   ]
  },
  {
   "cell_type": "markdown",
   "metadata": {},
   "source": [
    "You can also apply multiple transformations to multiple meshes, just by providing a dictionary."
   ]
  },
  {
   "cell_type": "code",
   "execution_count": null,
   "metadata": {},
   "outputs": [],
   "source": [
    "from numjuggler import parser\n",
    "from f4enix.output.meshtal import Meshtal\n",
    "# Define a -20 degrees rotation around the z axis with MCNP syntax\n",
    "tr_rotation_1_text = [\"*TR1 0 0 0 20.0000 70.0000 90 110.0000 20.0000 90 90 90 0\\n\"]\n",
    "# Define a -45 degrees rotation around the z axis with MCNP syntax, with translation along x\n",
    "tr_rotation_2_text = [\"*TR1 10 0 0 45.0000 45.0000 90 135.0000 45.0000 90 90 90 0\\n\"]\n",
    "\n",
    "## Generate the transformation cards\n",
    "mcnp_transformation_1 = parser.Card(tr_rotation_1_text, 5, 0)\n",
    "mcnp_transformation_1.get_values()\n",
    "\n",
    "mcnp_transformation_2 = parser.Card(tr_rotation_2_text, 5, 0)\n",
    "mcnp_transformation_2.get_values()\n",
    "\n",
    "# Read the meshtal file\n",
    "meshtal = Meshtal(\"meshtal_transform\")\n",
    "meshtal.readMesh()\n",
    "\n",
    "dict_transformation = {2024: mcnp_transformation_1,\n",
    "                       2124: mcnp_transformation_2}\n",
    "\n",
    "meshtal.transform_multiple_fmesh(dict_transformation)\n",
    "\n",
    "# Select the mesh with the first transformation\n",
    "mesh_tally_2024 = meshtal.mesh[2024]\n",
    "\n",
    "# Plot the transformed mesh\n",
    "mesh_tally_2024.grid.plot(scalars=\"Value - Total\", show_edges=True, jupyter_backend='static')\n",
    "\n",
    "# Select the mesh with the second transformation\n",
    "mesh_tally_2124 = meshtal.mesh[2124]\n",
    "\n",
    "# Plot the transformed mesh\n",
    "mesh_tally_2124.grid.plot(scalars=\"Value - Total\", show_edges=True, jupyter_backend='static')"
   ]
  },
  {
   "cell_type": "markdown",
   "metadata": {},
   "source": [
    "Moreover, you can provide F4Enix with an Input object and let F4Enix transform all FMESH tallies\n",
    "according to the corresponding tr=... labels assigned to each FMESH card in the input"
   ]
  },
  {
   "cell_type": "code",
   "execution_count": null,
   "metadata": {},
   "outputs": [],
   "source": [
    "from f4enix.input.MCNPinput import Input\n",
    "from f4enix.output.meshtal import Meshtal\n",
    "\n",
    "# Read the meshtal file\n",
    "meshtal = Meshtal(\"meshtal_transform\")\n",
    "meshtal.readMesh()\n",
    "\n",
    "inp = Input.from_input(\"transforms.i\")\n",
    "\n",
    "meshtal.transform_fmesh(inp)"
   ]
  }
 ],
 "metadata": {
  "kernelspec": {
   "display_name": "jade-exp",
   "language": "python",
   "name": "python3"
  },
  "language_info": {
   "codemirror_mode": {
    "name": "ipython",
    "version": 3
   },
   "file_extension": ".py",
   "mimetype": "text/x-python",
   "name": "python",
   "nbconvert_exporter": "python",
   "pygments_lexer": "ipython3",
   "version": "3.9.19"
  }
 },
 "nbformat": 4,
 "nbformat_minor": 2
}
