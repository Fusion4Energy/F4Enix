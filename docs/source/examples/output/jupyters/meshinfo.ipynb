{
 "cells": [
  {
   "attachments": {},
   "cell_type": "markdown",
   "metadata": {},
   "source": [
    "## MESHINFO files"
   ]
  },
  {
   "attachments": {},
   "cell_type": "markdown",
   "metadata": {},
   "source": [
    "```{eval-rst}\n",
    "The complete API can be found at :py:class:`f4enix.output.meshinfo.MeshInfo`\n",
    "```\n",
    "\n",
    "This kind of files are additional files that are printed by a\n",
    "D1S-UNED run that contain information on the meshes defined\n",
    "in an MCNP input"
   ]
  },
  {
   "cell_type": "code",
   "execution_count": 24,
   "metadata": {},
   "outputs": [
    {
     "data": {
      "text/plain": [
       "{4: <f4enix.output.meshinfo.MeshInfoCyl at 0x1c9f22bf160>,\n",
       " 234: <f4enix.output.meshinfo.MeshInfoCyl at 0x1c9f22beec0>}"
      ]
     },
     "execution_count": 24,
     "metadata": {},
     "output_type": "execute_result"
    }
   ],
   "source": [
    "from f4enix.output.meshinfo import MeshInfoFile\n",
    "\n",
    "# load the mesh info from an existing file\n",
    "meshinfo_file = MeshInfoFile.from_file('meshinfo')\n",
    "meshinfo_file.info  # Each mesh info is stored in the .info dictionary"
   ]
  },
  {
   "cell_type": "code",
   "execution_count": 25,
   "metadata": {},
   "outputs": [
    {
     "name": "stdout",
     "output_type": "stream",
     "text": [
      "axis:  [0. 0. 1.]\n",
      "mesh type:  CoordinateType.CYL\n"
     ]
    }
   ],
   "source": [
    "# these are simple objects that store a quantity of data about the meshes\n",
    "# check the documentation for a complete list of attributes\n",
    "meshinfo = meshinfo_file.info[4]\n",
    "print('axis: ', meshinfo.axis)\n",
    "print('mesh type: ', meshinfo.coordinates)"
   ]
  },
  {
   "attachments": {},
   "cell_type": "markdown",
   "metadata": {},
   "source": [
    "The most important attribute though is its ``DataMass`` object, which contains\n",
    "a dataframe reporting the mass of each MCNP cell portion contained inside\n",
    "a specific voxel. The correspondent material is also provided."
   ]
  },
  {
   "cell_type": "code",
   "execution_count": 26,
   "metadata": {},
   "outputs": [
    {
     "data": {
      "text/html": [
       "<div>\n",
       "<style scoped>\n",
       "    .dataframe tbody tr th:only-of-type {\n",
       "        vertical-align: middle;\n",
       "    }\n",
       "\n",
       "    .dataframe tbody tr th {\n",
       "        vertical-align: top;\n",
       "    }\n",
       "\n",
       "    .dataframe thead th {\n",
       "        text-align: right;\n",
       "    }\n",
       "</style>\n",
       "<table border=\"1\" class=\"dataframe\">\n",
       "  <thead>\n",
       "    <tr style=\"text-align: right;\">\n",
       "      <th></th>\n",
       "      <th></th>\n",
       "      <th></th>\n",
       "      <th>Mass [g]</th>\n",
       "    </tr>\n",
       "    <tr>\n",
       "      <th>Voxel</th>\n",
       "      <th>Material</th>\n",
       "      <th>Cell</th>\n",
       "      <th></th>\n",
       "    </tr>\n",
       "  </thead>\n",
       "  <tbody>\n",
       "    <tr>\n",
       "      <th>1</th>\n",
       "      <th>0</th>\n",
       "      <th>4</th>\n",
       "      <td>0.000000</td>\n",
       "    </tr>\n",
       "    <tr>\n",
       "      <th>2</th>\n",
       "      <th>0</th>\n",
       "      <th>4</th>\n",
       "      <td>0.000000</td>\n",
       "    </tr>\n",
       "    <tr>\n",
       "      <th>3</th>\n",
       "      <th>0</th>\n",
       "      <th>4</th>\n",
       "      <td>0.000000</td>\n",
       "    </tr>\n",
       "    <tr>\n",
       "      <th>4</th>\n",
       "      <th>0</th>\n",
       "      <th>4</th>\n",
       "      <td>0.000000</td>\n",
       "    </tr>\n",
       "    <tr>\n",
       "      <th>5</th>\n",
       "      <th>0</th>\n",
       "      <th>4</th>\n",
       "      <td>0.000000</td>\n",
       "    </tr>\n",
       "    <tr>\n",
       "      <th>...</th>\n",
       "      <th>...</th>\n",
       "      <th>...</th>\n",
       "      <td>...</td>\n",
       "    </tr>\n",
       "    <tr>\n",
       "      <th>2348</th>\n",
       "      <th>1</th>\n",
       "      <th>1</th>\n",
       "      <td>121449.990840</td>\n",
       "    </tr>\n",
       "    <tr>\n",
       "      <th>2349</th>\n",
       "      <th>1</th>\n",
       "      <th>1</th>\n",
       "      <td>121449.990840</td>\n",
       "    </tr>\n",
       "    <tr>\n",
       "      <th>2350</th>\n",
       "      <th>1</th>\n",
       "      <th>1</th>\n",
       "      <td>48580.072062</td>\n",
       "    </tr>\n",
       "    <tr>\n",
       "      <th>2351</th>\n",
       "      <th>1</th>\n",
       "      <th>1</th>\n",
       "      <td>48580.072062</td>\n",
       "    </tr>\n",
       "    <tr>\n",
       "      <th>2352</th>\n",
       "      <th>1</th>\n",
       "      <th>101</th>\n",
       "      <td>24289.972926</td>\n",
       "    </tr>\n",
       "  </tbody>\n",
       "</table>\n",
       "<p>2352 rows × 1 columns</p>\n",
       "</div>"
      ],
      "text/plain": [
       "                          Mass [g]\n",
       "Voxel Material Cell               \n",
       "1     0        4          0.000000\n",
       "2     0        4          0.000000\n",
       "3     0        4          0.000000\n",
       "4     0        4          0.000000\n",
       "5     0        4          0.000000\n",
       "...                            ...\n",
       "2348  1        1     121449.990840\n",
       "2349  1        1     121449.990840\n",
       "2350  1        1      48580.072062\n",
       "2351  1        1      48580.072062\n",
       "2352  1        101    24289.972926\n",
       "\n",
       "[2352 rows x 1 columns]"
      ]
     },
     "execution_count": 26,
     "metadata": {},
     "output_type": "execute_result"
    }
   ],
   "source": [
    "datamass = meshinfo.data_mass\n",
    "datamass.df"
   ]
  },
  {
   "attachments": {},
   "cell_type": "markdown",
   "metadata": {},
   "source": [
    "A few helper methods have also been provided for this class."
   ]
  },
  {
   "cell_type": "code",
   "execution_count": 27,
   "metadata": {},
   "outputs": [
    {
     "name": "stdout",
     "output_type": "stream",
     "text": [
      "cells with material M1\n",
      "[  2 201   1 101]\n",
      "filtered df\n"
     ]
    },
    {
     "data": {
      "text/html": [
       "<div>\n",
       "<style scoped>\n",
       "    .dataframe tbody tr th:only-of-type {\n",
       "        vertical-align: middle;\n",
       "    }\n",
       "\n",
       "    .dataframe tbody tr th {\n",
       "        vertical-align: top;\n",
       "    }\n",
       "\n",
       "    .dataframe thead th {\n",
       "        text-align: right;\n",
       "    }\n",
       "</style>\n",
       "<table border=\"1\" class=\"dataframe\">\n",
       "  <thead>\n",
       "    <tr style=\"text-align: right;\">\n",
       "      <th></th>\n",
       "      <th></th>\n",
       "      <th></th>\n",
       "      <th>Mass [g]</th>\n",
       "    </tr>\n",
       "    <tr>\n",
       "      <th>Voxel</th>\n",
       "      <th>Material</th>\n",
       "      <th>Cell</th>\n",
       "      <th></th>\n",
       "    </tr>\n",
       "  </thead>\n",
       "  <tbody>\n",
       "    <tr>\n",
       "      <th>1</th>\n",
       "      <th>0</th>\n",
       "      <th>4</th>\n",
       "      <td>0.0</td>\n",
       "    </tr>\n",
       "    <tr>\n",
       "      <th>2</th>\n",
       "      <th>0</th>\n",
       "      <th>4</th>\n",
       "      <td>0.0</td>\n",
       "    </tr>\n",
       "    <tr>\n",
       "      <th>120</th>\n",
       "      <th>0</th>\n",
       "      <th>4</th>\n",
       "      <td>0.0</td>\n",
       "    </tr>\n",
       "  </tbody>\n",
       "</table>\n",
       "</div>"
      ],
      "text/plain": [
       "                     Mass [g]\n",
       "Voxel Material Cell          \n",
       "1     0        4          0.0\n",
       "2     0        4          0.0\n",
       "120   0        4          0.0"
      ]
     },
     "execution_count": 27,
     "metadata": {},
     "output_type": "execute_result"
    }
   ],
   "source": [
    "# get a list of cells having a specific material\n",
    "print('cells with material M1')\n",
    "print(datamass.get_cells_from_materials([1]))\n",
    "\n",
    "# Apply some filters to the DF\n",
    "print('filtered df')\n",
    "datamass.get_filtered_dataframe(voxels=[1, 2, 50, 120], materials=[0],\n",
    "                                cells=[4])"
   ]
  }
 ],
 "metadata": {
  "kernelspec": {
   "display_name": "f4enix",
   "language": "python",
   "name": "python3"
  },
  "language_info": {
   "codemirror_mode": {
    "name": "ipython",
    "version": 3
   },
   "file_extension": ".py",
   "mimetype": "text/x-python",
   "name": "python",
   "nbconvert_exporter": "python",
   "pygments_lexer": "ipython3",
   "version": "3.10.13"
  }
 },
 "nbformat": 4,
 "nbformat_minor": 2
}
