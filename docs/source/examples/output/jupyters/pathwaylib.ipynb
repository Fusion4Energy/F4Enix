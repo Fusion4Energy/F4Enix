{
 "cells": [
  {
   "cell_type": "markdown",
   "metadata": {},
   "source": [
    "## Decay Pathway Library"
   ]
  },
  {
   "cell_type": "markdown",
   "metadata": {},
   "source": [
    "```{eval-rst}\n",
    "The complete API can be found at :py:class:`f4enix.output.decay_pathways.PathwayLibrary`\n",
    "```\n",
    "\n",
    "At Fusion For Energy, a number of activation studies was conducted using FISPACT in order to individuate which are the decay pathways that contribute to either 95% or 99% of the contact dose. These studies were run for different spectra, materials and cooling times. A database of the results has been built and can be interrogated with simplified F4Enix methods to get lists of important pathways depending on the specific applications."
   ]
  },
  {
   "cell_type": "markdown",
   "metadata": {},
   "source": [
    "### Available materials, spectra, and cooling times"
   ]
  },
  {
   "cell_type": "markdown",
   "metadata": {},
   "source": [
    "First of all let's explore the available materials, spectra and cooling times for which data is available. These are constants that can be imported and printed using F4Enix"
   ]
  },
  {
   "cell_type": "markdown",
   "metadata": {},
   "source": [
    "Materials are implemented as ``MaterialComposition`` objects. All the available ones can be found at ``f4enix.material_library``"
   ]
  },
  {
   "cell_type": "code",
   "execution_count": 7,
   "metadata": {},
   "outputs": [
    {
     "name": "stdout",
     "output_type": "stream",
     "text": [
      "Titanium Alloy, Grade 5\n",
      "['H', 'C', 'N', 'O', 'Al', 'Ti', 'V', 'Fe']\n",
      "[0.011000000000000001, 0.056999999999999995, 0.021, 0.14100000000000001, 61.25000000000001, 89.363, 4.0, 0.28300000000000003]\n"
     ]
    }
   ],
   "source": [
    "from f4enix.material_library import TITANIUM5\n",
    "\n",
    "print(TITANIUM5.name) # extended name of the material\n",
    "print(TITANIUM5.elem)  # elemental composition (% in mass)\n",
    "print(TITANIUM5.perc)  # percentage of each element"
   ]
  },
  {
   "cell_type": "code",
   "execution_count": 8,
   "metadata": {},
   "outputs": [
    {
     "name": "stdout",
     "output_type": "stream",
     "text": [
      "[MaterialComposition(Pure Silver), MaterialComposition(W with impurities), MaterialComposition(Pure Lead), MaterialComposition(Al-6061), MaterialComposition(Al-Brz), MaterialComposition(Borated Heavy Concrete), MaterialComposition(Concrete), MaterialComposition(Copper Cromium Zirconium (CuCrZr)), MaterialComposition(Eurofer-97), MaterialComposition(Inconel-718), MaterialComposition(Nb3Sn), MaterialComposition(NbTi), MaterialComposition(SS660), MaterialComposition(SS316L(N)-IG), MaterialComposition(Microtherm), MaterialComposition(Titanium Alloy, Grade 5), MaterialComposition(Beryllium)]\n"
     ]
    }
   ],
   "source": [
    "from f4enix.material_library import AVAILABLE_MATERIALS\n",
    "\n",
    "print(AVAILABLE_MATERIALS) # list of available materials"
   ]
  },
  {
   "cell_type": "markdown",
   "metadata": {},
   "source": [
    "Available cooling times and spectra can be found instead at ``f4enix.output.decay_pathways``"
   ]
  },
  {
   "cell_type": "code",
   "execution_count": 10,
   "metadata": {},
   "outputs": [
    {
     "name": "stdout",
     "output_type": "stream",
     "text": [
      "['24h', '11.6d', '30d', '180d', '1y', '10y']\n",
      "['First Wall (315g)', 'Eq. port interspace (175g)', 'N-17 neutron emission (175g)']\n"
     ]
    }
   ],
   "source": [
    "from f4enix.output.decay_pathways import AVAILABLE_COOLING_TIMES, AVAILABLE_SPECTRA\n",
    "\n",
    "print(AVAILABLE_COOLING_TIMES) # list of available cooling times\n",
    "print(AVAILABLE_SPECTRA) # list of available decay spectra"
   ]
  },
  {
   "cell_type": "markdown",
   "metadata": {},
   "source": [
    "### Filtering decay pathways"
   ]
  },
  {
   "cell_type": "markdown",
   "metadata": {},
   "source": [
    "The data regarding all decay pathways is stored in the ``PathwayLibrary`` object. The raw data is contained in the ``library`` attribute (a pandas dataframe) that can be custom filtered by the user."
   ]
  },
  {
   "cell_type": "code",
   "execution_count": 20,
   "metadata": {},
   "outputs": [
    {
     "data": {
      "text/html": [
       "<div>\n",
       "<style scoped>\n",
       "    .dataframe tbody tr th:only-of-type {\n",
       "        vertical-align: middle;\n",
       "    }\n",
       "\n",
       "    .dataframe tbody tr th {\n",
       "        vertical-align: top;\n",
       "    }\n",
       "\n",
       "    .dataframe thead th {\n",
       "        text-align: right;\n",
       "    }\n",
       "</style>\n",
       "<table border=\"1\" class=\"dataframe\">\n",
       "  <thead>\n",
       "    <tr style=\"text-align: right;\">\n",
       "      <th></th>\n",
       "      <th></th>\n",
       "      <th></th>\n",
       "      <th></th>\n",
       "      <th></th>\n",
       "      <th></th>\n",
       "      <th>max dose % at 24h</th>\n",
       "      <th>max dose % at 11.6d</th>\n",
       "      <th>max dose % at 30d</th>\n",
       "      <th>max dose % at 180d</th>\n",
       "      <th>max dose % at 1y</th>\n",
       "      <th>max dose % at 10y</th>\n",
       "      <th>max dose %</th>\n",
       "      <th>pathway max % dose</th>\n",
       "    </tr>\n",
       "    <tr>\n",
       "      <th>dose</th>\n",
       "      <th>spectrum</th>\n",
       "      <th>element</th>\n",
       "      <th>isotope</th>\n",
       "      <th>pathway</th>\n",
       "      <th>material</th>\n",
       "      <th></th>\n",
       "      <th></th>\n",
       "      <th></th>\n",
       "      <th></th>\n",
       "      <th></th>\n",
       "      <th></th>\n",
       "      <th></th>\n",
       "      <th></th>\n",
       "    </tr>\n",
       "  </thead>\n",
       "  <tbody>\n",
       "    <tr>\n",
       "      <th rowspan=\"4\" valign=\"top\">Dose 95%</th>\n",
       "      <th>First Wall (315g)</th>\n",
       "      <th>Mn</th>\n",
       "      <th>54</th>\n",
       "      <th>Fe54 -(n,p)-&gt; Mn54</th>\n",
       "      <th>SS316L(N)-IG</th>\n",
       "      <td>22.658241</td>\n",
       "      <td>24.765922</td>\n",
       "      <td>26.511121</td>\n",
       "      <td>35.902842</td>\n",
       "      <td>35.933148</td>\n",
       "      <td>NaN</td>\n",
       "      <td>35.933148</td>\n",
       "      <td>21.527549</td>\n",
       "    </tr>\n",
       "    <tr>\n",
       "      <th rowspan=\"2\" valign=\"top\">Eq. port interspace (175g)</th>\n",
       "      <th>Co</th>\n",
       "      <th>58</th>\n",
       "      <th>Ni58 -(n,p)-&gt; Co58</th>\n",
       "      <th>SS316L(N)-IG</th>\n",
       "      <td>57.629401</td>\n",
       "      <td>57.413098</td>\n",
       "      <td>54.158672</td>\n",
       "      <td>26.590068</td>\n",
       "      <td>7.169699</td>\n",
       "      <td>NaN</td>\n",
       "      <td>57.629401</td>\n",
       "      <td>31.442025</td>\n",
       "    </tr>\n",
       "    <tr>\n",
       "      <th>Na</th>\n",
       "      <th>24</th>\n",
       "      <th>Na23 -(n,g)-&gt; Na24</th>\n",
       "      <th>Microtherm</th>\n",
       "      <td>23.232854</td>\n",
       "      <td>NaN</td>\n",
       "      <td>NaN</td>\n",
       "      <td>NaN</td>\n",
       "      <td>NaN</td>\n",
       "      <td>NaN</td>\n",
       "      <td>23.232854</td>\n",
       "      <td>0.150781</td>\n",
       "    </tr>\n",
       "    <tr>\n",
       "      <th>First Wall (315g)</th>\n",
       "      <th>Eu</th>\n",
       "      <th>154</th>\n",
       "      <th>Eu153 -(n,g)-&gt; Eu154m -(IT)-&gt;  Eu154</th>\n",
       "      <th>Concrete</th>\n",
       "      <td>NaN</td>\n",
       "      <td>4.885828</td>\n",
       "      <td>5.698998</td>\n",
       "      <td>8.036286</td>\n",
       "      <td>9.745081</td>\n",
       "      <td>14.717896</td>\n",
       "      <td>14.717896</td>\n",
       "      <td>0.235486</td>\n",
       "    </tr>\n",
       "    <tr>\n",
       "      <th>Dose 99%</th>\n",
       "      <th>Eq. port interspace (175g)</th>\n",
       "      <th>Co</th>\n",
       "      <th>60</th>\n",
       "      <th>Co59 -(n,g)-&gt; Co60</th>\n",
       "      <th>Al-Brz</th>\n",
       "      <td>24.624931</td>\n",
       "      <td>52.213930</td>\n",
       "      <td>55.868222</td>\n",
       "      <td>78.607649</td>\n",
       "      <td>90.594154</td>\n",
       "      <td>99.970666</td>\n",
       "      <td>99.970666</td>\n",
       "      <td>10.768840</td>\n",
       "    </tr>\n",
       "  </tbody>\n",
       "</table>\n",
       "</div>"
      ],
      "text/plain": [
       "                                                                                                       max dose % at 24h  ...  pathway max % dose\n",
       "dose     spectrum                   element isotope pathway                              material                         ...                    \n",
       "Dose 95% First Wall (315g)          Mn      54      Fe54 -(n,p)-> Mn54                   SS316L(N)-IG          22.658241  ...           21.527549\n",
       "         Eq. port interspace (175g) Co      58      Ni58 -(n,p)-> Co58                   SS316L(N)-IG          57.629401  ...           31.442025\n",
       "                                    Na      24      Na23 -(n,g)-> Na24                   Microtherm            23.232854  ...            0.150781\n",
       "         First Wall (315g)          Eu      154     Eu153 -(n,g)-> Eu154m -(IT)->  Eu154 Concrete                    NaN  ...            0.235486\n",
       "Dose 99% Eq. port interspace (175g) Co      60      Co59 -(n,g)-> Co60                   Al-Brz                24.624931  ...           10.768840\n",
       "\n",
       "[5 rows x 8 columns]"
      ]
     },
     "execution_count": 20,
     "metadata": {},
     "output_type": "execute_result"
    }
   ],
   "source": [
    "from f4enix.output.decay_pathways import PathwayLibrary\n",
    "\n",
    "plib = PathwayLibrary()\n",
    "plib.library.sample(n=5)"
   ]
  },
  {
   "cell_type": "markdown",
   "metadata": {},
   "source": [
    "Some useful methods to filter the global dataframes are shipped directly in F4Enix. The first one is a simple filter of the dataframe."
   ]
  },
  {
   "cell_type": "code",
   "execution_count": 21,
   "metadata": {},
   "outputs": [
    {
     "data": {
      "text/html": [
       "<div>\n",
       "<style scoped>\n",
       "    .dataframe tbody tr th:only-of-type {\n",
       "        vertical-align: middle;\n",
       "    }\n",
       "\n",
       "    .dataframe tbody tr th {\n",
       "        vertical-align: top;\n",
       "    }\n",
       "\n",
       "    .dataframe thead th {\n",
       "        text-align: right;\n",
       "    }\n",
       "</style>\n",
       "<table border=\"1\" class=\"dataframe\">\n",
       "  <thead>\n",
       "    <tr style=\"text-align: right;\">\n",
       "      <th></th>\n",
       "      <th></th>\n",
       "      <th></th>\n",
       "      <th></th>\n",
       "      <th></th>\n",
       "      <th></th>\n",
       "      <th>max dose % at 24h</th>\n",
       "      <th>max dose % at 11.6d</th>\n",
       "    </tr>\n",
       "    <tr>\n",
       "      <th>dose</th>\n",
       "      <th>spectrum</th>\n",
       "      <th>element</th>\n",
       "      <th>isotope</th>\n",
       "      <th>pathway</th>\n",
       "      <th>material</th>\n",
       "      <th></th>\n",
       "      <th></th>\n",
       "    </tr>\n",
       "  </thead>\n",
       "  <tbody>\n",
       "    <tr>\n",
       "      <th rowspan=\"5\" valign=\"top\">Dose 95%</th>\n",
       "      <th rowspan=\"5\" valign=\"top\">First Wall (315g)</th>\n",
       "      <th>Co</th>\n",
       "      <th>60</th>\n",
       "      <th>Co59 -(n,g)-&gt; Co60m -(IT)-&gt;  Co60</th>\n",
       "      <th>SS316L(N)-IG</th>\n",
       "      <td>17.713896</td>\n",
       "      <td>19.746360</td>\n",
       "    </tr>\n",
       "    <tr>\n",
       "      <th>Ta</th>\n",
       "      <th>182</th>\n",
       "      <th>Ta181 -(n,g)-&gt; Ta182</th>\n",
       "      <th>Concrete</th>\n",
       "      <td>0.689894</td>\n",
       "      <td>7.840868</td>\n",
       "    </tr>\n",
       "    <tr>\n",
       "      <th>Ni</th>\n",
       "      <th>57</th>\n",
       "      <th>Ni58 -(n,2n)-&gt; Ni57</th>\n",
       "      <th>SS316L(N)-IG</th>\n",
       "      <td>2.506897</td>\n",
       "      <td>NaN</td>\n",
       "    </tr>\n",
       "    <tr>\n",
       "      <th>Sc</th>\n",
       "      <th>48</th>\n",
       "      <th>Ti48 -(n,p)-&gt; Sc48</th>\n",
       "      <th>Concrete</th>\n",
       "      <td>0.677385</td>\n",
       "      <td>NaN</td>\n",
       "    </tr>\n",
       "    <tr>\n",
       "      <th>Rb</th>\n",
       "      <th>84</th>\n",
       "      <th>Rb85 -(n,2n)-&gt; Rb84m -(IT)-&gt;  Rb84</th>\n",
       "      <th>Concrete</th>\n",
       "      <td>NaN</td>\n",
       "      <td>1.294868</td>\n",
       "    </tr>\n",
       "  </tbody>\n",
       "</table>\n",
       "</div>"
      ],
      "text/plain": [
       "                                                                                            max dose % at 24h  max dose % at 11.6d\n",
       "dose     spectrum          element isotope pathway                            material                                            \n",
       "Dose 95% First Wall (315g) Co      60      Co59 -(n,g)-> Co60m -(IT)->  Co60  SS316L(N)-IG          17.713896            19.746360\n",
       "                           Ta      182     Ta181 -(n,g)-> Ta182               Concrete               0.689894             7.840868\n",
       "                           Ni      57      Ni58 -(n,2n)-> Ni57                SS316L(N)-IG           2.506897                  NaN\n",
       "                           Sc      48      Ti48 -(n,p)-> Sc48                 Concrete               0.677385                  NaN\n",
       "                           Rb      84      Rb85 -(n,2n)-> Rb84m -(IT)->  Rb84 Concrete                    NaN             1.294868"
      ]
     },
     "execution_count": 21,
     "metadata": {},
     "output_type": "execute_result"
    }
   ],
   "source": [
    "from f4enix.output.decay_pathways import FIRST_WALL\n",
    "from f4enix.material_library import CONCRETE, SS316LNIG\n",
    "\n",
    "\n",
    "# get a subset of the global dataframe. If no subsets are\n",
    "# specified in the arguments, all available ones are returned.\n",
    "df = plib.filter_pathways(\n",
    "    materials=[CONCRETE, SS316LNIG],\n",
    "    cooling_times=['24h', '11.6d'],\n",
    "    spectrum=[FIRST_WALL],\n",
    "    dose=95)\n",
    "df.sample(n=5)\n",
    "# df.to_csv('pathways.csv')  # to save it to an excel file"
   ]
  },
  {
   "cell_type": "markdown",
   "metadata": {},
   "source": [
    "The second one allows to get a unique list of decay pathways that are important for the requested scenario."
   ]
  },
  {
   "cell_type": "code",
   "execution_count": 23,
   "metadata": {},
   "outputs": [
    {
     "data": {
      "text/html": [
       "<div>\n",
       "<style scoped>\n",
       "    .dataframe tbody tr th:only-of-type {\n",
       "        vertical-align: middle;\n",
       "    }\n",
       "\n",
       "    .dataframe tbody tr th {\n",
       "        vertical-align: top;\n",
       "    }\n",
       "\n",
       "    .dataframe thead th {\n",
       "        text-align: right;\n",
       "    }\n",
       "</style>\n",
       "<table border=\"1\" class=\"dataframe\">\n",
       "  <thead>\n",
       "    <tr style=\"text-align: right;\">\n",
       "      <th></th>\n",
       "      <th></th>\n",
       "      <th></th>\n",
       "      <th>max dose % at 24h</th>\n",
       "      <th>max dose % at 11.6d</th>\n",
       "    </tr>\n",
       "    <tr>\n",
       "      <th>element</th>\n",
       "      <th>isotope</th>\n",
       "      <th>pathway</th>\n",
       "      <th></th>\n",
       "      <th></th>\n",
       "    </tr>\n",
       "  </thead>\n",
       "  <tbody>\n",
       "    <tr>\n",
       "      <th rowspan=\"5\" valign=\"top\">Na</th>\n",
       "      <th>22</th>\n",
       "      <th>Na23 -(n,2n)-&gt; Na22</th>\n",
       "      <td>0.860689</td>\n",
       "      <td>10.347405</td>\n",
       "    </tr>\n",
       "    <tr>\n",
       "      <th rowspan=\"4\" valign=\"top\">24</th>\n",
       "      <th>Al27 -(n,a)-&gt; Na24</th>\n",
       "      <td>86.295560</td>\n",
       "      <td>NaN</td>\n",
       "    </tr>\n",
       "    <tr>\n",
       "      <th>Na23 -(n,g)-&gt; Na24m -(IT)-&gt;  Na24</th>\n",
       "      <td>86.295560</td>\n",
       "      <td>NaN</td>\n",
       "    </tr>\n",
       "    <tr>\n",
       "      <th>Na23 -(n,g)-&gt; Na24</th>\n",
       "      <td>86.295560</td>\n",
       "      <td>NaN</td>\n",
       "    </tr>\n",
       "    <tr>\n",
       "      <th>Mg24 -(n,p)-&gt; Na24m -(IT)-&gt;  Na24</th>\n",
       "      <td>86.295560</td>\n",
       "      <td>NaN</td>\n",
       "    </tr>\n",
       "  </tbody>\n",
       "</table>\n",
       "</div>"
      ],
      "text/plain": [
       "                                                   max dose % at 24h  max dose % at 11.6d\n",
       "element isotope pathway                                                                  \n",
       "Na      22      Na23 -(n,2n)-> Na22                         0.860689            10.347405\n",
       "        24      Al27 -(n,a)-> Na24                         86.295560                  NaN\n",
       "                Na23 -(n,g)-> Na24m -(IT)->  Na24          86.295560                  NaN\n",
       "                Na23 -(n,g)-> Na24                         86.295560                  NaN\n",
       "                Mg24 -(n,p)-> Na24m -(IT)->  Na24          86.295560                  NaN"
      ]
     },
     "execution_count": 23,
     "metadata": {},
     "output_type": "execute_result"
    }
   ],
   "source": [
    "df = plib.get_pathways(\n",
    "    materials=[CONCRETE, SS316LNIG],\n",
    "    cooling_times=['24h', '11.6d'],\n",
    "    spectrum=[FIRST_WALL],\n",
    "    dose=95)\n",
    "df.head()"
   ]
  },
  {
   "cell_type": "code",
   "execution_count": null,
   "metadata": {},
   "outputs": [],
   "source": []
  }
 ],
 "metadata": {
  "kernelspec": {
   "display_name": "f4enix",
   "language": "python",
   "name": "python3"
  },
  "language_info": {
   "codemirror_mode": {
    "name": "ipython",
    "version": 3
   },
   "file_extension": ".py",
   "mimetype": "text/x-python",
   "name": "python",
   "nbconvert_exporter": "python",
   "pygments_lexer": "ipython3",
   "version": "3.10.13"
  }
 },
 "nbformat": 4,
 "nbformat_minor": 2
}
