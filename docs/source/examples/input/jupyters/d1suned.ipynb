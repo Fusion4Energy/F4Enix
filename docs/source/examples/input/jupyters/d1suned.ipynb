{
 "cells": [
  {
   "attachments": {},
   "cell_type": "markdown",
   "metadata": {},
   "source": [
    "## D1S-UNED files"
   ]
  },
  {
   "attachments": {},
   "cell_type": "markdown",
   "metadata": {},
   "source": [
    "### Reaction file"
   ]
  },
  {
   "attachments": {},
   "cell_type": "markdown",
   "metadata": {},
   "source": [
    "```{eval-rst}\n",
    "The complete API can be found at :py:class:`f4enix.input.d1suned.ReactionFile`\n",
    "```\n",
    "\n",
    "Reaction files (default name 'reac') contain all the reaction pathways that\n",
    "should be considered during a D1S-UNED simulation. They are implemented in\n",
    "F4Enix as a simple list of single reactions."
   ]
  },
  {
   "cell_type": "code",
   "execution_count": 23,
   "metadata": {},
   "outputs": [
    {
     "data": {
      "text/plain": [
       "\n",
       "parent: 1001.91c\n",
       "MT channel: 102\n",
       "daughter: 1002\n",
       "comment: fake reaction"
      ]
     },
     "execution_count": 23,
     "metadata": {},
     "output_type": "execute_result"
    }
   ],
   "source": [
    "from f4enix.input.d1suned import Reaction, ReactionFile\n",
    "\n",
    "# Generate a single reaction (it can also be created from a formatted string)\n",
    "reac = Reaction('1001.91c', 102, '1002', comment='fake reaction')\n",
    "reac"
   ]
  },
  {
   "cell_type": "code",
   "execution_count": 24,
   "metadata": {},
   "outputs": [
    {
     "data": {
      "text/plain": [
       "       Parent     MT    Daughter                                 Comment\n",
       "    26054.99c    102       26055                                    Fe55\n",
       "    26054.99c    103       25054                                    Mn54\n",
       "    26054.99c    107       24051                                    Cr51\n",
       "    26056.99c    105       25054                                    Mn54\n",
       "    26056.99c    103       25056                                    Mn56\n",
       "    26056.99c     16       26055                                    Fe55\n",
       "    26057.99c     28       25056                                    Mn56\n",
       "    26057.99c    104       25056                                    Mn56\n",
       "    26058.99c    102       26059                                    Fe59\n",
       "    26058.99c    105       25056                                    Mn56\n",
       "    78195.99c    304    78195900                                  Pt195m"
      ]
     },
     "execution_count": 24,
     "metadata": {},
     "output_type": "execute_result"
    }
   ],
   "source": [
    "import tempfile\n",
    "\n",
    "# A reaction file can be generated from a list of reactions and saved\n",
    "reac_file = ReactionFile([reac])\n",
    "outpath = tempfile.gettempdir()\n",
    "reac_file.write(outpath)\n",
    "\n",
    "# But more often is instantiated directly from an exisiting file\n",
    "# Note that metastable elements have a '900' added to their zaid number\n",
    "reac_file = ReactionFile.from_text('reac_fe')\n",
    "reac_file"
   ]
  },
  {
   "cell_type": "code",
   "execution_count": 25,
   "metadata": {},
   "outputs": [
    {
     "name": "stdout",
     "output_type": "stream",
     "text": [
      "       Parent     MT    Daughter                                 Comment\n",
      "    26054.98c    102       26055                                    Fe55\n",
      "    26054.98c    103       25054                                    Mn54\n",
      "    26054.98c    107       24051                                    Cr51\n",
      "    26056.98c    105       25054                                    Mn54\n",
      "    26056.98c    103       25056                                    Mn56\n",
      "    26056.98c     16       26055                                    Fe55\n",
      "    26057.98c     28       25056                                    Mn56\n",
      "    26057.98c    104       25056                                    Mn56\n",
      "    26058.98c    102       26059                                    Fe59\n",
      "    26058.98c    105       25056                                    Mn56\n",
      "    78195.98c    304    78195900                                  Pt195m\n",
      "\n",
      "Parent list:\n"
     ]
    },
    {
     "data": {
      "text/plain": [
       "['26054', '26056', '26057', '26058', '78195']"
      ]
     },
     "execution_count": 25,
     "metadata": {},
     "output_type": "execute_result"
    }
   ],
   "source": [
    "# a convenient method is also provided to change the activation library to use\n",
    "reac_file.change_lib('98c')\n",
    "print(reac_file)\n",
    "\n",
    "# and it is also possible to get a list of parents\n",
    "print('Parent list:')\n",
    "reac_file.get_parents()"
   ]
  },
  {
   "attachments": {},
   "cell_type": "markdown",
   "metadata": {},
   "source": [
    "### Irradiation file"
   ]
  },
  {
   "attachments": {},
   "cell_type": "markdown",
   "metadata": {},
   "source": [
    "```{eval-rst}\n",
    "The complete API can be found at :py:class:`f4enix.input.d1suned.IrradiationFile``\n",
    "```\n",
    "\n",
    "Irradiation files contain information related to the time correction\n",
    "factors to be used in the D1S-UNED calculation."
   ]
  },
  {
   "cell_type": "code",
   "execution_count": 26,
   "metadata": {},
   "outputs": [
    {
     "name": "stdout",
     "output_type": "stream",
     "text": [
      "\n",
      "Daughter: 26059\n",
      "lambda [1/s]: 1800.0\n",
      "times: ('4e3', '5e3')\n",
      "comment: Fake irr\n",
      "\n"
     ]
    }
   ],
   "source": [
    "from f4enix.input.d1suned import Irradiation, IrradiationFile\n",
    "\n",
    "# generate a single irradiation from scratch\n",
    "irr = Irradiation(26059, 1.8e3, ['4e3', '5e3'], comment='Fake irr')\n",
    "print(irr)"
   ]
  },
  {
   "cell_type": "code",
   "execution_count": 27,
   "metadata": {},
   "outputs": [
    {
     "data": {
      "text/plain": [
       "[['24051', '2.896e-07', '5.982e+00', '5.697e+00', 'Cr51'],\n",
       " ['25054', '2.570e-08', '5.881e+00', '1.829e+00', 'Mn54'],\n",
       " ['26055', '8.031e-09', '4.487e+00', '6.364e-01', 'Fe55'],\n",
       " ['27062', '7.702e-03', '1.336e+00', '1', 'Co62'],\n",
       " ['27062900', '8.305e-04', '4.151e-01', '1', 'Co62m']]"
      ]
     },
     "execution_count": 27,
     "metadata": {},
     "output_type": "execute_result"
    }
   ],
   "source": [
    "import tempfile\n",
    "\n",
    "# More often an existing irradiation file is parsed\n",
    "irrad_file = IrradiationFile.from_text('irr_test')\n",
    "\n",
    "# eliminate the last irradiation and save\n",
    "irrad_file.irr_schedules = irrad_file.irr_schedules[:-1]\n",
    "irrad_file.write(tempfile.gettempdir())\n",
    "\n",
    "# get the list of irradiation schedules\n",
    "irrad_file.irr_schedules"
   ]
  },
  {
   "cell_type": "code",
   "execution_count": 28,
   "metadata": {},
   "outputs": [
    {
     "name": "stdout",
     "output_type": "stream",
     "text": [
      "\n",
      "Daughter: 24051\n",
      "lambda [1/s]: 2.896e-07\n",
      "times: ('5.982e+00', '5.697e+00')\n",
      "comment: Cr51\n",
      "\n",
      "['24051', '25054', '26055', '27062', '27062900']\n"
     ]
    }
   ],
   "source": [
    "# auxiliary method to retrieve a specific irradiation\n",
    "print(irrad_file.get_irrad('24051'))\n",
    "\n",
    "# auxiliary method to get all daughters\n",
    "print(irrad_file.get_daughters())"
   ]
  },
  {
   "cell_type": "markdown",
   "metadata": {},
   "source": [
    "You can also add/remove irradiation schedules and modify them:"
   ]
  },
  {
   "cell_type": "code",
   "execution_count": 29,
   "metadata": {},
   "outputs": [
    {
     "name": "stdout",
     "output_type": "stream",
     "text": [
      "\n",
      "Daughter: 24051\n",
      "lambda [1/s]: 2.896e-07\n",
      "times: ('5.982e+00', '5.697e+00', '5.982e+00', '5.697e+00')\n",
      "comment: Cr51\n",
      "\n"
     ]
    }
   ],
   "source": [
    "new_times = {\n",
    "    \"24051\": [\"5.982e+00\", \"5.697e+00\"],\n",
    "    \"25054\": [\"5.881e+00\", \"1.829e+00\"],\n",
    "    \"26055\": [\"4.487e+00\", \"6.364e-01\"],\n",
    "    \"27062\": [\"1.336e+00\", \"4.151e-01\"],\n",
    "    \"27062900\": [\"4.151e-01\", \"4.151e-01\"],\n",
    "}\n",
    "irrad_file.add_irradiation_times(new_times)\n",
    "print(irrad_file.get_irrad('24051'))"
   ]
  },
  {
   "cell_type": "code",
   "execution_count": 30,
   "metadata": {},
   "outputs": [
    {
     "name": "stdout",
     "output_type": "stream",
     "text": [
      "\n",
      "Daughter: 24051\n",
      "lambda [1/s]: 2.896e-07\n",
      "times: ('5.982e+00', '5.697e+00', '5.982e+00', '4.560e+00')\n",
      "comment: Cr51\n",
      "\n"
     ]
    }
   ],
   "source": [
    "irrad_file.irr_schedules[0].modify_time_val(3, 4.56)\n",
    "print(irrad_file.get_irrad('24051'))"
   ]
  },
  {
   "cell_type": "code",
   "execution_count": 31,
   "metadata": {},
   "outputs": [
    {
     "name": "stdout",
     "output_type": "stream",
     "text": [
      "\n",
      "Daughter: 24051\n",
      "lambda [1/s]: 2.896e-07\n",
      "times: ('5.982e+00', '5.697e+00', '5.982e+00')\n",
      "comment: Cr51\n",
      "\n"
     ]
    }
   ],
   "source": [
    "irrad_file.remove_irradiation_time(3)\n",
    "print(irrad_file.get_irrad('24051'))"
   ]
  },
  {
   "attachments": {},
   "cell_type": "markdown",
   "metadata": {},
   "source": [
    "### D1S MCNP input"
   ]
  },
  {
   "attachments": {},
   "cell_type": "markdown",
   "metadata": {},
   "source": [
    "The D1S-UNED MCNP input is exactly the same as a normal MCNP input with a few\n",
    "additional cards. In F4Enix is implemented as a child of the ``Input`` class\n",
    "and it includes as attributes also an ``IrradiationFile`` and ``ReactionFile``\n",
    "objects. There are many ways to initialize this object and the simplest one\n",
    "is when all text input files are aleady available and can be parsed."
   ]
  },
  {
   "cell_type": "code",
   "execution_count": 32,
   "metadata": {},
   "outputs": [
    {
     "name": "stdout",
     "output_type": "stream",
     "text": [
      "<class 'f4enix.input.d1suned.ReactionFile'>\n",
      "<class 'f4enix.input.d1suned.IrradiationFile'>\n"
     ]
    }
   ],
   "source": [
    "from f4enix.input.d1suned import ReactionFile, IrradiationFile\n",
    "from f4enix.input.MCNPinput import D1S_Input\n",
    "\n",
    "# Simplest case, all text input are already present and can be parsed\n",
    "d1s_inp = D1S_Input.from_input('d1stest.i', irrad_file='irr_test',\n",
    "                               reac_file='reac_fe')\n",
    "print(type(d1s_inp.reac_file))\n",
    "print(type(d1s_inp.irrad_file))"
   ]
  },
  {
   "attachments": {},
   "cell_type": "markdown",
   "metadata": {},
   "source": [
    "Nevertheless, F4Enix can also help in the automatic generation of irrad and\n",
    "react file. An example can be the following: let's suppose that a number\n",
    "of daughters have been identified as the most important radioactive isotopes\n",
    "of interest for a specific SDDR computation. A reaction file can be built\n",
    "automatically that will include all the reactions available in a specific\n",
    "activation library that lead to one of the listed daughters. Only parents\n",
    "that are included in the materials of the MCNP input will be considered."
   ]
  },
  {
   "cell_type": "code",
   "execution_count": 33,
   "metadata": {},
   "outputs": [
    {
     "name": "stdout",
     "output_type": "stream",
     "text": [
      "Daughters:\n",
      "['24051', '25054', '26055', '27062', '27062900', '26059']\n"
     ]
    },
    {
     "data": {
      "text/plain": [
       "       Parent     MT    Daughter                                 Comment\n",
       "    24050.99c    102       24051                          Cr-50 -> Cr-51\n",
       "    24052.99c     16       24051                          Cr-52 -> Cr-51\n",
       "    25055.99c     16       25054                          Mn-55 -> Mn-54\n",
       "    26054.99c    102       26055                          Fe-54 -> Fe-55\n",
       "    26054.99c    103       25054                          Fe-54 -> Mn-54\n",
       "    26054.99c    107       24051                          Fe-54 -> Cr-51\n",
       "    26056.99c    105       25054                          Fe-56 -> Mn-54\n",
       "    26056.99c     16       26055                          Fe-56 -> Fe-55\n",
       "    26058.99c    102       26059                          Fe-58 -> Fe-59\n",
       "    27059.99c    103       26059                          Co-59 -> Fe-59\n",
       "    28058.99c    112       25054                          Ni-58 -> Mn-54\n",
       "    28062.99c    107       26059                          Ni-62 -> Fe-59"
      ]
     },
     "execution_count": 33,
     "metadata": {},
     "output_type": "execute_result"
    }
   ],
   "source": [
    "from f4enix.input.libmanager import LibManager\n",
    "\n",
    "# Parse only the MCNP input and the irrad file containing the list of daughters\n",
    "# to be considered\n",
    "d1s_inp = D1S_Input.from_input('d1stest.i', irrad_file='irr_test')\n",
    "print('Daughters:')\n",
    "print(d1s_inp.irrad_file.get_daughters())\n",
    "\n",
    "# generate the reaction file with the default Library Manager and the 99c lib.\n",
    "lm = LibManager()\n",
    "d1s_inp.get_reaction_file(lm, '99c')\n",
    "d1s_inp.reac_file"
   ]
  },
  {
   "attachments": {},
   "cell_type": "markdown",
   "metadata": {},
   "source": [
    "If no decision has been taken on which daughters should be considered,\n",
    "F4Enix also allows to have a list of all the possible reactions that\n",
    "are foreseen from a specified activation library where the parent isotope\n",
    "is listed an at least one material of the MCNP input.\n"
   ]
  },
  {
   "cell_type": "code",
   "execution_count": 34,
   "metadata": {},
   "outputs": [
    {
     "data": {
      "text/plain": [
       "[\n",
       " parent: 13027.98c\n",
       " MT channel: 107\n",
       " daughter: 11024\n",
       " comment: Al-27 -> Na-24,\n",
       " \n",
       " parent: 24050.98c\n",
       " MT channel: 102\n",
       " daughter: 24051\n",
       " comment: Cr-50 -> Cr-51,\n",
       " \n",
       " parent: 24052.98c\n",
       " MT channel: 16\n",
       " daughter: 24051\n",
       " comment: Cr-52 -> Cr-51]"
      ]
     },
     "execution_count": 34,
     "metadata": {},
     "output_type": "execute_result"
    }
   ],
   "source": [
    "# parse only the MNCP input\n",
    "d1s_inp = D1S_Input.from_input('d1stest.i')\n",
    "lm = LibManager()\n",
    "# this is a list of reactions and can be directly used to initialize a reaction\n",
    "# file if needed.\n",
    "d1s_inp.get_potential_paths(lm, '98c')[:3]"
   ]
  },
  {
   "attachments": {},
   "cell_type": "markdown",
   "metadata": {},
   "source": [
    "Another common task could be to translate a d1s input (and reaction file)\n",
    "from a library to another. The first method to do this is a 1 to 1 conversion.\n",
    "This is also available also in a standard MCNP input. This works if the decay\n",
    "pathways of interest (reactions) are available in both libraries. This check\n",
    "is not performed by F4Enix!"
   ]
  },
  {
   "cell_type": "code",
   "execution_count": 35,
   "metadata": {},
   "outputs": [
    {
     "name": "stdout",
     "output_type": "stream",
     "text": [
      "before:\n",
      "AB(%)     \n",
      "      74183.21c        3.377160E-7     $        WEIGHT(%)  AB(%)     \n",
      "      74184.21c        7.231040E-7     $        WEIGHT(%)  AB(%)     \n",
      "      74186.99c        6.709480E-7     $        WEIGHT(%)  AB(%)     \n",
      "      82206.21c        4.048800E-7     $        WEIGHT(%)  AB(%)     \n",
      "      82207.21c        3.712800E-7     $        WEIGHT(%)  AB(%)     \n",
      "      82208.21c        8.803200E-7     $        WEIGHT(%)  AB(%)     \n",
      "      83209.21c        1.660000E-6     $        WEIGHT(%)  AB(%)     \n",
      "\n",
      "after:\n",
      "%) 14.327\n",
      "      74184.31c        7.231040E-7     $ W-184  WEIGHT(%) 0.00096798 AB(%) 30.677\n",
      "      74186.98c        6.709480E-7     $ W-186  WEIGHT(%) 0.00096798 AB(%) 28.464\n",
      "      82206.31c        4.048800E-7     $ Pb-206 WEIGHT(%) 0.00076688 AB(%) 24.442\n",
      "      82207.31c        3.712800E-7     $ Pb-207 WEIGHT(%) 0.00076688 AB(%) 22.414\n",
      "      82208.31c        8.803200E-7     $ Pb-208 WEIGHT(%) 0.00076688 AB(%) 53.144\n",
      "      83209.31c        1.660000E-6     $ Bi-209 WEIGHT(%) 0.00077488 AB(%) 100.0\n",
      "\n",
      "reac file:\n"
     ]
    },
    {
     "data": {
      "text/plain": [
       "       Parent     MT    Daughter                                 Comment\n",
       "    26054.98c    102       26055                                    Fe55\n",
       "    26054.98c    103       25054                                    Mn54\n",
       "    26054.98c    107       24051                                    Cr51\n",
       "    26056.98c    105       25054                                    Mn54\n",
       "    26056.98c    103       25056                                    Mn56\n",
       "    26056.98c     16       26055                                    Fe55\n",
       "    26057.98c     28       25056                                    Mn56\n",
       "    26057.98c    104       25056                                    Mn56\n",
       "    26058.98c    102       26059                                    Fe59\n",
       "    26058.98c    105       25056                                    Mn56\n",
       "    78195.98c    304    78195900                                  Pt195m"
      ]
     },
     "execution_count": 35,
     "metadata": {},
     "output_type": "execute_result"
    }
   ],
   "source": [
    "d1s_inp = D1S_Input.from_input('d1stest.i', irrad_file='irr_test',\n",
    "                               reac_file='reac_fe')\n",
    "\n",
    "print('before:')\n",
    "print(d1s_inp.materials['M1'].to_text()[-500:])\n",
    "\n",
    "# this translates all activated zaid with old library 99c to the new 98c. Also\n",
    "# the transport library is changed here, from 21c to 31c\n",
    "new_lib = {'99c': '98c', '21c': '31c'}\n",
    "lm = LibManager()\n",
    "d1s_inp.translate(new_lib, lm)\n",
    "\n",
    "# Check the translation (only a piece of a material)\n",
    "print('\\nafter:')\n",
    "print(d1s_inp.materials['M1'].to_text()[-500:])\n",
    "\n",
    "# Manually change also the library in the reaction file\n",
    "d1s_inp.reac_file.change_lib('98c')\n",
    "print('\\nreac file:')\n",
    "d1s_inp.reac_file"
   ]
  },
  {
   "attachments": {},
   "cell_type": "markdown",
   "metadata": {},
   "source": [
    "In addition to this, a new translating method has been defined for the\n",
    "``D1S_Input`` object. Let's suppose that this is the first time a D1S-INPUT\n",
    "is generated for a specific application. Once irradiation and reaction files\n",
    "have been defined, the MCNP input can be translated specifying an activation\n",
    "and a transport lib. The activation lib will be automatically assigned to\n",
    "all parents indicated the reac file."
   ]
  },
  {
   "cell_type": "code",
   "execution_count": 36,
   "metadata": {},
   "outputs": [
    {
     "name": "stdout",
     "output_type": "stream",
     "text": [
      "before:\n",
      "      23050.31c        3.400000E-6     $ V-50   WEIGHT(%) 0.15475 AB(%) 0.25\n",
      "      23051.31c        1.356600E-3     $ V-51   WEIGHT(%) 0.15475 AB(%) 99.75\n",
      "      24050.31c        6.343700E-3     $ Cr-50  WEIGHT(%) 16.957 AB(%) 4.345\n",
      "      24052.31c        1.223320E-1     $ Cr-52  WEIGHT(%) 16.957 AB(%) 83.789\n",
      "      24053.31c        1.387150E-2     $ Cr-53  WEIGHT(%) 16.957 AB(%) 9.501\n",
      "      24054.31c        3.452900E-3     $ Cr-54  WEIGHT(%) 16.957 AB(%) 2.365\n",
      "      25055.31c        1.420000E-2  \n"
     ]
    },
    {
     "name": "stderr",
     "output_type": "stream",
     "text": [
      "D:\\F4Enix\\src\\f4enix\\input\\libmanager.py:446: UserWarning:  The Default library 81c was used for zaid 1001\n",
      "  warnings.warn(MSG_DEFLIB.format(self.defaultlib, zaid))\n"
     ]
    },
    {
     "name": "stdout",
     "output_type": "stream",
     "text": [
      "\n",
      "after:\n",
      "      23050.00c        3.400000E-6     $ V-50   WEIGHT(%) 0.15475 AB(%) 0.25\n",
      "      23051.00c        1.356600E-3     $ V-51   WEIGHT(%) 0.15475 AB(%) 99.75\n",
      "      24050.00c        6.343700E-3     $ Cr-50  WEIGHT(%) 16.957 AB(%) 4.345\n",
      "      24052.00c        1.223320E-1     $ Cr-52  WEIGHT(%) 16.957 AB(%) 83.789\n",
      "      24053.00c        1.387150E-2     $ Cr-53  WEIGHT(%) 16.957 AB(%) 9.501\n",
      "      24054.00c        3.452900E-3     $ Cr-54  WEIGHT(%) 16.957 AB(%) 2.365\n",
      "      25055.00c        1.420000E-2  \n"
     ]
    }
   ],
   "source": [
    "# reset everything to just one lib\n",
    "d1s_inp.translate('31c', lm)\n",
    "print('before:')\n",
    "print(d1s_inp.materials['M1'].to_text()[2000:2500])\n",
    "\n",
    "# smart translate\n",
    "d1s_inp.smart_translate('99c', '00c', lm)\n",
    "print('\\nafter:')\n",
    "print(d1s_inp.materials['M1'].to_text()[2000:2500])"
   ]
  },
  {
   "attachments": {},
   "cell_type": "markdown",
   "metadata": {},
   "source": [
    "To conclude, two other cards that are needed for a D1S-UNED run can be\n",
    "automatically generated using F4Enix. The PIKMT card and the FU card to\n",
    "track the contribution of either parents or daughters to a specific\n",
    "tally."
   ]
  },
  {
   "cell_type": "code",
   "execution_count": 37,
   "metadata": {},
   "outputs": [
    {
     "name": "stdout",
     "output_type": "stream",
     "text": [
      "PIKMT\n",
      "         26054    0\n",
      "         26056    0\n",
      "         26057    0\n",
      "         26058    0\n",
      "         78195    0\n",
      "\n",
      "DF124 LOG  0.0485 0.1254 0.205 0.2999 0.3381 0.3572 0.378 0.4066 0.4399\n",
      "          0.5172 0.7523 1.0041 1.5083 1.9958 2.4657 2.9082 3.7269 4.4834\n",
      "          7.4896 12.0153 15.9873 19.9191 23.76\n",
      "FU124 0\n",
      "         -26054\n",
      "\n"
     ]
    }
   ],
   "source": [
    "d1s_inp = D1S_Input.from_input('d1stest.i', irrad_file='irr_test',\n",
    "                               reac_file='reac_fe')\n",
    "\n",
    "# add a PIKMT card to the input based on reac file\n",
    "d1s_inp.add_PIKMT_card()\n",
    "print(d1s_inp.other_data['PIKMT'].card())\n",
    "\n",
    "# Add a FU card to a tally\n",
    "d1s_inp.add_track_contribution('F124', [26054], who='parent')\n",
    "print(d1s_inp.other_data['F124'].card())"
   ]
  }
 ],
 "metadata": {
  "kernelspec": {
   "display_name": "jade",
   "language": "python",
   "name": "python3"
  },
  "language_info": {
   "codemirror_mode": {
    "name": "ipython",
    "version": 3
   },
   "file_extension": ".py",
   "mimetype": "text/x-python",
   "name": "python",
   "nbconvert_exporter": "python",
   "pygments_lexer": "ipython3",
   "version": "3.10.16"
  }
 },
 "nbformat": 4,
 "nbformat_minor": 2
}
