{
 "cells": [
  {
   "attachments": {},
   "cell_type": "markdown",
   "metadata": {},
   "source": [
    "## E-Lite model"
   ]
  },
  {
   "cell_type": "markdown",
   "metadata": {},
   "source": [
    "## Extract an E-lite sector"
   ]
  },
  {
   "attachments": {},
   "cell_type": "markdown",
   "metadata": {},
   "source": [
    "E-Lite is the current baseline ITER full 360 degree model. Since calculations\n",
    "with this model are computationally very heavy, it is often useful to extract\n",
    "one (or more, if needed) of its sector(s), to save computational resources and\n",
    "time. The Excel spreadsheet of E-Lite envelopes structure is required for the\n",
    "extraction. A tolerance must be set when extracting a sector: it will define the\n",
    "minimum distance for planes to be considered equal. It is needed to modify the\n",
    "lateral periodic boundary planes of the sector(s) and should be set according to\n",
    "the value in DBCN card in the model (The DBCN card is documented in MCNP manual,\n",
    "in MCNP6.2 the 9th entry of DBCN card defines \"the distance allowed between \n",
    "coincident repeated-structures surfaces for them still to be considered \n",
    "coincident\"). \n",
    "The result is an input of the chosen sector(s) bounded by reflective planes."
   ]
  },
  {
   "cell_type": "code",
   "execution_count": null,
   "metadata": {},
   "outputs": [],
   "source": [
    "from f4enix.input.elite import Elite_Input\n",
    "import tempfile  # To have a scratch directory for the example\n",
    "import os\n",
    "\n",
    "# Define the path to Excel spreadsheet\n",
    "excel_path = 'E-Lite_Block_Structure_Summary.xlsx'\n",
    "\n",
    "# Read E-Lite input, this time by using Elite_Input subclass\n",
    "elite_inp = Elite_Input.from_input('E-Lite.i')"
   ]
  },
  {
   "attachments": {},
   "cell_type": "markdown",
   "metadata": {},
   "source": [
    "Extract a single sector:\n",
    "You must provide the sector number, the path of the excel file, the output\n",
    "file name, the tolerance (default 1e-5)."
   ]
  },
  {
   "cell_type": "code",
   "execution_count": null,
   "metadata": {},
   "outputs": [],
   "source": [
    "elite_inp.extract_sector(1, excel_file=excel_path,\n",
    "                         outfile=os.path.join(tempfile.gettempdir(), 'sector1.i'))"
   ]
  },
  {
   "attachments": {},
   "cell_type": "markdown",
   "metadata": {},
   "source": [
    "For NBI, sectors 2 and 3 must be extracted together\n",
    "You can also change the tolerance and choose to check if the Excel spreadsheet\n",
    "is up to date with the model, to guarantee the functioning of the method"
   ]
  },
  {
   "cell_type": "code",
   "execution_count": null,
   "metadata": {},
   "outputs": [],
   "source": [
    "elite_inp.extract_sector('2 & 3', excel_file=excel_path,\n",
    "                         outfile=os.path.join(tempfile.gettempdir(), 'NBI.i'),\n",
    "                         tol=1e-4, check_Elite=True)"
   ]
  },
  {
   "attachments": {},
   "cell_type": "markdown",
   "metadata": {},
   "source": [
    "You can also extract more than one sector, by providing their numbers in a\n",
    "list, in counterclockwise direction. The sectors must be contiguous, e.g. you\n",
    "cannot extract at the same time sector 4 and 7."
   ]
  },
  {
   "cell_type": "code",
   "execution_count": null,
   "metadata": {},
   "outputs": [],
   "source": [
    "elite_inp.extract_sector(['2 & 3', 4], excel_file=excel_path, \n",
    "                         outfile=os.path.join(tempfile.gettempdir(), 'NBI_sec4.i'),\n",
    "                         tol=1e-6, check_Elite=False)"
   ]
  },
  {
   "cell_type": "markdown",
   "metadata": {},
   "source": [
    "To actually use the class Elite_Input you will need the Excel spreadsheet with the block structure of E-lite and the patch to fix the lost particles arising in the model of the sector after the extraction. You can require them by contacting the developers."
   ]
  },
  {
   "cell_type": "markdown",
   "metadata": {},
   "source": [
    "## Format materials for E-lite"
   ]
  },
  {
   "cell_type": "markdown",
   "metadata": {},
   "source": [
    "E-lite has a specific formatting for materials. Generally in F4Enix, for each zaid, a dollar command is added reporting:\n",
    "\n",
    "* The weight percentage of the element it belongs to in the submaterial\n",
    "* The atom fraction of the zaid in the element (abundance)\n",
    "\n",
    "In addition to this, the E-lite standard requires the atom fraction of the single zaids to actually represent the atomic density of such zaid in the material (given a certain nominal density of the material). This will cause the fractions to be not normalized.\n",
    "\n",
    "There is a specific function in F4Enix to port all materials in an MCNP input (or a single material) to such standard.\n",
    "\n",
    "First, let's load an example"
   ]
  },
  {
   "cell_type": "code",
   "execution_count": 16,
   "metadata": {},
   "outputs": [
    {
     "name": "stdout",
     "output_type": "stream",
     "text": [
      "C \n",
      "M1\n",
      "       1001.31c        1.999710E+0     $ H-1    WEIGHT(%) 11.19 AB(%) 99.986\n",
      "       1002.31c        2.900000E-4     $ H-2    WEIGHT(%) 11.19 AB(%) 0.0145\n",
      "       8016.31c        9.975700E-1     $ O-16   WEIGHT(%) 88.81 AB(%) 99.757\n",
      "       8017.31c        3.835000E-4     $ O-17   WEIGHT(%) 88.81 AB(%) 0.03835\n",
      "       8018.31c        2.045000E-3     $ O-18   WEIGHT(%) 88.81 AB(%) 0.2045\n"
     ]
    }
   ],
   "source": [
    "from f4enix.input.materials import Material, MatCardsList\n",
    "from f4enix.input.libmanager import LibManager\n",
    "\n",
    "lm = LibManager()\n",
    "material = Material.from_zaids([('H', 2), ('O', 1)], lm, '31c')\n",
    "mat_library = MatCardsList([material])\n",
    "print(mat_library.to_text())"
   ]
  },
  {
   "cell_type": "markdown",
   "metadata": {},
   "source": [
    "And then convert it to the E-lite standard"
   ]
  },
  {
   "cell_type": "code",
   "execution_count": 17,
   "metadata": {},
   "outputs": [
    {
     "name": "stdout",
     "output_type": "stream",
     "text": [
      "C \n",
      "M1\n",
      "       1001.31c        6.550811E-2     $ H-1    WEIGHT(%) 11.19 AB(%) 99.986\n",
      "       1002.31c        9.500054E-6     $ H-2    WEIGHT(%) 11.19 AB(%) 0.0145\n",
      "       8016.31c        3.267920E-2     $ O-16   WEIGHT(%) 88.81 AB(%) 99.757\n",
      "       8017.31c        1.256300E-5     $ O-17   WEIGHT(%) 88.81 AB(%) 0.03835\n",
      "       8018.31c        6.699176E-5     $ O-18   WEIGHT(%) 88.81 AB(%) 0.2045\n"
     ]
    }
   ],
   "source": [
    "density = 0.98 # g/cm3\n",
    "\n",
    "mat_library.fractions_to_atom_densities(lm, density)\n",
    "print(mat_library.to_text())"
   ]
  },
  {
   "cell_type": "code",
   "execution_count": null,
   "metadata": {},
   "outputs": [],
   "source": []
  }
 ],
 "metadata": {
  "kernelspec": {
   "display_name": "f4enix",
   "language": "python",
   "name": "python3"
  },
  "language_info": {
   "codemirror_mode": {
    "name": "ipython",
    "version": 3
   },
   "file_extension": ".py",
   "mimetype": "text/x-python",
   "name": "python",
   "nbconvert_exporter": "python",
   "pygments_lexer": "ipython3",
   "version": "3.10.13"
  }
 },
 "nbformat": 4,
 "nbformat_minor": 2
}
