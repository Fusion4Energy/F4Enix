{
 "cells": [
  {
   "attachments": {},
   "cell_type": "markdown",
   "metadata": {},
   "source": [
    "## E-Lite model"
   ]
  },
  {
   "attachments": {},
   "cell_type": "markdown",
   "metadata": {},
   "source": [
    "E-Lite is the current baseline ITER full 360 degree model. Since calculations\n",
    "with this model are computationally very heavy, it is often useful to extract\n",
    "one (or more, if needed) of its sector(s), to save computational resources and\n",
    "time. The Excel spreadsheet of E-Lite envelopes structure is required for the\n",
    "extraction. A tolerance must be set when extracting a sector: it will define the\n",
    "minimum distance for planes to be considered equal. It is needed to modify the\n",
    "lateral periodic boundary planes of the sector(s) and should be set according to\n",
    "the value in DBCN card in the model. \n",
    "The result is an input of the chosen sector(s) bounded by reflective planes."
   ]
  },
  {
   "cell_type": "code",
   "execution_count": null,
   "metadata": {},
   "outputs": [],
   "source": [
    "from f4enix.input.elite import Elite_Input\n",
    "import tempfile  # To have a scratch directory for the example\n",
    "import os\n",
    "\n",
    "# Define the path to Excel spreadsheet\n",
    "excel_path = 'E-Lite_Block_Structure_Summary.xlsx'\n",
    "\n",
    "# Read E-Lite input, this time by using Elite_Input subclass\n",
    "elite_inp = Elite_Input.from_input('E-Lite.i')"
   ]
  },
  {
   "attachments": {},
   "cell_type": "markdown",
   "metadata": {},
   "source": [
    "Extract a single sector:\n",
    "You must provide the sector number, the path of the excel file, the output\n",
    "file name, the tolerance (default 1e-5)."
   ]
  },
  {
   "cell_type": "code",
   "execution_count": null,
   "metadata": {},
   "outputs": [],
   "source": [
    "elite_inp.extract_sector(1, excel_file=excel_path,\n",
    "                         outfile=os.path.join(tempfile.gettempdir(), 'sector1.i'))"
   ]
  },
  {
   "attachments": {},
   "cell_type": "markdown",
   "metadata": {},
   "source": [
    "For NBI, sectors 2 and 3 must be extracted together\n",
    "You can also change the tolerance and choose to check if the Excel spreadsheet\n",
    "is up to date with the model, to guarantee the functioning of the method"
   ]
  },
  {
   "cell_type": "code",
   "execution_count": null,
   "metadata": {},
   "outputs": [],
   "source": [
    "elite_inp.extract_sector('2 & 3', excel_file=excel_path,\n",
    "                         outfile=os.path.join(tempfile.gettempdir(), 'NBI.i'),\n",
    "                         tol=1e-4, check_Elite=True)"
   ]
  },
  {
   "attachments": {},
   "cell_type": "markdown",
   "metadata": {},
   "source": [
    "You can also extract more than one sector, by providing their numbers in a\n",
    "list, in counterclockwise direction. The sectors must be contiguous, e.g. you\n",
    "cannot extract at the same time sector 4 and 7."
   ]
  },
  {
   "cell_type": "code",
   "execution_count": null,
   "metadata": {},
   "outputs": [],
   "source": [
    "elite_inp.extract_sector(['2 & 3', 4], excel_file=excel_path, \n",
    "                         outfile=os.path.join(tempfile.gettempdir(), 'NBI_sec4.i'),\n",
    "                         tol=1e-6, check_Elite=False)"
   ]
  },
  {
   "cell_type": "code",
   "execution_count": null,
   "metadata": {},
   "outputs": [],
   "source": []
  }
 ],
 "metadata": {
  "kernelspec": {
   "display_name": "f4enix",
   "language": "python",
   "name": "python3"
  },
  "language_info": {
   "codemirror_mode": {
    "name": "ipython",
    "version": 3
   },
   "file_extension": ".py",
   "mimetype": "text/x-python",
   "name": "python",
   "nbconvert_exporter": "python",
   "pygments_lexer": "ipython3",
   "version": "3.10.13"
  }
 },
 "nbformat": 4,
 "nbformat_minor": 2
}
