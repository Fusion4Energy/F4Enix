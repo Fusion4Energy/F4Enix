{
 "cells": [
  {
   "attachments": {},
   "cell_type": "markdown",
   "metadata": {},
   "source": [
    "## MCNP input files"
   ]
  },
  {
   "cell_type": "markdown",
   "metadata": {},
   "source": [
    "```{eval-rst}\n",
    "The complete API can be found at :py:class:`f4enix.input.MCNPinput.Input`\n",
    "```"
   ]
  },
  {
   "attachments": {},
   "cell_type": "markdown",
   "metadata": {},
   "source": [
    "### Quick general overview"
   ]
  },
  {
   "cell_type": "code",
   "execution_count": 31,
   "metadata": {},
   "outputs": [],
   "source": [
    "# Import the input module\n",
    "from f4enix.input.MCNPinput import Input\n",
    "\n",
    "# Load the input file\n",
    "inp_file = 'ITER_1D'\n",
    "inp = Input.from_input(inp_file)"
   ]
  },
  {
   "cell_type": "code",
   "execution_count": 32,
   "metadata": {},
   "outputs": [
    {
     "name": "stdout",
     "output_type": "stream",
     "text": [
      "{'1': <numjuggler.parser.Card object at 0x000001CF6B164A00>, '2': <numjuggler.parser.Card object at 0x000001CF6B1641C0>, '3': <numjuggler.parser.Card object at 0x000001CF6B164DC0>, '4': <numjuggler.parser.Card object at 0x000001CF6B164310>, '5': <numjuggler.parser.Card object at 0x000001CF6B164490>, '6': <numjuggler.parser.Card object at 0x000001CF6B1645B0>, '7': <numjuggler.parser.Card object at 0x000001CF6B164430>, '8': <numjuggler.parser.Card object at 0x000001CF6B1646D0>, '9': <numjuggler.parser.Card object at 0x000001CF6B164D90>, '10': <numjuggler.parser.Card object at 0x000001CF6B164AF0>, '11': <numjuggler.parser.Card object at 0x000001CF6B164A60>, '12': <numjuggler.parser.Card object at 0x000001CF6B164C40>, '13': <numjuggler.parser.Card object at 0x000001CF6B1647C0>, '14': <numjuggler.parser.Card object at 0x000001CF6B1647F0>, '15': <numjuggler.parser.Card object at 0x000001CF6B1642B0>, '16': <numjuggler.parser.Card object at 0x000001CF6B164850>, '17': <numjuggler.parser.Card object at 0x000001CF6B164280>, '18': <numjuggler.parser.Card object at 0x000001CF6B164AC0>, '19': <numjuggler.parser.Card object at 0x000001CF6B164250>, '20': <numjuggler.parser.Card object at 0x000001CF6B1642E0>, '21': <numjuggler.parser.Card object at 0x000001CF6B164CD0>, '22': <numjuggler.parser.Card object at 0x000001CF6B164610>, '23': <numjuggler.parser.Card object at 0x000001CF6B164700>, '24': <numjuggler.parser.Card object at 0x000001CF6B1645E0>, '25': <numjuggler.parser.Card object at 0x000001CF6B164D00>, '26': <numjuggler.parser.Card object at 0x000001CF6B17A040>, '27': <numjuggler.parser.Card object at 0x000001CF6B17AFA0>, '28': <numjuggler.parser.Card object at 0x000001CF6B17A5E0>, '29': <numjuggler.parser.Card object at 0x000001CF6B17A1F0>, '30': <numjuggler.parser.Card object at 0x000001CF6B17A130>, '31': <numjuggler.parser.Card object at 0x000001CF6B17AD30>, '32': <numjuggler.parser.Card object at 0x000001CF6B17A3A0>, '33': <numjuggler.parser.Card object at 0x000001CF6B17A2B0>, '34': <numjuggler.parser.Card object at 0x000001CF6B17A3D0>, '35': <numjuggler.parser.Card object at 0x000001CF6B17A880>, '36': <numjuggler.parser.Card object at 0x000001CF6B17A670>, '37': <numjuggler.parser.Card object at 0x000001CF6B17A5B0>, '38': <numjuggler.parser.Card object at 0x000001CF6B17ABE0>, '39': <numjuggler.parser.Card object at 0x000001CF6B17A8B0>, '40': <numjuggler.parser.Card object at 0x000001CF6B17A7F0>, '41': <numjuggler.parser.Card object at 0x000001CF6B17A4F0>, '42': <numjuggler.parser.Card object at 0x000001CF6B17A730>, '43': <numjuggler.parser.Card object at 0x000001CF6B17A6A0>, '44': <numjuggler.parser.Card object at 0x000001CF6B17A700>, '45': <numjuggler.parser.Card object at 0x000001CF6B17AD00>, '46': <numjuggler.parser.Card object at 0x000001CF6B17A160>, '47': <numjuggler.parser.Card object at 0x000001CF6B17AC10>, '48': <numjuggler.parser.Card object at 0x000001CF6B17AA60>, '49': <numjuggler.parser.Card object at 0x000001CF6B17A970>, '50': <numjuggler.parser.Card object at 0x000001CF6B17AAC0>, '51': <numjuggler.parser.Card object at 0x000001CF69F8FCD0>, '52': <numjuggler.parser.Card object at 0x000001CF69F8FB20>, '53': <numjuggler.parser.Card object at 0x000001CF69F8FCA0>, '54': <numjuggler.parser.Card object at 0x000001CF69F8FC70>, '55': <numjuggler.parser.Card object at 0x000001CF69F8FBB0>, '56': <numjuggler.parser.Card object at 0x000001CF69F8FC10>, '57': <numjuggler.parser.Card object at 0x000001CF69F8FBE0>, '58': <numjuggler.parser.Card object at 0x000001CF69F8FB80>, '59': <numjuggler.parser.Card object at 0x000001CF69F8FB50>, '60': <numjuggler.parser.Card object at 0x000001CF69F8FAF0>, '61': <numjuggler.parser.Card object at 0x000001CF69F8FAC0>, '62': <numjuggler.parser.Card object at 0x000001CF69F8FA60>, '63': <numjuggler.parser.Card object at 0x000001CF69F8FA90>, '64': <numjuggler.parser.Card object at 0x000001CF69F8FA30>, '65': <numjuggler.parser.Card object at 0x000001CF69F8F9D0>, '66': <numjuggler.parser.Card object at 0x000001CF69F8FA00>, '67': <numjuggler.parser.Card object at 0x000001CF69F8F9A0>, '68': <numjuggler.parser.Card object at 0x000001CF69F8F940>, '69': <numjuggler.parser.Card object at 0x000001CF69F8F970>, '70': <numjuggler.parser.Card object at 0x000001CF69F8F910>, '71': <numjuggler.parser.Card object at 0x000001CF69F8F8E0>, '72': <numjuggler.parser.Card object at 0x000001CF69F8F880>, '73': <numjuggler.parser.Card object at 0x000001CF69F8F820>, '74': <numjuggler.parser.Card object at 0x000001CF69F8F850>, '75': <numjuggler.parser.Card object at 0x000001CF69F8F7F0>, '76': <numjuggler.parser.Card object at 0x000001CF69F8F790>, '77': <numjuggler.parser.Card object at 0x000001CF69F8F7C0>, '78': <numjuggler.parser.Card object at 0x000001CF69F8F760>, '79': <numjuggler.parser.Card object at 0x000001CF69F8F700>, '80': <numjuggler.parser.Card object at 0x000001CF69F8F730>, '81': <numjuggler.parser.Card object at 0x000001CF69F8F6D0>, '82': <numjuggler.parser.Card object at 0x000001CF69F8F670>, '83': <numjuggler.parser.Card object at 0x000001CF69F8F6A0>, '84': <numjuggler.parser.Card object at 0x000001CF69F8F640>, '85': <numjuggler.parser.Card object at 0x000001CF69F8F610>, '86': <numjuggler.parser.Card object at 0x000001CF69F8F5B0>, '87': <numjuggler.parser.Card object at 0x000001CF69F8F550>, '88': <numjuggler.parser.Card object at 0x000001CF69F8F580>, '89': <numjuggler.parser.Card object at 0x000001CF69F8F520>, '90': <numjuggler.parser.Card object at 0x000001CF69F8F4C0>, '91': <numjuggler.parser.Card object at 0x000001CF69F8F4F0>, '92': <numjuggler.parser.Card object at 0x000001CF69F8F490>, '93': <numjuggler.parser.Card object at 0x000001CF69F8F460>, '94': <numjuggler.parser.Card object at 0x000001CF69F8F430>, '95': <numjuggler.parser.Card object at 0x000001CF69F8F400>, '96': <numjuggler.parser.Card object at 0x000001CF69F8F3D0>, '97': <numjuggler.parser.Card object at 0x000001CF69F8F3A0>, '98': <numjuggler.parser.Card object at 0x000001CF69F8F370>, '99': <numjuggler.parser.Card object at 0x000001CF69F8F340>, '100': <numjuggler.parser.Card object at 0x000001CF69F8F310>, '101': <numjuggler.parser.Card object at 0x000001CF69F8F2E0>, '102': <numjuggler.parser.Card object at 0x000001CF69F8F2B0>, '103': <numjuggler.parser.Card object at 0x000001CF69F8F280>, '104': <numjuggler.parser.Card object at 0x000001CF69F8F250>, '105': <numjuggler.parser.Card object at 0x000001CF69F8F220>, '106': <numjuggler.parser.Card object at 0x000001CF69F8F1C0>}\n",
      "{'1': <numjuggler.parser.Card object at 0x000001CF69F8F160>, '60': <numjuggler.parser.Card object at 0x000001CF69F8F130>, '61': <numjuggler.parser.Card object at 0x000001CF69F8F0D0>, '62': <numjuggler.parser.Card object at 0x000001CF69F8F0A0>, '63': <numjuggler.parser.Card object at 0x000001CF69F8F070>, '64': <numjuggler.parser.Card object at 0x000001CF69F8F040>, '65': <numjuggler.parser.Card object at 0x000001CF699E9940>, '66': <numjuggler.parser.Card object at 0x000001CF699AA340>, '67': <numjuggler.parser.Card object at 0x000001CF69A5F8B0>, '68': <numjuggler.parser.Card object at 0x000001CF6B1AB760>, '69': <numjuggler.parser.Card object at 0x000001CF6B1AB6D0>, '70': <numjuggler.parser.Card object at 0x000001CF6B1ABD60>, '71': <numjuggler.parser.Card object at 0x000001CF6B1ABE50>, '72': <numjuggler.parser.Card object at 0x000001CF6B1ABD90>, '73': <numjuggler.parser.Card object at 0x000001CF6B1ABE80>, '74': <numjuggler.parser.Card object at 0x000001CF6B1ABD00>, '75': <numjuggler.parser.Card object at 0x000001CF6B1ABD30>, '76': <numjuggler.parser.Card object at 0x000001CF6B1AB730>, '77': <numjuggler.parser.Card object at 0x000001CF6B1ABCA0>, '78': <numjuggler.parser.Card object at 0x000001CF6B1ABEE0>, '2': <numjuggler.parser.Card object at 0x000001CF6B1ABF10>, '3': <numjuggler.parser.Card object at 0x000001CF6B1ABFD0>, '4': <numjuggler.parser.Card object at 0x000001CF6B1ABB80>, '5': <numjuggler.parser.Card object at 0x000001CF6B1ABEB0>, '6': <numjuggler.parser.Card object at 0x000001CF6B1AB9A0>, '80': <numjuggler.parser.Card object at 0x000001CF6B1ABE20>, '81': <numjuggler.parser.Card object at 0x000001CF6B1ABDC0>, '82': <numjuggler.parser.Card object at 0x000001CF6B1AB9D0>, '83': <numjuggler.parser.Card object at 0x000001CF6B1ABDF0>, '7': <numjuggler.parser.Card object at 0x000001CF6B1ABFA0>, '8': <numjuggler.parser.Card object at 0x000001CF6B1ABF40>, '9': <numjuggler.parser.Card object at 0x000001CF6B1ABF70>, '10': <numjuggler.parser.Card object at 0x000001CF6B1AB040>, '11': <numjuggler.parser.Card object at 0x000001CF6B1AB070>, '12': <numjuggler.parser.Card object at 0x000001CF6B1AB0A0>, '13': <numjuggler.parser.Card object at 0x000001CF6B1AB0D0>, '14': <numjuggler.parser.Card object at 0x000001CF6B1AB100>, '15': <numjuggler.parser.Card object at 0x000001CF6B1AB190>, '16': <numjuggler.parser.Card object at 0x000001CF6B1AB1C0>, '17': <numjuggler.parser.Card object at 0x000001CF6B1AB1F0>, '18': <numjuggler.parser.Card object at 0x000001CF6B1AB220>, '19': <numjuggler.parser.Card object at 0x000001CF6B1AB2B0>, '20': <numjuggler.parser.Card object at 0x000001CF6B1AB2E0>, '21': <numjuggler.parser.Card object at 0x000001CF6B1AB310>, '22': <numjuggler.parser.Card object at 0x000001CF6B1AB340>, '23': <numjuggler.parser.Card object at 0x000001CF6B1AB130>, '24': <numjuggler.parser.Card object at 0x000001CF6B1AB3D0>, '25': <numjuggler.parser.Card object at 0x000001CF6B1AB400>, '26': <numjuggler.parser.Card object at 0x000001CF6B1AB430>, '27': <numjuggler.parser.Card object at 0x000001CF6B1AB460>, '28': <numjuggler.parser.Card object at 0x000001CF6B1AB490>, '29': <numjuggler.parser.Card object at 0x000001CF6B1AB4C0>, '30': <numjuggler.parser.Card object at 0x000001CF6B1AB4F0>, '31': <numjuggler.parser.Card object at 0x000001CF6B1AB250>, '32': <numjuggler.parser.Card object at 0x000001CF6B1AB370>, '33': <numjuggler.parser.Card object at 0x000001CF6B1AB580>, '34': <numjuggler.parser.Card object at 0x000001CF6B1AB5B0>, '35': <numjuggler.parser.Card object at 0x000001CF6B1AB5E0>, '36': <numjuggler.parser.Card object at 0x000001CF6B1AB160>, '37': <numjuggler.parser.Card object at 0x000001CF6B1AB520>, '38': <numjuggler.parser.Card object at 0x000001CF6B1AB670>, '39': <numjuggler.parser.Card object at 0x000001CF6B1AB3A0>, '40': <numjuggler.parser.Card object at 0x000001CF6B1AB610>, '41': <numjuggler.parser.Card object at 0x000001CF6B1AB700>, '42': <numjuggler.parser.Card object at 0x000001CF6B1AB280>, '43': <numjuggler.parser.Card object at 0x000001CF6B1AB6A0>, '44': <numjuggler.parser.Card object at 0x000001CF6B1AB790>, '45': <numjuggler.parser.Card object at 0x000001CF69D417C0>, '46': <numjuggler.parser.Card object at 0x000001CF6B164760>, '47': <numjuggler.parser.Card object at 0x000001CF6B1AB7C0>, '48': <numjuggler.parser.Card object at 0x000001CF6B1AB7F0>, '84': <numjuggler.parser.Card object at 0x000001CF6B1AB820>, '85': <numjuggler.parser.Card object at 0x000001CF6B1AB850>, '86': <numjuggler.parser.Card object at 0x000001CF6B1AB910>, '87': <numjuggler.parser.Card object at 0x000001CF6B1AB940>, '88': <numjuggler.parser.Card object at 0x000001CF6B1ABA00>, '89': <numjuggler.parser.Card object at 0x000001CF6B1ABA30>, '90': <numjuggler.parser.Card object at 0x000001CF6B1ABA60>, '91': <numjuggler.parser.Card object at 0x000001CF6B1ABA90>, '92': <numjuggler.parser.Card object at 0x000001CF6B1AB640>, '49': <numjuggler.parser.Card object at 0x000001CF6B1AB880>, '50': <numjuggler.parser.Card object at 0x000001CF6B1AB8B0>, '51': <numjuggler.parser.Card object at 0x000001CF6B1AB8E0>, '52': <numjuggler.parser.Card object at 0x000001CF6B1AB550>, '53': <numjuggler.parser.Card object at 0x000001CF6B1ABB20>, '93': <numjuggler.parser.Card object at 0x000001CF6B1ABB50>, '94': <numjuggler.parser.Card object at 0x000001CF6B1ABC10>, '95': <numjuggler.parser.Card object at 0x000001CF6B1ABC40>, '96': <numjuggler.parser.Card object at 0x000001CF6B1ABBE0>, '97': <numjuggler.parser.Card object at 0x000001CF6B1ABBB0>, '98': <numjuggler.parser.Card object at 0x000001CF6B1ABCD0>, '99': <numjuggler.parser.Card object at 0x000001CF6B1AB970>, '100': <numjuggler.parser.Card object at 0x000001CF6B1ABAC0>, '101': <numjuggler.parser.Card object at 0x000001CF6B1ABAF0>, '102': <numjuggler.parser.Card object at 0x000001CF69EABA90>, '103': <numjuggler.parser.Card object at 0x000001CF69EABFD0>, '104': <numjuggler.parser.Card object at 0x000001CF69EABFA0>, '105': <numjuggler.parser.Card object at 0x000001CF69EABF70>, '106': <numjuggler.parser.Card object at 0x000001CF69EABF40>, '107': <numjuggler.parser.Card object at 0x000001CF69EABF10>, '108': <numjuggler.parser.Card object at 0x000001CF69EABEE0>, '109': <numjuggler.parser.Card object at 0x000001CF69EABEB0>, '110': <numjuggler.parser.Card object at 0x000001CF69EABE80>, '111': <numjuggler.parser.Card object at 0x000001CF69EABE50>, '54': <numjuggler.parser.Card object at 0x000001CF69EABE20>, '*55': <numjuggler.parser.Card object at 0x000001CF69EABDF0>, '*56': <numjuggler.parser.Card object at 0x000001CF69EABDC0>}\n",
      "{'M1': <f4enix.input.materials.Material object at 0x000001CF69D991F0>, 'M2': <f4enix.input.materials.Material object at 0x000001CF69D9E0A0>, 'M3': <f4enix.input.materials.Material object at 0x000001CF6A135AC0>, 'M4': <f4enix.input.materials.Material object at 0x000001CF6A135FD0>, 'M5': <f4enix.input.materials.Material object at 0x000001CF6A135D30>, 'M6': <f4enix.input.materials.Material object at 0x000001CF6A1350D0>, 'M7': <f4enix.input.materials.Material object at 0x000001CF69EC0100>, 'M8': <f4enix.input.materials.Material object at 0x000001CF69EA2730>, 'M9': <f4enix.input.materials.Material object at 0x000001CF69EA2B80>, 'M10': <f4enix.input.materials.Material object at 0x000001CF69AA8220>, 'M11': <f4enix.input.materials.Material object at 0x000001CF69E614F0>, 'M12': <f4enix.input.materials.Material object at 0x000001CF69AB4F40>, 'M13': <f4enix.input.materials.Material object at 0x000001CF69FADDF0>, 'M14': <f4enix.input.materials.Material object at 0x000001CF69FAD8B0>, 'M15': <f4enix.input.materials.Material object at 0x000001CF6A21A700>, 'M16': <f4enix.input.materials.Material object at 0x000001CF699C0220>, 'M17': <f4enix.input.materials.Material object at 0x000001CF69F81E50>, 'M18': <f4enix.input.materials.Material object at 0x000001CF69F81190>, 'M19': <f4enix.input.materials.Material object at 0x000001CF69F81310>, 'M20': <f4enix.input.materials.Material object at 0x000001CF69F81520>, 'M21': <f4enix.input.materials.Material object at 0x000001CF69F818B0>, 'M74': <f4enix.input.materials.Material object at 0x000001CF6A284B80>}\n",
      "{}\n",
      "{'SDEF': <numjuggler.parser.Card object at 0x000001CF69EAB160>, 'SP1': <numjuggler.parser.Card object at 0x000001CF69EAB310>, 'SI2': <numjuggler.parser.Card object at 0x000001CF69EAB3A0>, 'SP2': <numjuggler.parser.Card object at 0x000001CF69EAB370>, 'SI3': <numjuggler.parser.Card object at 0x000001CF69EAB100>, 'SP3': <numjuggler.parser.Card object at 0x000001CF69EAB190>, 'SI4': <numjuggler.parser.Card object at 0x000001CF69EAB1F0>, 'SP4': <numjuggler.parser.Card object at 0x000001CF69EAB220>, 'MODE': <numjuggler.parser.Card object at 0x000001CF69EAB280>, 'PHYS:N': <numjuggler.parser.Card object at 0x000001CF69EAB490>, 'CUT:N': <numjuggler.parser.Card object at 0x000001CF69EAB430>, 'E4': <numjuggler.parser.Card object at 0x000001CF69EAB040>, 'FC4': <numjuggler.parser.Card object at 0x000001CF69EAB0A0>, 'F4': <numjuggler.parser.Card object at 0x000001CF69EAB0D0>, 'FM4': <numjuggler.parser.Card object at 0x000001CF6A50F370>, 'FC204': <numjuggler.parser.Card object at 0x000001CF6A50FBE0>, 'F204': <numjuggler.parser.Card object at 0x000001CF6A50F400>, 'FM204': <numjuggler.parser.Card object at 0x000001CF6A50F640>, 'FC14': <numjuggler.parser.Card object at 0x000001CF69A386D0>, 'F14': <numjuggler.parser.Card object at 0x000001CF69A385B0>, 'FM14': <numjuggler.parser.Card object at 0x000001CF69A38610>, 'E14': <numjuggler.parser.Card object at 0x000001CF69A38D30>, 'FQ14': <numjuggler.parser.Card object at 0x000001CF69A38B20>, 'FC214': <numjuggler.parser.Card object at 0x000001CF6CBA9730>, 'F214': <numjuggler.parser.Card object at 0x000001CF6CBA99A0>, 'FM214': <numjuggler.parser.Card object at 0x000001CF6CBA98B0>, 'FC6': <numjuggler.parser.Card object at 0x000001CF6CBA9C40>, 'F6': <numjuggler.parser.Card object at 0x000001CF6CBA9790>, 'FM6': <numjuggler.parser.Card object at 0x000001CF6CBA9940>, 'FC16': <numjuggler.parser.Card object at 0x000001CF6CBA9B80>, 'F16': <numjuggler.parser.Card object at 0x000001CF6CBA9BB0>, 'FM16': <numjuggler.parser.Card object at 0x000001CF6CBA9C10>, 'FC26': <numjuggler.parser.Card object at 0x000001CF6CBA9850>, 'F26': <numjuggler.parser.Card object at 0x000001CF6CBA9CA0>, 'FM26': <numjuggler.parser.Card object at 0x000001CF6CBA9E20>, 'FC24': <numjuggler.parser.Card object at 0x000001CF6CBA9A30>, 'F24': <numjuggler.parser.Card object at 0x000001CF6CBA9AC0>, 'FM24': <numjuggler.parser.Card object at 0x000001CF6CBA9D90>, 'FC34': <numjuggler.parser.Card object at 0x000001CF6CBA9EE0>, 'F34': <numjuggler.parser.Card object at 0x000001CF6CBA9D00>, 'FM34': <numjuggler.parser.Card object at 0x000001CF6CBA9CD0>, 'FC44': <numjuggler.parser.Card object at 0x000001CF6CBA9DF0>, 'F44': <numjuggler.parser.Card object at 0x000001CF6CBA9880>, 'FM44': <numjuggler.parser.Card object at 0x000001CF6CBA97C0>, 'FC54': <numjuggler.parser.Card object at 0x000001CF6CBA97F0>, 'F54': <numjuggler.parser.Card object at 0x000001CF6CBA9F40>, 'FM54': <numjuggler.parser.Card object at 0x000001CF6CBA9E50>, 'FC64': <numjuggler.parser.Card object at 0x000001CF6B1CC130>, 'F64': <numjuggler.parser.Card object at 0x000001CF6B1CC4F0>, 'FM64': <numjuggler.parser.Card object at 0x000001CF6B1CC820>, 'FC74': <numjuggler.parser.Card object at 0x000001CF6B1CC460>, 'F74': <numjuggler.parser.Card object at 0x000001CF6B1CC250>, 'FM74': <numjuggler.parser.Card object at 0x000001CF6B1CC040>, 'FC84': <numjuggler.parser.Card object at 0x000001CF6B1CC610>, 'F84': <numjuggler.parser.Card object at 0x000001CF6B1CC760>, 'FM84': <numjuggler.parser.Card object at 0x000001CF6B1CC1F0>, 'FC94': <numjuggler.parser.Card object at 0x000001CF6B1CC0D0>, 'F94': <numjuggler.parser.Card object at 0x000001CF699FC820>, 'FM94': <numjuggler.parser.Card object at 0x000001CF699FCEE0>, 'FC104': <numjuggler.parser.Card object at 0x000001CF699FCA30>, 'F104': <numjuggler.parser.Card object at 0x000001CF699FC2B0>, 'FM104': <numjuggler.parser.Card object at 0x000001CF6B161A90>, 'FC114': <numjuggler.parser.Card object at 0x000001CF6B161220>, 'F114': <numjuggler.parser.Card object at 0x000001CF6B161A00>, 'FM114': <numjuggler.parser.Card object at 0x000001CF6B161A30>, 'FC124': <numjuggler.parser.Card object at 0x000001CF6B1619A0>, 'F124': <numjuggler.parser.Card object at 0x000001CF69A4B5B0>, 'FM124': <numjuggler.parser.Card object at 0x000001CF69A4B6D0>, 'FC134': <numjuggler.parser.Card object at 0x000001CF69A4BF70>, 'F134': <numjuggler.parser.Card object at 0x000001CF69A4B610>, 'FM134': <numjuggler.parser.Card object at 0x000001CF69A4B370>, 'FC144': <numjuggler.parser.Card object at 0x000001CF69A4B970>, 'F144': <numjuggler.parser.Card object at 0x000001CF69E30D00>, 'FM144': <numjuggler.parser.Card object at 0x000001CF69E30F40>, 'FC154': <numjuggler.parser.Card object at 0x000001CF69E30BB0>, 'F154': <numjuggler.parser.Card object at 0x000001CF69E30910>, 'FM154': <numjuggler.parser.Card object at 0x000001CF69E30F10>, 'FC164': <numjuggler.parser.Card object at 0x000001CF69E30B80>, 'F164': <numjuggler.parser.Card object at 0x000001CF69E30100>, 'FM164': <numjuggler.parser.Card object at 0x000001CF69E306A0>, 'FC174': <numjuggler.parser.Card object at 0x000001CF69E302E0>, 'F174': <numjuggler.parser.Card object at 0x000001CF69E30700>, 'E174': <numjuggler.parser.Card object at 0x000001CF69E30370>, 'FM174': <numjuggler.parser.Card object at 0x000001CF69E30C70>, 'FC1004': <numjuggler.parser.Card object at 0x000001CF69E30760>, 'FMESH1004': <numjuggler.parser.Card object at 0x000001CF69E30EE0>, 'FM1004': <numjuggler.parser.Card object at 0x000001CF69E30D60>, 'FC1024': <numjuggler.parser.Card object at 0x000001CF69E30490>, 'FMESH1024': <numjuggler.parser.Card object at 0x000001CF69E30220>, 'FM1024': <numjuggler.parser.Card object at 0x000001CF69E30610>, 'PRINT': <numjuggler.parser.Card object at 0x000001CF69E30580>, 'RAND': <numjuggler.parser.Card object at 0x000001CF69E30940>, 'PRDMP': <numjuggler.parser.Card object at 0x000001CF69E30CA0>, 'NPS': <numjuggler.parser.Card object at 0x000001CF69E30310>}\n"
     ]
    }
   ],
   "source": [
    "# Here are the main attributes of the input\n",
    "print(inp.cells)\n",
    "print(inp.surfs)\n",
    "print(inp.materials)  # datacard class that have their own complete parser\n",
    "print(inp.transformations)  # uncomplete parser (no transformations in this inp)\n",
    "print(inp.other_data)  # treated as general data cards, no parser"
   ]
  },
  {
   "cell_type": "code",
   "execution_count": 33,
   "metadata": {},
   "outputs": [
    {
     "name": "stdout",
     "output_type": "stream",
     "text": [
      "{'2': <numjuggler.parser.Card object at 0x000001CF6B1641C0>}\n",
      "{'1': <numjuggler.parser.Card object at 0x000001CF69F8F160>, '2': <numjuggler.parser.Card object at 0x000001CF6B1ABF10>}\n",
      "{'2': <numjuggler.parser.Card object at 0x000001CF698EF580>, '3': <numjuggler.parser.Card object at 0x000001CF698EF9A0>, '4': <numjuggler.parser.Card object at 0x000001CF698EF340>, '5': <numjuggler.parser.Card object at 0x000001CF698EF880>, '6': <numjuggler.parser.Card object at 0x000001CF698EF520>, '7': <numjuggler.parser.Card object at 0x000001CF698EF460>, '8': <numjuggler.parser.Card object at 0x000001CF698EF1C0>, '9': <numjuggler.parser.Card object at 0x000001CF698EFC40>, '10': <numjuggler.parser.Card object at 0x000001CF69E972B0>, '11': <numjuggler.parser.Card object at 0x000001CF69E97490>, '12': <numjuggler.parser.Card object at 0x000001CF69E97160>, '13': <numjuggler.parser.Card object at 0x000001CF69E971C0>, '14': <numjuggler.parser.Card object at 0x000001CF69E97430>, '15': <numjuggler.parser.Card object at 0x000001CF69E97370>, '16': <numjuggler.parser.Card object at 0x000001CF69E974C0>, '17': <numjuggler.parser.Card object at 0x000001CF69E97790>, '18': <numjuggler.parser.Card object at 0x000001CF69E975B0>, '19': <numjuggler.parser.Card object at 0x000001CF69E976D0>, '20': <numjuggler.parser.Card object at 0x000001CF69E97610>, '21': <numjuggler.parser.Card object at 0x000001CF69E977C0>, '86': <numjuggler.parser.Card object at 0x000001CF69E97820>, '87': <numjuggler.parser.Card object at 0x000001CF69E97910>, '88': <numjuggler.parser.Card object at 0x000001CF69E97A30>, '89': <numjuggler.parser.Card object at 0x000001CF69E97970>, '90': <numjuggler.parser.Card object at 0x000001CF69E97B20>, '91': <numjuggler.parser.Card object at 0x000001CF69E97B80>, '92': <numjuggler.parser.Card object at 0x000001CF69E97C70>, '93': <numjuggler.parser.Card object at 0x000001CF69E97D90>, '94': <numjuggler.parser.Card object at 0x000001CF69E97FA0>, '95': <numjuggler.parser.Card object at 0x000001CF69E97EE0>, '96': <numjuggler.parser.Card object at 0x000001CF69E97E50>, '97': <numjuggler.parser.Card object at 0x000001CF69E9D0D0>, '98': <numjuggler.parser.Card object at 0x000001CF69E9D400>, '99': <numjuggler.parser.Card object at 0x000001CF69E9D1C0>, '100': <numjuggler.parser.Card object at 0x000001CF69E9D280>, '101': <numjuggler.parser.Card object at 0x000001CF69E9D340>, '102': <numjuggler.parser.Card object at 0x000001CF69E9D130>, '103': <numjuggler.parser.Card object at 0x000001CF69E9D430>, '104': <numjuggler.parser.Card object at 0x000001CF69E9D490>, '105': <numjuggler.parser.Card object at 0x000001CF69E9D580>}\n",
      "{'M2': <f4enix.input.materials.Material object at 0x000001CF69D9E0A0>, 'M3': <f4enix.input.materials.Material object at 0x000001CF6A135AC0>}\n",
      "{'SDEF': <numjuggler.parser.Card object at 0x000001CF69EAB160>}\n"
     ]
    }
   ],
   "source": [
    "# Get a specific card\n",
    "print(inp.get_cells_by_id([2]))  # cell n.2\n",
    "print(inp.get_surfs_by_id([1, 2]))  # surfaces n.1 and 2\n",
    "print(inp.get_cells_by_matID('13'))  # cells to which material 13 is assigned\n",
    "print(inp.get_materials_subset(['m2', 'm3']))  # materials M2 and M3\n",
    "print(inp.get_data_cards('SDEF'))  # generic data cards"
   ]
  },
  {
   "attachments": {},
   "cell_type": "markdown",
   "metadata": {},
   "source": [
    "### Working with surfaces and cells"
   ]
  },
  {
   "attachments": {},
   "cell_type": "markdown",
   "metadata": {},
   "source": [
    "A common example may be the need to modify some cells attributes based on an arbitrary logic. Here is an example where the density of cells is reduced by a factor depending on the material. If a constant factor has to be used, consider the ``Input.scale_densities()`` method"
   ]
  },
  {
   "cell_type": "code",
   "execution_count": 34,
   "metadata": {},
   "outputs": [
    {
     "name": "stdout",
     "output_type": "stream",
     "text": [
      "C:\\Users\\bitteal\\AppData\\Local\\Temp\\new_input.i\n"
     ]
    }
   ],
   "source": [
    "from copy import deepcopy\n",
    "import tempfile  # To have a scratch directory for the example\n",
    "import os\n",
    "\n",
    "# It may be useful to preserve the original input\n",
    "inp2 = deepcopy(inp)\n",
    "\n",
    "# Set some density correction factors for specific materials\n",
    "density_factors = {61: 1.1, 63: 10}\n",
    "\n",
    "# Cycle on the cells dictionary\n",
    "for idx_cell, cell in inp2.cells.items():\n",
    "    # Change density based on material\n",
    "    # mat = cell._get_value_by_type('mat')\n",
    "    mat = cell.get_m()\n",
    "    # get the density of the cell\n",
    "    rho = cell.get_d()\n",
    "    if mat in [61, 63]:\n",
    "        cell.set_d(str(rho*density_factors[mat]))\n",
    "    elif mat == 0:\n",
    "        pass  # do not change density of void cells\n",
    "    else:\n",
    "        # scale all other densitites by a constant factor\n",
    "        cell.set_d(str(rho*0.5))\n",
    "\n",
    "# Print the modified file\n",
    "outfile = os.path.join(tempfile.gettempdir(), 'new_input.i')\n",
    "inp2.write(outfile)\n",
    "print(outfile)"
   ]
  },
  {
   "attachments": {},
   "cell_type": "markdown",
   "metadata": {},
   "source": [
    "This input parser is built on [numjuggler](https://pypi.org/project/numjuggler/), hence every card is a ``numjuggler.parser.Card``. The recommended way to get and modify fields of these cards are to use the ``_get_value_by_type()`` and ``_set_value_by_type()`` methods, as in the example above. Since numjuggler is lacking extensive documentation, to understand which methods are available, the ``dir()`` method can be useful, while the ``values`` attributes should be used to verify the available values to get/modify."
   ]
  },
  {
   "cell_type": "code",
   "execution_count": 35,
   "metadata": {},
   "outputs": [
    {
     "name": "stdout",
     "output_type": "stream",
     "text": [
      "<class 'numjuggler.parser.Card'>\n",
      "['_Card__cr', '_Card__d', '_Card__f', '_Card__i', '_Card__m', '_Card__st', '_Card__u', '__class__', '__delattr__', '__dict__', '__dir__', '__doc__', '__eq__', '__format__', '__ge__', '__getattribute__', '__gt__', '__hash__', '__init__', '__init_subclass__', '__le__', '__lt__', '__module__', '__ne__', '__new__', '__reduce__', '__reduce_ex__', '__repr__', '__setattr__', '__sizeof__', '__slotnames__', '__str__', '__subclasshook__', '__weakref__', '_get_value_by_type', '_protect_nums', '_set_value_by_type', 'apply_map', 'card', 'cstrg', 'ctype', 'debug', 'dtype', 'geom_prefix', 'geom_suffix', 'get_d', 'get_f', 'get_geom', 'get_imp', 'get_input', 'get_m', 'get_refcells', 'get_u', 'get_values', 'hidden', 'input', 'lines', 'name', 'pos', 'print_debug', 'remove_fill', 'remove_spaces', 'set_d', 'template', 'values']\n"
     ]
    },
    {
     "data": {
      "text/plain": [
       "[(106, 'cel'),\n",
       " (0, 'mat'),\n",
       " ('', '#gpr'),\n",
       " (55, 'sur'),\n",
       " (54, 'sur'),\n",
       " (56, 'sur'),\n",
       " ('', '#gsu')]"
      ]
     },
     "execution_count": 35,
     "metadata": {},
     "output_type": "execute_result"
    }
   ],
   "source": [
    "print(type(cell))\n",
    "print(dir(cell))\n",
    "cell.values"
   ]
  },
  {
   "cell_type": "markdown",
   "metadata": {},
   "source": [
    "Another useful feature is to check wether a range of ints is free or not. This can be done both for cell and surfaces indexes"
   ]
  },
  {
   "cell_type": "code",
   "execution_count": 36,
   "metadata": {},
   "outputs": [
    {
     "name": "stdout",
     "output_type": "stream",
     "text": [
      "False\n",
      "True\n",
      "False\n"
     ]
    }
   ],
   "source": [
    "print(inp2.check_range([1, 2], who='cell'))\n",
    "print(inp2.check_range(range(1000, 1005), who='cell'))\n",
    "print(inp2.check_range([1], who='surf'))"
   ]
  },
  {
   "cell_type": "markdown",
   "metadata": {},
   "source": [
    "### Working with materials"
   ]
  },
  {
   "attachments": {},
   "cell_type": "markdown",
   "metadata": {},
   "source": [
    "#### Replace a material"
   ]
  },
  {
   "attachments": {},
   "cell_type": "markdown",
   "metadata": {},
   "source": [
    "It is possible to replace a material with another one (and another density) or set it to void. This can be done across the entire input or only in specific universes."
   ]
  },
  {
   "cell_type": "code",
   "execution_count": 37,
   "metadata": {},
   "outputs": [
    {
     "name": "stdout",
     "output_type": "stream",
     "text": [
      "original card:\n",
      "2     13  7.2058e-002  -55 56   1  -60   imp:n,p=8388608  \n",
      "\n",
      "modified card:\n",
      "2     10  -1  -55 56   1  -60   imp:n,p=8388608           \n",
      "\n"
     ]
    }
   ],
   "source": [
    "# It may be useful to preserve the original input\n",
    "inp3 = deepcopy(inp)\n",
    "\n",
    "print('original card:')\n",
    "print(inp3.cells['2'].card())\n",
    "# In this case replaces in the entire input\n",
    "inp3.replace_material(10, '-1', 13)\n",
    "print('modified card:')\n",
    "print(inp3.cells['2'].card())"
   ]
  },
  {
   "attachments": {},
   "cell_type": "markdown",
   "metadata": {},
   "source": [
    "#### Get info on the material section of the input and switch fraction"
   ]
  },
  {
   "cell_type": "code",
   "execution_count": 38,
   "metadata": {},
   "outputs": [
    {
     "data": {
      "application/vnd.microsoft.datawrangler.viewer.v0+json": {
       "columns": [
        {
         "name": "('Material', 'Submaterial', 'Element')",
         "rawType": "object",
         "type": "unknown"
        },
        {
         "name": "Atom Fraction",
         "rawType": "float64",
         "type": "float"
        },
        {
         "name": "Mass Fraction",
         "rawType": "float64",
         "type": "float"
        }
       ],
       "conversionMethod": "pd.DataFrame",
       "ref": "1e6fcd0f-f6eb-400b-9bde-fd0b12ae0af4",
       "rows": [
        [
         "('M1', 1, 'H')",
         "0.021629987450000002",
         "-0.019046369054404072"
        ],
        [
         "('M1', 2, 'C')",
         "0.018920044",
         "-0.19852384638279644"
        ],
        [
         "('M1', 3, 'N')",
         "0.0020599984",
         "-0.025207149198761606"
        ],
        [
         "('M1', 4, 'O')",
         "0.0270599558",
         "-0.3782263969083304"
        ],
        [
         "('M1', 5, 'Mg')",
         "0.00119",
         "-0.02526762551470718"
        ],
        [
         "('M1', 5, 'Al')",
         "0.00393",
         "-0.09263608297242318"
        ],
        [
         "('M1', 5, 'Si')",
         "0.00800004",
         "-0.1962878758158198"
        ],
        [
         "('M1', 6, 'S')",
         "0.00051",
         "-0.014286112363120699"
        ],
        [
         "('M1', 6, 'Cu')",
         "0.00091",
         "-0.05051854178963683"
        ],
        [
         "('M2', 1, 'Cu')",
         "0.0829204",
         "-1.0"
        ],
        [
         "('M3', 1, 'Nb')",
         "0.0409117",
         "-0.7013054044967559"
        ],
        [
         "('M3', 2, 'Sn')",
         "0.013637208999999999",
         "-0.29869459550324423"
        ],
        [
         "('M4', 1, 'He')",
         "0.0183643246082",
         "-1.0"
        ],
        [
         "('M5', 1, 'Pb')",
         "0.032955761",
         "-1.0"
        ],
        [
         "('M6', 1, 'B')",
         "0.1098485",
         "-0.7826488890810552"
        ],
        [
         "('M6', 2, 'C')",
         "0.027462144",
         "-0.2173511109189447"
        ],
        [
         "('M7', 1, 'H')",
         "0.06685598844",
         "-0.11189828147140427"
        ],
        [
         "('M7', 2, 'O')",
         "0.03342803",
         "-0.8881017185285957"
        ],
        [
         "('M8', 1, 'Ni')",
         "0.00182368",
         "-0.02003466964696536"
        ],
        [
         "('M8', 1, 'Cu')",
         "0.082",
         "-0.974957268410447"
        ],
        [
         "('M8', 1, 'Be')",
         "0.00297",
         "-0.00500806194258743"
        ],
        [
         "('M9', 1, 'Be')",
         "0.123619",
         "-1.0"
        ],
        [
         "('M10', 1, 'Cu')",
         "0.076723",
         "-0.9199858708463433"
        ],
        [
         "('M10', 2, 'Sn')",
         "0.0035720034000000004",
         "-0.08001412915365685"
        ],
        [
         "('M11', 1, 'B')",
         "4.375456e-06",
         "-9.99768270325836e-06"
        ],
        [
         "('M11', 2, 'C')",
         "7.0889518e-05",
         "-0.00017995365742693698"
        ],
        [
         "('M11', 3, 'N')",
         "0.000236401503",
         "-0.0006998342559016584"
        ],
        [
         "('M11', 4, 'O')",
         "5.8989544e-06",
         "-1.9947473891475456e-05"
        ],
        [
         "('M11', 4, 'Al')",
         "0.00052595",
         "-0.0029993020648270115"
        ],
        [
         "('M11', 4, 'Si')",
         "0.0007747610000000001",
         "-0.004598933592031983"
        ],
        [
         "('M11', 4, 'P')",
         "3.97072e-05",
         "-0.00025993948678856344"
        ],
        [
         "('M11', 5, 'S')",
         "1.475257952e-05",
         "-9.997696886253106e-05"
        ],
        [
         "('M11', 6, 'K')",
         "6.049259926e-07",
         "-4.998836513330738e-06"
        ],
        [
         "('M11', 6, 'Ti')",
         "3.95197e-05",
         "-0.0003998126787588103"
        ],
        [
         "('M11', 7, 'V')",
         "3.71430578e-06",
         "-3.9990618564906404e-05"
        ],
        [
         "('M11', 7, 'Cr')",
         "0.015571690000000001",
         "-0.17113425404041901"
        ],
        [
         "('M11', 7, 'Mn')",
         "0.00146375",
         "-0.01699609449719344"
        ],
        [
         "('M11', 7, 'Fe')",
         "0.05457352",
         "-0.6441581701220173"
        ],
        [
         "('M11', 7, 'Co')",
         "2.40797e-05",
         "-0.00029993012607535866"
        ],
        [
         "('M11', 7, 'Ni')",
         "0.010638439999999999",
         "-0.1320138359224999"
        ],
        [
         "('M11', 7, 'Cu')",
         "7.44397e-05",
         "-0.0009997746800934563"
        ],
        [
         "('M11', 8, 'Zr')",
         "1.0370802e-06",
         "-1.99953397446587e-05"
        ],
        [
         "('M11', 8, 'Nb')",
         "1.0183e-06",
         "-1.9995408749240243e-05"
        ],
        [
         "('M11', 8, 'Mo')",
         "0.00123274",
         "-0.02499428678881784"
        ],
        [
         "('M11', 9, 'Sn')",
         "7.969524499999999e-07",
         "-1.999535693221254e-05"
        ],
        [
         "('M11', 9, 'Ta')",
         "1.30709e-07",
         "-4.998829292790649e-06"
        ],
        [
         "('M11', 9, 'W')",
         "2.56984081e-07",
         "-9.985262105907748e-06"
        ],
        [
         "('M11', 9, 'Pb')",
         "1.8262302e-07",
         "-7.99815373252122e-06"
        ],
        [
         "('M11', 9, 'Bi')",
         "1.81082e-07",
         "-7.998156055719988e-06"
        ],
        [
         "('M12', 1, 'Ni')",
         "0.0526997",
         "-0.6201927186032778"
        ]
       ],
       "shape": {
        "columns": 2,
        "rows": 161
       }
      },
      "text/html": [
       "<div>\n",
       "<style scoped>\n",
       "    .dataframe tbody tr th:only-of-type {\n",
       "        vertical-align: middle;\n",
       "    }\n",
       "\n",
       "    .dataframe tbody tr th {\n",
       "        vertical-align: top;\n",
       "    }\n",
       "\n",
       "    .dataframe thead th {\n",
       "        text-align: right;\n",
       "    }\n",
       "</style>\n",
       "<table border=\"1\" class=\"dataframe\">\n",
       "  <thead>\n",
       "    <tr style=\"text-align: right;\">\n",
       "      <th></th>\n",
       "      <th></th>\n",
       "      <th></th>\n",
       "      <th>Atom Fraction</th>\n",
       "      <th>Mass Fraction</th>\n",
       "    </tr>\n",
       "    <tr>\n",
       "      <th>Material</th>\n",
       "      <th>Submaterial</th>\n",
       "      <th>Element</th>\n",
       "      <th></th>\n",
       "      <th></th>\n",
       "    </tr>\n",
       "  </thead>\n",
       "  <tbody>\n",
       "    <tr>\n",
       "      <th rowspan=\"5\" valign=\"top\">M1</th>\n",
       "      <th>1</th>\n",
       "      <th>H</th>\n",
       "      <td>2.162999e-02</td>\n",
       "      <td>-0.019046</td>\n",
       "    </tr>\n",
       "    <tr>\n",
       "      <th>2</th>\n",
       "      <th>C</th>\n",
       "      <td>1.892004e-02</td>\n",
       "      <td>-0.198524</td>\n",
       "    </tr>\n",
       "    <tr>\n",
       "      <th>3</th>\n",
       "      <th>N</th>\n",
       "      <td>2.059998e-03</td>\n",
       "      <td>-0.025207</td>\n",
       "    </tr>\n",
       "    <tr>\n",
       "      <th>4</th>\n",
       "      <th>O</th>\n",
       "      <td>2.705996e-02</td>\n",
       "      <td>-0.378226</td>\n",
       "    </tr>\n",
       "    <tr>\n",
       "      <th>5</th>\n",
       "      <th>Mg</th>\n",
       "      <td>1.190000e-03</td>\n",
       "      <td>-0.025268</td>\n",
       "    </tr>\n",
       "    <tr>\n",
       "      <th>...</th>\n",
       "      <th>...</th>\n",
       "      <th>...</th>\n",
       "      <td>...</td>\n",
       "      <td>...</td>\n",
       "    </tr>\n",
       "    <tr>\n",
       "      <th rowspan=\"5\" valign=\"top\">M74</th>\n",
       "      <th rowspan=\"5\" valign=\"top\">1</th>\n",
       "      <th>Si</th>\n",
       "      <td>8.157524e-06</td>\n",
       "      <td>-0.000020</td>\n",
       "    </tr>\n",
       "    <tr>\n",
       "      <th>Ta</th>\n",
       "      <td>6.330820e-07</td>\n",
       "      <td>-0.000010</td>\n",
       "    </tr>\n",
       "    <tr>\n",
       "      <th>Ti</th>\n",
       "      <td>2.392466e-06</td>\n",
       "      <td>-0.000010</td>\n",
       "    </tr>\n",
       "    <tr>\n",
       "      <th>Zr</th>\n",
       "      <td>1.255620e-06</td>\n",
       "      <td>-0.000010</td>\n",
       "    </tr>\n",
       "    <tr>\n",
       "      <th>W</th>\n",
       "      <td>6.220930e-02</td>\n",
       "      <td>-0.999565</td>\n",
       "    </tr>\n",
       "  </tbody>\n",
       "</table>\n",
       "<p>161 rows × 2 columns</p>\n",
       "</div>"
      ],
      "text/plain": [
       "                              Atom Fraction  Mass Fraction\n",
       "Material Submaterial Element                              \n",
       "M1       1           H         2.162999e-02      -0.019046\n",
       "         2           C         1.892004e-02      -0.198524\n",
       "         3           N         2.059998e-03      -0.025207\n",
       "         4           O         2.705996e-02      -0.378226\n",
       "         5           Mg        1.190000e-03      -0.025268\n",
       "...                                     ...            ...\n",
       "M74      1           Si        8.157524e-06      -0.000020\n",
       "                     Ta        6.330820e-07      -0.000010\n",
       "                     Ti        2.392466e-06      -0.000010\n",
       "                     Zr        1.255620e-06      -0.000010\n",
       "                     W         6.220930e-02      -0.999565\n",
       "\n",
       "[161 rows x 2 columns]"
      ]
     },
     "execution_count": 38,
     "metadata": {},
     "output_type": "execute_result"
    }
   ],
   "source": [
    "# For many operations on materials a libmanager is needed. For most application\n",
    "# the default libmanager can be used, check the libmanager documentation for\n",
    "# more details\n",
    "from f4enix.input.libmanager import LibManager\n",
    "libmanager = LibManager()\n",
    "\n",
    "# Get a summary of the materials defined in the input\n",
    "df_mat, df_submat = inp.materials.get_info(libmanager)\n",
    "df_mat\n"
   ]
  },
  {
   "cell_type": "code",
   "execution_count": 39,
   "metadata": {},
   "outputs": [
    {
     "data": {
      "application/vnd.microsoft.datawrangler.viewer.v0+json": {
       "columns": [
        {
         "name": "('Material', 'Submaterial', 'Element')",
         "rawType": "object",
         "type": "unknown"
        },
        {
         "name": "Fraction",
         "rawType": "float64",
         "type": "float"
        },
        {
         "name": "Sub-Material Fraction",
         "rawType": "float64",
         "type": "float"
        },
        {
         "name": "Material Fraction",
         "rawType": "float64",
         "type": "float"
        }
       ],
       "conversionMethod": "pd.DataFrame",
       "ref": "d87a5089-f423-4dda-abf8-d84b7145ac18",
       "rows": [
        [
         "('M1', 1, 'H')",
         "0.021629987450000002",
         "1.0",
         "0.25685762809169743"
        ],
        [
         "('M1', 2, 'C')",
         "0.018920044",
         "1.0",
         "0.22467685829519754"
        ],
        [
         "('M1', 3, 'N')",
         "0.0020599984",
         "1.0",
         "0.024462626440252128"
        ],
        [
         "('M1', 4, 'O')",
         "0.0270599558",
         "1.0",
         "0.3213388856152189"
        ],
        [
         "('M1', 5, 'Al')",
         "0.00393",
         "0.29954176968972657",
         "0.04666902746632758"
        ],
        [
         "('M1', 5, 'Mg')",
         "0.00119",
         "0.09070094298492994",
         "0.014131334016521583"
        ],
        [
         "('M1', 5, 'Si')",
         "0.00800004",
         "0.6097572873253435",
         "0.0950010398197759"
        ],
        [
         "('M1', 6, 'Cu')",
         "0.00091",
         "0.6408450704225352",
         "0.010806314247928269"
        ],
        [
         "('M1', 6, 'S')",
         "0.00051",
         "0.3591549295774648",
         "0.006056286007080678"
        ],
        [
         "('M10', 1, 'Cu')",
         "0.076723",
         "1.0",
         "0.9555140015100866"
        ],
        [
         "('M10', 2, 'Sn')",
         "0.0035720034000000004",
         "1.0",
         "0.04448599848991352"
        ],
        [
         "('M11', 1, 'B')",
         "4.375456e-06",
         "1.0",
         "5.129561068550012e-05"
        ],
        [
         "('M11', 2, 'C')",
         "7.0889518e-05",
         "1.0",
         "0.0008310724909611142"
        ],
        [
         "('M11', 3, 'N')",
         "0.000236401503",
         "1.0",
         "0.0027714504415894225"
        ],
        [
         "('M11', 4, 'Al')",
         "0.00052595",
         "0.39065832168973214",
         "0.00616596908757368"
        ],
        [
         "('M11', 4, 'O')",
         "5.8989544e-06",
         "0.004381548865154979",
         "6.9156327558526e-05"
        ],
        [
         "('M11', 4, 'P')",
         "3.97072e-05",
         "0.02949319918433032",
         "0.00046550692604640294"
        ],
        [
         "('M11', 4, 'Si')",
         "0.0007747610000000001",
         "0.5754669302607827",
         "0.00908290213187123"
        ],
        [
         "('M11', 5, 'S')",
         "1.475257952e-05",
         "1.0",
         "0.0001729517050713805"
        ],
        [
         "('M11', 6, 'K')",
         "6.049259926e-07",
         "0.015076177724661253",
         "7.091843275295038e-06"
        ],
        [
         "('M11', 6, 'Ti')",
         "3.95197e-05",
         "0.9849238222753388",
         "0.00046330877184178266"
        ],
        [
         "('M11', 7, 'Co')",
         "2.40797e-05",
         "0.0002924081008791407",
         "0.0002822981002719801"
        ],
        [
         "('M11', 7, 'Cr')",
         "0.015571690000000001",
         "0.1890924014991344",
         "0.18255453784823694"
        ],
        [
         "('M11', 7, 'Cu')",
         "7.44397e-05",
         "0.0009039469473046994",
         "0.0008726930109102739"
        ],
        [
         "('M11', 7, 'Fe')",
         "0.05457352",
         "0.6627050727994868",
         "0.6397920663943036"
        ],
        [
         "('M11', 7, 'Mn')",
         "0.00146375",
         "0.01777482101778021",
         "0.01716025715740275"
        ],
        [
         "('M11', 7, 'Ni')",
         "0.010638439999999999",
         "0.12918624553946623",
         "0.12471963528853948"
        ],
        [
         "('M11', 7, 'V')",
         "3.71430578e-06",
         "4.510409594862956e-05",
         "4.3544623293613935e-05"
        ],
        [
         "('M11', 8, 'Mo')",
         "0.00123274",
         "0.998335448744822",
         "0.014452013942419581"
        ],
        [
         "('M11', 8, 'Nb')",
         "1.0183e-06",
         "0.0008246710477934133",
         "1.1938028941679397e-05"
        ],
        [
         "('M11', 8, 'Zr')",
         "1.0370802e-06",
         "0.0008398802073846633",
         "1.2158198411511988e-05"
        ],
        [
         "('M11', 9, 'Bi')",
         "1.81082e-07",
         "0.11695155201323658",
         "2.1229128516323175e-06"
        ],
        [
         "('M11', 9, 'Pb')",
         "1.8262302e-07",
         "0.11794681758730488",
         "2.1409789827918052e-06"
        ],
        [
         "('M11', 9, 'Sn')",
         "7.969524499999999e-07",
         "0.5147106057380154",
         "9.343063353866544e-06"
        ],
        [
         "('M11', 9, 'Ta')",
         "1.30709e-07",
         "0.08441822164598436",
         "1.5323655356358367e-06"
        ],
        [
         "('M11', 9, 'W')",
         "2.56984081e-07",
         "0.16597280301545875",
         "3.0127500702434277e-06"
        ],
        [
         "('M12', 1, 'Al')",
         "0.000375",
         "0.004579513916959613",
         "0.0044633760538036514"
        ],
        [
         "('M12', 1, 'Cr')",
         "0.020899700000000004",
         "0.25522791202741557",
         "0.24875525469781384"
        ],
        [
         "('M12', 1, 'Fe')",
         "0.00227001",
         "0.02772144636436664",
         "0.02701842206905287"
        ],
        [
         "('M12', 1, 'Mn')",
         "0.00023",
         "0.0028087685357352293",
         "0.0027375373129995733"
        ],
        [
         "('M12', 1, 'Mo')",
         "0.004750010000000001",
         "0.05800729840185956",
         "0.05653621570487436"
        ],
        [
         "('M12', 1, 'Ni')",
         "0.0526997",
         "0.6435706921855907",
         "0.6272495440603635"
        ],
        [
         "('M12', 1, 'Si')",
         "0.000449996",
         "0.005495367852203088",
         "0.005356003655219808"
        ],
        [
         "('M12', 1, 'Ti')",
         "0.00021200400000000004",
         "0.002589000715869616",
         "0.0025233428717615723"
        ],
        [
         "('M12', 2, 'S')",
         "1.269996e-05",
         "1.0",
         "0.00015115919292870458"
        ],
        [
         "('M12', 3, 'C')",
         "0.00021099969999999998",
         "0.09962215764242081",
         "0.0025113893555726782"
        ],
        [
         "('M12', 3, 'Nb')",
         "0.001907",
         "0.9003778423575792",
         "0.022697755025609504"
        ],
        [
         "('M13', 1, 'B')",
         "2.05644e-06",
         "1.0",
         "2.8523675088129415e-05"
        ],
        [
         "('M13', 2, 'C')",
         "7.0889518e-05",
         "1.0",
         "0.000983266994702545"
        ],
        [
         "('M13', 3, 'N')",
         "0.000111109437",
         "1.0",
         "0.0015411339403109182"
        ]
       ],
       "shape": {
        "columns": 3,
        "rows": 161
       }
      },
      "text/html": [
       "<div>\n",
       "<style scoped>\n",
       "    .dataframe tbody tr th:only-of-type {\n",
       "        vertical-align: middle;\n",
       "    }\n",
       "\n",
       "    .dataframe tbody tr th {\n",
       "        vertical-align: top;\n",
       "    }\n",
       "\n",
       "    .dataframe thead th {\n",
       "        text-align: right;\n",
       "    }\n",
       "</style>\n",
       "<table border=\"1\" class=\"dataframe\">\n",
       "  <thead>\n",
       "    <tr style=\"text-align: right;\">\n",
       "      <th></th>\n",
       "      <th></th>\n",
       "      <th></th>\n",
       "      <th>Fraction</th>\n",
       "      <th>Sub-Material Fraction</th>\n",
       "      <th>Material Fraction</th>\n",
       "    </tr>\n",
       "    <tr>\n",
       "      <th>Material</th>\n",
       "      <th>Submaterial</th>\n",
       "      <th>Element</th>\n",
       "      <th></th>\n",
       "      <th></th>\n",
       "      <th></th>\n",
       "    </tr>\n",
       "  </thead>\n",
       "  <tbody>\n",
       "    <tr>\n",
       "      <th rowspan=\"5\" valign=\"top\">M1</th>\n",
       "      <th>1</th>\n",
       "      <th>H</th>\n",
       "      <td>0.021630</td>\n",
       "      <td>1.000000</td>\n",
       "      <td>0.256858</td>\n",
       "    </tr>\n",
       "    <tr>\n",
       "      <th>2</th>\n",
       "      <th>C</th>\n",
       "      <td>0.018920</td>\n",
       "      <td>1.000000</td>\n",
       "      <td>0.224677</td>\n",
       "    </tr>\n",
       "    <tr>\n",
       "      <th>3</th>\n",
       "      <th>N</th>\n",
       "      <td>0.002060</td>\n",
       "      <td>1.000000</td>\n",
       "      <td>0.024463</td>\n",
       "    </tr>\n",
       "    <tr>\n",
       "      <th>4</th>\n",
       "      <th>O</th>\n",
       "      <td>0.027060</td>\n",
       "      <td>1.000000</td>\n",
       "      <td>0.321339</td>\n",
       "    </tr>\n",
       "    <tr>\n",
       "      <th>5</th>\n",
       "      <th>Al</th>\n",
       "      <td>0.003930</td>\n",
       "      <td>0.299542</td>\n",
       "      <td>0.046669</td>\n",
       "    </tr>\n",
       "    <tr>\n",
       "      <th>...</th>\n",
       "      <th>...</th>\n",
       "      <th>...</th>\n",
       "      <td>...</td>\n",
       "      <td>...</td>\n",
       "      <td>...</td>\n",
       "    </tr>\n",
       "    <tr>\n",
       "      <th>M74</th>\n",
       "      <th>1</th>\n",
       "      <th>Zr</th>\n",
       "      <td>0.000001</td>\n",
       "      <td>0.000020</td>\n",
       "      <td>0.000020</td>\n",
       "    </tr>\n",
       "    <tr>\n",
       "      <th rowspan=\"3\" valign=\"top\">M8</th>\n",
       "      <th rowspan=\"3\" valign=\"top\">1</th>\n",
       "      <th>Be</th>\n",
       "      <td>0.002970</td>\n",
       "      <td>0.034219</td>\n",
       "      <td>0.034219</td>\n",
       "    </tr>\n",
       "    <tr>\n",
       "      <th>Cu</th>\n",
       "      <td>0.082000</td>\n",
       "      <td>0.944769</td>\n",
       "      <td>0.944769</td>\n",
       "    </tr>\n",
       "    <tr>\n",
       "      <th>Ni</th>\n",
       "      <td>0.001824</td>\n",
       "      <td>0.021012</td>\n",
       "      <td>0.021012</td>\n",
       "    </tr>\n",
       "    <tr>\n",
       "      <th>M9</th>\n",
       "      <th>1</th>\n",
       "      <th>Be</th>\n",
       "      <td>0.123619</td>\n",
       "      <td>1.000000</td>\n",
       "      <td>1.000000</td>\n",
       "    </tr>\n",
       "  </tbody>\n",
       "</table>\n",
       "<p>161 rows × 3 columns</p>\n",
       "</div>"
      ],
      "text/plain": [
       "                              Fraction  Sub-Material Fraction  \\\n",
       "Material Submaterial Element                                    \n",
       "M1       1           H        0.021630               1.000000   \n",
       "         2           C        0.018920               1.000000   \n",
       "         3           N        0.002060               1.000000   \n",
       "         4           O        0.027060               1.000000   \n",
       "         5           Al       0.003930               0.299542   \n",
       "...                                ...                    ...   \n",
       "M74      1           Zr       0.000001               0.000020   \n",
       "M8       1           Be       0.002970               0.034219   \n",
       "                     Cu       0.082000               0.944769   \n",
       "                     Ni       0.001824               0.021012   \n",
       "M9       1           Be       0.123619               1.000000   \n",
       "\n",
       "                              Material Fraction  \n",
       "Material Submaterial Element                     \n",
       "M1       1           H                 0.256858  \n",
       "         2           C                 0.224677  \n",
       "         3           N                 0.024463  \n",
       "         4           O                 0.321339  \n",
       "         5           Al                0.046669  \n",
       "...                                         ...  \n",
       "M74      1           Zr                0.000020  \n",
       "M8       1           Be                0.034219  \n",
       "                     Cu                0.944769  \n",
       "                     Ni                0.021012  \n",
       "M9       1           Be                1.000000  \n",
       "\n",
       "[161 rows x 3 columns]"
      ]
     },
     "execution_count": 39,
     "metadata": {},
     "output_type": "execute_result"
    }
   ],
   "source": [
    "# here the fraction used in the MCNP input (i.e. either mass or atom) is used\n",
    "df_submat"
   ]
  },
  {
   "cell_type": "code",
   "execution_count": 40,
   "metadata": {},
   "outputs": [
    {
     "data": {
      "application/vnd.microsoft.datawrangler.viewer.v0+json": {
       "columns": [
        {
         "name": "('Material', 'Submaterial', 'Element')",
         "rawType": "object",
         "type": "unknown"
        },
        {
         "name": "Fraction",
         "rawType": "float64",
         "type": "float"
        },
        {
         "name": "Sub-Material Fraction",
         "rawType": "float64",
         "type": "float"
        },
        {
         "name": "Material Fraction",
         "rawType": "float64",
         "type": "float"
        }
       ],
       "conversionMethod": "pd.DataFrame",
       "ref": "3e639808-0329-4644-a554-afef0b9eddca",
       "rows": [
        [
         "('M1', 1, 'H')",
         "-0.019046369054404072",
         "1.0",
         "0.01904636905440407"
        ],
        [
         "('M1', 2, 'C')",
         "-0.19852384638279644",
         "1.0",
         "0.19852384638279638"
        ],
        [
         "('M1', 3, 'N')",
         "-0.025207149198761606",
         "1.0",
         "0.0252071491987616"
        ],
        [
         "('M1', 4, 'O')",
         "-0.3782263969083304",
         "1.0",
         "0.37822639690833026"
        ],
        [
         "('M1', 5, 'Al')",
         "-0.09263608297242318",
         "0.29483947884199696",
         "0.09263608297242316"
        ],
        [
         "('M1', 5, 'Mg')",
         "-0.02526762551470718",
         "0.08042107674769418",
         "0.025267625514707175"
        ],
        [
         "('M1', 5, 'Si')",
         "-0.1962878758158198",
         "0.6247394444103088",
         "0.19628787581581975"
        ],
        [
         "('M1', 6, 'Cu')",
         "-0.05051854178963683",
         "0.7795511364130504",
         "0.050518541789636814"
        ],
        [
         "('M1', 6, 'S')",
         "-0.014286112363120697",
         "0.22044886358694973",
         "0.014286112363120693"
        ],
        [
         "('M10', 1, 'Cu')",
         "-0.9199858708463433",
         "1.0",
         "0.9199858708463431"
        ],
        [
         "('M10', 2, 'Sn')",
         "-0.08001412915365685",
         "1.0",
         "0.08001412915365684"
        ],
        [
         "('M11', 1, 'B')",
         "-9.99768270325836e-06",
         "1.0",
         "9.997682703258362e-06"
        ],
        [
         "('M11', 2, 'C')",
         "-0.00017995365742693698",
         "1.0",
         "0.000179953657426937"
        ],
        [
         "('M11', 3, 'N')",
         "-0.0006998342559016584",
         "1.0",
         "0.0006998342559016585"
        ],
        [
         "('M11', 4, 'Al')",
         "-0.0029993020648270115",
         "0.380712792937454",
         "0.0029993020648270124"
        ],
        [
         "('M11', 4, 'O')",
         "-1.9947473891475456e-05",
         "0.0025320085583672527",
         "1.994747389147546e-05"
        ],
        [
         "('M11', 4, 'P')",
         "-0.00025993948678856344",
         "0.0329951054848856",
         "0.0002599394867885635"
        ],
        [
         "('M11', 4, 'Si')",
         "-0.004598933592031983",
         "0.5837600930192931",
         "0.004598933592031984"
        ],
        [
         "('M11', 5, 'S')",
         "-9.997696886253106e-05",
         "1.0",
         "9.997696886253109e-05"
        ],
        [
         "('M11', 6, 'K')",
         "-4.998836513330738e-06",
         "0.012348553153114207",
         "4.9988365133307385e-06"
        ],
        [
         "('M11', 6, 'Ti')",
         "-0.0003998126787588104",
         "0.9876514468468859",
         "0.0003998126787588105"
        ],
        [
         "('M11', 7, 'Co')",
         "-0.00029993012607535866",
         "0.0003106017660200557",
         "0.0002999301260753587"
        ],
        [
         "('M11', 7, 'Cr')",
         "-0.17113425404041901",
         "0.17722328272593627",
         "0.17113425404041904"
        ],
        [
         "('M11', 7, 'Cu')",
         "-0.0009997746800934563",
         "0.0010353470834108254",
         "0.0009997746800934565"
        ],
        [
         "('M11', 7, 'Fe')",
         "-0.6441581701220173",
         "0.6670775885509945",
         "0.6441581701220174"
        ],
        [
         "('M11', 7, 'Mn')",
         "-0.01699609449719344",
         "0.017600822682765978",
         "0.016996094497193442"
        ],
        [
         "('M11', 7, 'Ni')",
         "-0.1320138359224999",
         "0.1367109436892911",
         "0.13201383592249993"
        ],
        [
         "('M11', 7, 'V')",
         "-3.9990618564906404e-05",
         "4.141350158127659e-05",
         "3.999061856490641e-05"
        ],
        [
         "('M11', 8, 'Mo')",
         "-0.024994286788817842",
         "0.9984025603121841",
         "0.02499428678881785"
        ],
        [
         "('M11', 8, 'Nb')",
         "-1.9995408749240243e-05",
         "0.0007987212221099077",
         "1.9995408749240246e-05"
        ],
        [
         "('M11', 8, 'Zr')",
         "-1.99953397446587e-05",
         "0.0007987184657059555",
         "1.9995339744658704e-05"
        ],
        [
         "('M11', 9, 'Bi')",
         "-7.998156055719988e-06",
         "0.15690116931708747",
         "7.99815605571999e-06"
        ],
        [
         "('M11', 9, 'Pb')",
         "-7.99815373252122e-06",
         "0.15690112374250748",
         "7.998153732521222e-06"
        ],
        [
         "('M11', 9, 'Sn')",
         "-1.9995356932212544e-05",
         "0.39225227186371303",
         "1.9995356932212547e-05"
        ],
        [
         "('M11', 9, 'Ta')",
         "-4.998829292790649e-06",
         "0.09806287296613121",
         "4.99882929279065e-06"
        ],
        [
         "('M11', 9, 'W')",
         "-9.985262105907747e-06",
         "0.19588256211056085",
         "9.985262105907748e-06"
        ],
        [
         "('M12', 1, 'Al')",
         "-0.0020280755842672997",
         "0.002104035872614121",
         "0.0020280755842673006"
        ],
        [
         "('M12', 1, 'Cr')",
         "-0.21783058677293962",
         "0.22598929363297393",
         "0.2178305867729397"
        ],
        [
         "('M12', 1, 'Fe')",
         "-0.02541062999291687",
         "0.02636236906827963",
         "0.025410629992916878"
        ],
        [
         "('M12', 1, 'Mn')",
         "-0.0025327200410804685",
         "0.0026275814683934698",
         "0.0025327200410804693"
        ],
        [
         "('M12', 1, 'Mo')",
         "-0.09133579094367007",
         "0.09475671522789622",
         "0.0913357909436701"
        ],
        [
         "('M12', 1, 'Ni')",
         "-0.6201927186032777",
         "0.6434216446359944",
         "0.620192718603278"
        ],
        [
         "('M12', 1, 'Si')",
         "-0.0025332331658965133",
         "0.002628113811974972",
         "0.002533233165896514"
        ],
        [
         "('M12', 1, 'Ti')",
         "-0.0020340617841941204",
         "0.002110246281873212",
         "0.0020340617841941213"
        ],
        [
         "('M12', 2, 'S')",
         "-8.162279812563427e-05",
         "1.0",
         "8.16227981256343e-05"
        ],
        [
         "('M12', 3, 'C')",
         "-0.000507969474008548",
         "0.014102209115728738",
         "0.0005079694740085482"
        ],
        [
         "('M12', 3, 'Nb')",
         "-0.03551259083962274",
         "0.9858977908842713",
         "0.03551259083962276"
        ],
        [
         "('M13', 1, 'B')",
         "-6.207548417984994e-06",
         "1.0",
         "6.207548417984998e-06"
        ],
        [
         "('M13', 2, 'C')",
         "-0.00023773267881429847",
         "1.0",
         "0.0002377326788142986"
        ],
        [
         "('M13', 3, 'N')",
         "-0.00043453435292574276",
         "1.0",
         "0.000434534352925743"
        ]
       ],
       "shape": {
        "columns": 3,
        "rows": 161
       }
      },
      "text/html": [
       "<div>\n",
       "<style scoped>\n",
       "    .dataframe tbody tr th:only-of-type {\n",
       "        vertical-align: middle;\n",
       "    }\n",
       "\n",
       "    .dataframe tbody tr th {\n",
       "        vertical-align: top;\n",
       "    }\n",
       "\n",
       "    .dataframe thead th {\n",
       "        text-align: right;\n",
       "    }\n",
       "</style>\n",
       "<table border=\"1\" class=\"dataframe\">\n",
       "  <thead>\n",
       "    <tr style=\"text-align: right;\">\n",
       "      <th></th>\n",
       "      <th></th>\n",
       "      <th></th>\n",
       "      <th>Fraction</th>\n",
       "      <th>Sub-Material Fraction</th>\n",
       "      <th>Material Fraction</th>\n",
       "    </tr>\n",
       "    <tr>\n",
       "      <th>Material</th>\n",
       "      <th>Submaterial</th>\n",
       "      <th>Element</th>\n",
       "      <th></th>\n",
       "      <th></th>\n",
       "      <th></th>\n",
       "    </tr>\n",
       "  </thead>\n",
       "  <tbody>\n",
       "    <tr>\n",
       "      <th rowspan=\"5\" valign=\"top\">M1</th>\n",
       "      <th>1</th>\n",
       "      <th>H</th>\n",
       "      <td>-0.019046</td>\n",
       "      <td>1.000000</td>\n",
       "      <td>0.019046</td>\n",
       "    </tr>\n",
       "    <tr>\n",
       "      <th>2</th>\n",
       "      <th>C</th>\n",
       "      <td>-0.198524</td>\n",
       "      <td>1.000000</td>\n",
       "      <td>0.198524</td>\n",
       "    </tr>\n",
       "    <tr>\n",
       "      <th>3</th>\n",
       "      <th>N</th>\n",
       "      <td>-0.025207</td>\n",
       "      <td>1.000000</td>\n",
       "      <td>0.025207</td>\n",
       "    </tr>\n",
       "    <tr>\n",
       "      <th>4</th>\n",
       "      <th>O</th>\n",
       "      <td>-0.378226</td>\n",
       "      <td>1.000000</td>\n",
       "      <td>0.378226</td>\n",
       "    </tr>\n",
       "    <tr>\n",
       "      <th>5</th>\n",
       "      <th>Al</th>\n",
       "      <td>-0.092636</td>\n",
       "      <td>0.294839</td>\n",
       "      <td>0.092636</td>\n",
       "    </tr>\n",
       "    <tr>\n",
       "      <th>...</th>\n",
       "      <th>...</th>\n",
       "      <th>...</th>\n",
       "      <td>...</td>\n",
       "      <td>...</td>\n",
       "      <td>...</td>\n",
       "    </tr>\n",
       "    <tr>\n",
       "      <th>M74</th>\n",
       "      <th>1</th>\n",
       "      <th>Zr</th>\n",
       "      <td>-0.000010</td>\n",
       "      <td>0.000010</td>\n",
       "      <td>0.000010</td>\n",
       "    </tr>\n",
       "    <tr>\n",
       "      <th rowspan=\"3\" valign=\"top\">M8</th>\n",
       "      <th rowspan=\"3\" valign=\"top\">1</th>\n",
       "      <th>Be</th>\n",
       "      <td>-0.005008</td>\n",
       "      <td>0.005008</td>\n",
       "      <td>0.005008</td>\n",
       "    </tr>\n",
       "    <tr>\n",
       "      <th>Cu</th>\n",
       "      <td>-0.974957</td>\n",
       "      <td>0.974957</td>\n",
       "      <td>0.974957</td>\n",
       "    </tr>\n",
       "    <tr>\n",
       "      <th>Ni</th>\n",
       "      <td>-0.020035</td>\n",
       "      <td>0.020035</td>\n",
       "      <td>0.020035</td>\n",
       "    </tr>\n",
       "    <tr>\n",
       "      <th>M9</th>\n",
       "      <th>1</th>\n",
       "      <th>Be</th>\n",
       "      <td>-1.000000</td>\n",
       "      <td>1.000000</td>\n",
       "      <td>1.000000</td>\n",
       "    </tr>\n",
       "  </tbody>\n",
       "</table>\n",
       "<p>161 rows × 3 columns</p>\n",
       "</div>"
      ],
      "text/plain": [
       "                              Fraction  Sub-Material Fraction  \\\n",
       "Material Submaterial Element                                    \n",
       "M1       1           H       -0.019046               1.000000   \n",
       "         2           C       -0.198524               1.000000   \n",
       "         3           N       -0.025207               1.000000   \n",
       "         4           O       -0.378226               1.000000   \n",
       "         5           Al      -0.092636               0.294839   \n",
       "...                                ...                    ...   \n",
       "M74      1           Zr      -0.000010               0.000010   \n",
       "M8       1           Be      -0.005008               0.005008   \n",
       "                     Cu      -0.974957               0.974957   \n",
       "                     Ni      -0.020035               0.020035   \n",
       "M9       1           Be      -1.000000               1.000000   \n",
       "\n",
       "                              Material Fraction  \n",
       "Material Submaterial Element                     \n",
       "M1       1           H                 0.019046  \n",
       "         2           C                 0.198524  \n",
       "         3           N                 0.025207  \n",
       "         4           O                 0.378226  \n",
       "         5           Al                0.092636  \n",
       "...                                         ...  \n",
       "M74      1           Zr                0.000010  \n",
       "M8       1           Be                0.005008  \n",
       "                     Cu                0.974957  \n",
       "                     Ni                0.020035  \n",
       "M9       1           Be                1.000000  \n",
       "\n",
       "[161 rows x 3 columns]"
      ]
     },
     "execution_count": 40,
     "metadata": {},
     "output_type": "execute_result"
    }
   ],
   "source": [
    "# switch from atom to mass fraction for all materials\n",
    "inp2 = deepcopy(inp)\n",
    "\n",
    "# MaterialSection is implemented as a Sequence, hence, it can be iterated\n",
    "for material in inp2.materials:\n",
    "    material.switch_fraction('mass', libmanager)\n",
    "\n",
    "# verify the change, this time get also the different zaid contribution\n",
    "df_mat, df_submat = inp2.materials.get_info(libmanager, zaids=True)\n",
    "df_submat"
   ]
  },
  {
   "cell_type": "code",
   "execution_count": 41,
   "metadata": {},
   "outputs": [
    {
     "data": {
      "application/vnd.microsoft.datawrangler.viewer.v0+json": {
       "columns": [
        {
         "name": "('Material', 'Submaterial', 'Element', 'Isotope')",
         "rawType": "object",
         "type": "unknown"
        },
        {
         "name": "Atom Fraction",
         "rawType": "float64",
         "type": "float"
        },
        {
         "name": "Mass Fraction",
         "rawType": "float64",
         "type": "float"
        }
       ],
       "conversionMethod": "pd.DataFrame",
       "ref": "a3a80c62-48c2-4504-bf7e-dcca59dd829a",
       "rows": [
        [
         "('M1', 1, 'H', 'H-1 [1001]')",
         "0.25682808944732805",
         "-0.01904199225447119"
        ],
        [
         "('M1', 1, 'H', 'H-2 [1002]')",
         "2.9538644369240838e-05",
         "-4.376799932880233e-06"
        ],
        [
         "('M1', 2, 'C', 'C-12 [6012]')",
         "0.22227282150222208",
         "-0.19622409310718747"
        ],
        [
         "('M1', 2, 'C', 'C-13 [6013]')",
         "0.002404036792975373",
         "-0.002299753275608962"
        ],
        [
         "('M1', 3, 'N', 'N-14 [7014]')",
         "0.024373582410849193",
         "-0.025108887574549803"
        ],
        [
         "('M1', 3, 'N', 'N-15 [7015]')",
         "8.90440294029289e-05",
         "-9.826162421180235e-05"
        ],
        [
         "('M1', 4, 'O', 'O-16 [8016]')",
         "0.32055803084772",
         "-0.3772014121023883"
        ],
        [
         "('M1', 4, 'O', 'O-17 [8017]')",
         "0.000122108975987469",
         "-0.00015270703732339814"
        ],
        [
         "('M1', 4, 'O', 'O-18 [8018]')",
         "0.0006587457915113458",
         "-0.0008722777686186963"
        ],
        [
         "('M1', 5, 'Mg', 'Mg-24 [12024]')",
         "0.011162340739650395",
         "-0.019696110656811774"
        ],
        [
         "('M1', 5, 'Mg', 'Mg-25 [12025]')",
         "0.0014131334016521577",
         "-0.0025975372600699287"
        ],
        [
         "('M1', 5, 'Mg', 'Mg-26 [12026]')",
         "0.0015558598752190257",
         "-0.002973977597825478"
        ],
        [
         "('M1', 5, 'Al', 'Al-27 [13027]')",
         "0.04666902746632757",
         "-0.09263608297242318"
        ],
        [
         "('M1', 5, 'Si', 'Si-28 [14028]')",
         "0.08761902093067463",
         "-0.18033628569036786"
        ],
        [
         "('M1', 5, 'Si', 'Si-29 [14029]')",
         "0.004449113951789895",
         "-0.009484274129741269"
        ],
        [
         "('M1', 5, 'Si', 'Si-30 [14030]')",
         "0.002932904937311344",
         "-0.0064673159957106775"
        ],
        [
         "('M1', 6, 'S', 'S-32 [16032]')",
         "0.005754682963928058",
         "-0.013535580799656383"
        ],
        [
         "('M1', 6, 'S', 'S-33 [16033]')",
         "4.542214505310507e-05",
         "-0.00011017689426489573"
        ],
        [
         "('M1', 6, 'S', 'S-34 [16034]')",
         "0.00025496964089809644",
         "-0.0006371496821151087"
        ],
        [
         "('M1', 6, 'S', 'S-36 [16036]')",
         "1.211257201416135e-06",
         "-3.2049870843098747e-06"
        ],
        [
         "('M1', 6, 'Cu', 'Cu-63 [29063]')",
         "0.007472566302442395",
         "-0.03459469091348726"
        ],
        [
         "('M1', 6, 'Cu', 'Cu-65 [29065]')",
         "0.0033337479454858695",
         "-0.015923850876149566"
        ],
        [
         "('M2', 1, 'Cu', 'Cu-63 [29063]')",
         "0.6915005233935195",
         "-0.6847924829557076"
        ],
        [
         "('M2', 1, 'Cu', 'Cu-65 [29065]')",
         "0.3084994766064804",
         "-0.3152075170442924"
        ],
        [
         "('M3', 1, 'Nb', 'Nb-93 [41093]')",
         "0.7500003345621451",
         "-0.7013054044967559"
        ],
        [
         "('M3', 2, 'Sn', 'Sn-112 [50112]')",
         "0.0024249980874961217",
         "-0.0027312435664545182"
        ],
        [
         "('M3', 2, 'Sn', 'Sn-114 [50114]')",
         "0.001649996336315361",
         "-0.0018915487423582945"
        ],
        [
         "('M3', 2, 'Sn', 'Sn-115 [50115]')",
         "0.0008499986681676805",
         "-0.0009829946148960955"
        ],
        [
         "('M3', 2, 'Sn', 'Sn-116 [50116]')",
         "0.03634994789721643",
         "-0.042402745950871484"
        ],
        [
         "('M3', 2, 'Sn', 'Sn-117 [50117]')",
         "0.019200017364233626",
         "-0.022590577311667807"
        ],
        [
         "('M3', 2, 'Sn', 'Sn-118 [50118]')",
         "0.06054988194172683",
         "-0.071851071086357"
        ],
        [
         "('M3', 2, 'Sn', 'Sn-119 [50119]')",
         "0.02147503994992824",
         "-0.02569970582337214"
        ],
        [
         "('M3', 2, 'Sn', 'Sn-120 [50120]')",
         "0.08144984164577884",
         "-0.09829187610828588"
        ],
        [
         "('M3', 2, 'Sn', 'Sn-122 [50122]')",
         "0.011574970271174443",
         "-0.014201560939782108"
        ],
        [
         "('M3', 2, 'Sn', 'Sn-124 [50124]')",
         "0.014474973275817487",
         "-0.018051271359198904"
        ],
        [
         "('M4', 1, 'He', 'He-3 [2003]')",
         "1.340000273629012e-06",
         "-1.0097132272314497e-06"
        ],
        [
         "('M4', 1, 'He', 'He-4 [2004]')",
         "0.9999986599997264",
         "-0.9999989902867729"
        ],
        [
         "('M5', 1, 'Pb', 'Pb-204 [82204]')",
         "0.014000010498923087",
         "-0.013780848277946003"
        ],
        [
         "('M5', 1, 'Pb', 'Pb-206 [82206]')",
         "0.24100035195667308",
         "-0.23955535009324808"
        ],
        [
         "('M5', 1, 'Pb', 'Pb-207 [82207]')",
         "0.22100020691374714",
         "-0.22074316602626623"
        ],
        [
         "('M5', 1, 'Pb', 'Pb-208 [82208]')",
         "0.5239994306306567",
         "-0.5259206356025397"
        ],
        [
         "('M6', 1, 'B', 'B-10 [5010]')",
         "0.15823973558816024",
         "-0.14336364757529588"
        ],
        [
         "('M6', 1, 'B', 'B-11 [5011]')",
         "0.6417601537139395",
         "-0.6392852415057594"
        ],
        [
         "('M6', 2, 'C', 'C-12 [6012]')",
         "0.19786011636505033",
         "-0.2148332597848731"
        ],
        [
         "('M6', 2, 'C', 'C-13 [6013]')",
         "0.002139994332850118",
         "-0.0025178511340716004"
        ],
        [
         "('M7', 1, 'H', 'H-1 [1001]')",
         "0.6665897621563239",
         "-0.11187256758389227"
        ],
        [
         "('M7', 1, 'H', 'H-2 [1002]')",
         "7.666665256937227e-05",
         "-2.571388751198609e-05"
        ],
        [
         "('M7', 2, 'O', 'O-16 [8016]')",
         "0.3325235717389149",
         "-0.8856949905875905"
        ],
        [
         "('M7', 2, 'O', 'O-17 [8017]')",
         "0.00012666624450834084",
         "-0.00035856464065553764"
        ],
        [
         "('M7', 2, 'O', 'O-18 [8018]')",
         "0.0006833332076835355",
         "-0.0020481633003495746"
        ]
       ],
       "shape": {
        "columns": 2,
        "rows": 506
       }
      },
      "text/html": [
       "<div>\n",
       "<style scoped>\n",
       "    .dataframe tbody tr th:only-of-type {\n",
       "        vertical-align: middle;\n",
       "    }\n",
       "\n",
       "    .dataframe tbody tr th {\n",
       "        vertical-align: top;\n",
       "    }\n",
       "\n",
       "    .dataframe thead th {\n",
       "        text-align: right;\n",
       "    }\n",
       "</style>\n",
       "<table border=\"1\" class=\"dataframe\">\n",
       "  <thead>\n",
       "    <tr style=\"text-align: right;\">\n",
       "      <th></th>\n",
       "      <th></th>\n",
       "      <th></th>\n",
       "      <th></th>\n",
       "      <th>Atom Fraction</th>\n",
       "      <th>Mass Fraction</th>\n",
       "    </tr>\n",
       "    <tr>\n",
       "      <th>Material</th>\n",
       "      <th>Submaterial</th>\n",
       "      <th>Element</th>\n",
       "      <th>Isotope</th>\n",
       "      <th></th>\n",
       "      <th></th>\n",
       "    </tr>\n",
       "  </thead>\n",
       "  <tbody>\n",
       "    <tr>\n",
       "      <th rowspan=\"5\" valign=\"top\">M1</th>\n",
       "      <th rowspan=\"2\" valign=\"top\">1</th>\n",
       "      <th rowspan=\"2\" valign=\"top\">H</th>\n",
       "      <th>H-1 [1001]</th>\n",
       "      <td>0.256828</td>\n",
       "      <td>-0.019042</td>\n",
       "    </tr>\n",
       "    <tr>\n",
       "      <th>H-2 [1002]</th>\n",
       "      <td>0.000030</td>\n",
       "      <td>-0.000004</td>\n",
       "    </tr>\n",
       "    <tr>\n",
       "      <th rowspan=\"2\" valign=\"top\">2</th>\n",
       "      <th rowspan=\"2\" valign=\"top\">C</th>\n",
       "      <th>C-12 [6012]</th>\n",
       "      <td>0.222273</td>\n",
       "      <td>-0.196224</td>\n",
       "    </tr>\n",
       "    <tr>\n",
       "      <th>C-13 [6013]</th>\n",
       "      <td>0.002404</td>\n",
       "      <td>-0.002300</td>\n",
       "    </tr>\n",
       "    <tr>\n",
       "      <th>3</th>\n",
       "      <th>N</th>\n",
       "      <th>N-14 [7014]</th>\n",
       "      <td>0.024374</td>\n",
       "      <td>-0.025109</td>\n",
       "    </tr>\n",
       "    <tr>\n",
       "      <th>...</th>\n",
       "      <th>...</th>\n",
       "      <th>...</th>\n",
       "      <th>...</th>\n",
       "      <td>...</td>\n",
       "      <td>...</td>\n",
       "    </tr>\n",
       "    <tr>\n",
       "      <th rowspan=\"5\" valign=\"top\">M74</th>\n",
       "      <th rowspan=\"5\" valign=\"top\">1</th>\n",
       "      <th rowspan=\"5\" valign=\"top\">W</th>\n",
       "      <th>W-180 [74180]</th>\n",
       "      <td>0.001196</td>\n",
       "      <td>-0.001174</td>\n",
       "    </tr>\n",
       "    <tr>\n",
       "      <th>W-182 [74182]</th>\n",
       "      <td>0.264161</td>\n",
       "      <td>-0.262157</td>\n",
       "    </tr>\n",
       "    <tr>\n",
       "      <th>W-183 [74183]</th>\n",
       "      <td>0.142647</td>\n",
       "      <td>-0.142344</td>\n",
       "    </tr>\n",
       "    <tr>\n",
       "      <th>W-184 [74184]</th>\n",
       "      <td>0.305429</td>\n",
       "      <td>-0.306448</td>\n",
       "    </tr>\n",
       "    <tr>\n",
       "      <th>W-186 [74186]</th>\n",
       "      <td>0.283399</td>\n",
       "      <td>-0.287442</td>\n",
       "    </tr>\n",
       "  </tbody>\n",
       "</table>\n",
       "<p>506 rows × 2 columns</p>\n",
       "</div>"
      ],
      "text/plain": [
       "                                            Atom Fraction  Mass Fraction\n",
       "Material Submaterial Element Isotope                                    \n",
       "M1       1           H       H-1 [1001]          0.256828      -0.019042\n",
       "                             H-2 [1002]          0.000030      -0.000004\n",
       "         2           C       C-12 [6012]         0.222273      -0.196224\n",
       "                             C-13 [6013]         0.002404      -0.002300\n",
       "         3           N       N-14 [7014]         0.024374      -0.025109\n",
       "...                                                   ...            ...\n",
       "M74      1           W       W-180 [74180]       0.001196      -0.001174\n",
       "                             W-182 [74182]       0.264161      -0.262157\n",
       "                             W-183 [74183]       0.142647      -0.142344\n",
       "                             W-184 [74184]       0.305429      -0.306448\n",
       "                             W-186 [74186]       0.283399      -0.287442\n",
       "\n",
       "[506 rows x 2 columns]"
      ]
     },
     "execution_count": 41,
     "metadata": {},
     "output_type": "execute_result"
    }
   ],
   "source": [
    "# the zaids are print only in the df_mat when requested\n",
    "df_mat"
   ]
  },
  {
   "attachments": {},
   "cell_type": "markdown",
   "metadata": {},
   "source": [
    "#### Translation of the material card to different libraries"
   ]
  },
  {
   "cell_type": "code",
   "execution_count": 42,
   "metadata": {},
   "outputs": [
    {
     "name": "stdout",
     "output_type": "stream",
     "text": [
      "All translated to 81c:\n",
      "c -------------------------------------------------------------------\n",
      "M8\n",
      "c   Cu-Be-Ni:  t.a.d. = 8.6794e-002\n",
      "      28058.31c       -1.337648E-2     $ Ni-58  AB(%) 66.767\n",
      "      28060.31c       -5.346947E-3     $ Ni-60  AB(%) 26.688\n",
      "      28061.31c       -2.697346E-4     $ Ni-61  AB(%) 1.3463\n",
      "      28062.31c       -7.802716E-4     $ Ni-62  AB(%) 3.8946\n",
      "      28064.31c       -2.612322E-4     $ Ni-64  AB(%) 1.3039\n",
      "      29063.31c       -6.676429E-1     $ Cu-63  AB(%) 68.479\n",
      "      29065.31c       -3.073144E-1     $ Cu-65  AB(%) 31.521\n",
      "       4009.31c       -5.008062E-3     $ Be-9   AB(%) 100.0\n",
      "\t plib=84p\n",
      "\n",
      "Specified library for each isotope:\n",
      "c -------------------------------------------------------------------\n",
      "M8\n",
      "c   Cu-Be-Ni:  t.a.d. = 8.6794e-002\n",
      "      28058.31c       -1.337648E-2     $ Ni-58  AB(%) 66.767\n",
      "      28060.31c       -5.346947E-3     $ Ni-60  AB(%) 26.688\n",
      "      28061.80c       -2.697346E-4     $ Ni-61  AB(%) 1.3463\n",
      "      28062.31c       -7.802716E-4     $ Ni-62  AB(%) 3.8946\n",
      "      28064.31c       -2.612322E-4     $ Ni-64  AB(%) 1.3039\n",
      "      29063.31c       -6.676429E-1     $ Cu-63  AB(%) 68.479\n",
      "      29065.31c       -3.073144E-1     $ Cu-65  AB(%) 31.521\n",
      "       4009.80c       -5.008062E-3     $ Be-9   AB(%) 100.0\n",
      "\t plib=84p\n",
      "\n",
      "Different libraries based on original one:\n",
      "c -------------------------------------------------------------------\n",
      "M8\n",
      "c   Cu-Be-Ni:  t.a.d. = 8.6794e-002\n",
      "      28058.30c       -1.337648E-2     $ Ni-58  AB(%) 66.767\n",
      "      28060.30c       -5.346947E-3     $ Ni-60  AB(%) 26.688\n",
      "      28061.31c       -2.697346E-4     $ Ni-61  AB(%) 1.3463\n",
      "      28062.30c       -7.802716E-4     $ Ni-62  AB(%) 3.8946\n",
      "      28064.30c       -2.612322E-4     $ Ni-64  AB(%) 1.3039\n",
      "      29063.30c       -6.676429E-1     $ Cu-63  AB(%) 68.479\n",
      "      29065.30c       -3.073144E-1     $ Cu-65  AB(%) 31.521\n",
      "       4009.31c       -5.008062E-3     $ Be-9   AB(%) 100.0\n",
      "\t plib=84p\n"
     ]
    }
   ],
   "source": [
    "# --- Change library for all materials ---\n",
    "inp2.translate('31c', libmanager)\n",
    "print('All translated to 81c:')\n",
    "print(inp2.materials['M8'].to_text())\n",
    "\n",
    "# --- specify a library for every zaid ---\n",
    "special_zaids = ['4009', '28061']  # to be translated to specific library\n",
    "non_special = []\n",
    "for material in inp2.materials:\n",
    "    for submaterial in material.submaterials:\n",
    "        for zaid in submaterial.zaidList:\n",
    "            zaid_str = zaid.element+zaid.isotope\n",
    "            if zaid_str not in special_zaids:\n",
    "                non_special.append(zaid_str)\n",
    "\n",
    "inp2.translate({'80c': special_zaids, '31c': non_special}, libmanager)\n",
    "print('\\nSpecified library for each isotope:')\n",
    "print(inp2.materials['M8'].to_text())\n",
    "\n",
    "# --- specify different libraries depending on the original one ---\n",
    "# this can be useful when D1S libraries only have to be changed for instance\n",
    "libs = {'31c': '30c', '80c': '31c'}\n",
    "inp2.translate(libs, libmanager)\n",
    "print('\\nDifferent libraries based on original one:')\n",
    "print(inp2.materials['M8'].to_text())"
   ]
  },
  {
   "attachments": {},
   "cell_type": "markdown",
   "metadata": {},
   "source": [
    "#### Generate new materials from existing ones"
   ]
  },
  {
   "cell_type": "code",
   "execution_count": 43,
   "metadata": {},
   "outputs": [
    {
     "name": "stdout",
     "output_type": "stream",
     "text": [
      "C Material: M2 Percentage: 20.0% (mass)\n",
      "C Material: M74 Percentage: 80.0% (mass)\n",
      "M1\n",
      "c  -----------------------------------------------------------------\n",
      "C           o-------------------------------------------------------o\n",
      "c           |    Copper                                             |\n",
      "c           |    t.a.d. =   8.29204E-02                        M2   |\n",
      "C           o-------------------------------------------------------o\n",
      "c\n",
      "C M2, submaterial 1\n",
      "      29063.31c       -1.369585E-1     $ Cu-63  AB(%) 68.479\n",
      "      29065.31c       -6.304150E-2     $ Cu-65  AB(%) 31.521\n",
      "c\n",
      "C M74, submaterial 1\n",
      "      13027.31c       -1.201453E-5     $ Al-27  AB(%) 100.0\n",
      "       6012.31c       -2.349665E-5     $ C-12   AB(%) 98.842\n",
      "       6013.31c       -2.753824E-7     $ C-13   AB(%) 1.1584\n",
      "      20040.31c       -7.742686E-6     $ Ca-40  AB(%) 96.662\n",
      "      20042.31c       -5.425701E-8     $ Ca-42  AB(%) 0.67736\n",
      "      20043.31c       -1.159086E-8     $ Ca-43  AB(%) 0.1447\n",
      "      20044.31c       -1.832560E-7     $ Ca-44  AB(%) 2.2878\n",
      "      20046.31c      -3.673774E-10     $ Ca-46  AB(%) 0.0045864\n",
      "      20048.31c       -1.792187E-8     $ Ca-48  AB(%) 0.22374\n",
      "      27059.31c       -8.009724E-6     $ Co-59  AB(%) 100.0\n",
      "      24050.31c       -3.342998E-7     $ Cr-50  AB(%) 4.1737\n",
      "      24052.31c       -6.704119E-6     $ Cr-52  AB(%) 83.699\n",
      "      24053.31c       -7.748249E-7     $ Cr-53  AB(%) 9.6735\n",
      "      24054.31c       -1.965054E-7     $ Cr-54  AB(%) 2.4533\n",
      "      29063.31c       -5.486584E-6     $ Cu-63  AB(%) 68.499\n",
      "      29065.31c       -2.523103E-6     $ Cu-65  AB(%) 31.501\n",
      "      26054.31c       -1.356578E-6     $ Fe-54  AB(%) 5.6456\n",
      "      26056.31c       -2.208314E-5     $ Fe-56  AB(%) 91.902\n",
      "      26057.31c       -5.191164E-7     $ Fe-57  AB(%) 2.1604\n",
      "      26058.31c       -7.029536E-8     $ Fe-58  AB(%) 0.29254\n",
      "       1001.31c       -4.003929E-6     $ H-1    AB(%) 99.977\n",
      "       1002.31c      -9.203023E-10     $ H-2    AB(%) 0.02298\n",
      "      19039.31c       -7.443313E-6     $ K-39   AB(%) 92.937\n",
      "      19040.31c      -9.577965E-10     $ K-40   AB(%) 0.011959\n",
      "      19041.31c       -5.647107E-7     $ K-41   AB(%) 7.051\n",
      "      12024.31c       -3.121783E-6     $ Mg-24  AB(%) 77.95\n",
      "      12025.31c       -4.117021E-7     $ Mg-25  AB(%) 10.28\n",
      "      12026.31c       -4.713673E-7     $ Mg-26  AB(%) 11.77\n",
      "      25055.31c       -4.004868E-6     $ Mn-55  AB(%) 100.0\n",
      "      42092.31c       -1.138774E-5     $ Mo-92  AB(%) 14.217\n",
      "      42094.31c       -7.252501E-6     $ Mo-94  AB(%) 9.0546\n",
      "      42095.31c       -1.261515E-5     $ Mo-95  AB(%) 15.75\n",
      "      42096.31c       -1.335646E-5     $ Mo-96  AB(%) 16.675\n",
      "      42097.31c       -7.726974E-6     $ Mo-97  AB(%) 9.647\n",
      "      42098.31c       -1.972517E-5     $ Mo-98  AB(%) 24.627\n",
      "      42100.31c       -8.033012E-6     $ Mo-100 AB(%) 10.029\n",
      "       7014.31c       -7.978127E-6     $ N-14   AB(%) 99.602\n",
      "       7015.31c       -3.188774E-8     $ N-15   AB(%) 0.3981\n",
      "      11023.31c       -8.009689E-6     $ Na-23  AB(%) 100.0\n",
      "      41093.31c       -8.009716E-6     $ Nb-93  AB(%) 100.0\n",
      "      28058.31c       -1.076462E-5     $ Ni-58  AB(%) 67.198\n",
      "      28060.31c       -4.289338E-6     $ Ni-60  AB(%) 26.776\n",
      "      28061.31c       -1.895663E-7     $ Ni-61  AB(%) 1.1834\n",
      "      28062.31c       -6.143145E-7     $ Ni-62  AB(%) 3.8348\n",
      "      28064.31c       -1.614991E-7     $ Ni-64  AB(%) 1.0082\n",
      "       8016.31c       -2.390572E-5     $ O-16   AB(%) 99.729\n",
      "       8017.31c       -9.678044E-9     $ O-17   AB(%) 0.040375\n",
      "       8018.31c       -5.528194E-8     $ O-18   AB(%) 0.23062\n",
      "      15031.31c       -4.004808E-5     $ P-31   AB(%) 100.0\n",
      "      82204.31c       -1.088356E-7     $ Pb-204 AB(%) 1.3781\n",
      "      82206.31c       -1.891913E-6     $ Pb-206 AB(%) 23.956\n",
      "      82207.31c       -1.743340E-6     $ Pb-207 AB(%) 22.074\n",
      "      82208.31c       -4.153525E-6     $ Pb-208 AB(%) 52.592\n",
      "      16032.31c       -3.793265E-6     $ S-32   AB(%) 94.715\n",
      "      16033.31c       -3.088613E-8     $ S-33   AB(%) 0.77121\n",
      "      16034.31c       -1.803114E-7     $ S-34   AB(%) 4.5023\n",
      "      16036.31c      -4.492321E-10     $ S-36   AB(%) 0.011217\n",
      "      14028.31c       -1.471739E-5     $ Si-28  AB(%) 91.874\n",
      "      14029.31c       -7.740048E-7     $ Si-29  AB(%) 4.8317\n",
      "      14030.31c       -5.277873E-7     $ Si-30  AB(%) 3.2947\n",
      "      73181.31c       -8.009681E-6     $ Ta-181 AB(%) 100.0\n",
      "      22046.31c       -6.343764E-7     $ Ti-46  AB(%) 7.9226\n",
      "      22047.31c       -5.845310E-7     $ Ti-47  AB(%) 7.3001\n",
      "      22048.31c       -5.912271E-6     $ Ti-48  AB(%) 73.837\n",
      "      22049.31c       -4.431130E-7     $ Ti-49  AB(%) 5.5339\n",
      "      22050.31c       -4.329136E-7     $ Ti-50  AB(%) 5.4066\n",
      "      40090.31c       -4.060946E-6     $ Zr-90  AB(%) 50.706\n",
      "      40091.31c       -8.954570E-7     $ Zr-91  AB(%) 11.181\n",
      "      40092.31c       -1.383769E-6     $ Zr-92  AB(%) 17.278\n",
      "      40094.31c       -1.432863E-6     $ Zr-94  AB(%) 17.891\n",
      "      40096.31c       -2.357623E-7     $ Zr-96  AB(%) 2.9438\n",
      "      74180.31c       -9.392522E-4     $ W-180  AB(%) 0.11746\n",
      "      74182.31c       -2.097256E-1     $ W-182  AB(%) 26.227\n",
      "      74183.31c       -1.138753E-1     $ W-183  AB(%) 14.241\n",
      "      74184.31c       -2.451585E-1     $ W-184  AB(%) 30.658\n",
      "      74186.31c       -2.299535E-1     $ W-186  AB(%) 28.757\n"
     ]
    }
   ],
   "source": [
    "# Generate a new material as a composition of existing ones\n",
    "# The percentages are intended in mass if the fraction is to be expressed in\n",
    "# mass or in atom otherwise. The new material is created as 'M1'\n",
    "new_mat = inp2.materials.generate_material(['m2', 'm74'],\n",
    "                                           [0.2, 0.8],\n",
    "                                           '31c', libmanager,\n",
    "                                           fractiontype='mass')\n",
    "print(new_mat.to_text())"
   ]
  },
  {
   "attachments": {},
   "cell_type": "markdown",
   "metadata": {},
   "source": [
    "#### Generate a material from a list of zaids or elements"
   ]
  },
  {
   "attachments": {},
   "cell_type": "markdown",
   "metadata": {},
   "source": [
    "it is also possible to generate a material from a list of zaids. If the \"natural zaids\" notation is used, the elements are expanded automatically as shown in the following example."
   ]
  },
  {
   "cell_type": "code",
   "execution_count": 44,
   "metadata": {},
   "outputs": [
    {
     "name": "stdout",
     "output_type": "stream",
     "text": [
      "C header of the material\n",
      "M1\n",
      "       1001.31c       -4.698638E+0     $ H-1    AB(%) 99.971\n",
      "       1002.31c       -1.361756E-3     $ H-2    AB(%) 0.028974\n",
      "       5010.31c       -5.531343E+0     $ B-10   AB(%) 18.195\n",
      "       5011.31c       -2.486866E+1     $ B-11   AB(%) 81.805\n",
      "       6012.31c       -2.797523E+1     $ C-12   AB(%) 98.852\n",
      "       6013.31c       -3.247744E-1     $ C-13   AB(%) 1.1476\n",
      "      11023.31c       -3.200000E+0     $ Na-23  AB(%) 100.0\n",
      "      16032.31c       -3.130391E+1     $ S-32   AB(%) 94.574\n",
      "      16033.31c       -2.596888E-1     $ S-33   AB(%) 0.78456\n",
      "      16034.31c       -1.530534E+0     $ S-34   AB(%) 4.624\n",
      "      16036.31c       -5.866145E-3     $ S-36   AB(%) 0.017722\n",
      "      14028.31c       -5.513970E-2     $ Si-28  AB(%) 91.899\n",
      "      14029.31c       -2.892181E-3     $ Si-29  AB(%) 4.8203\n",
      "      14030.31c       -1.968119E-3     $ Si-30  AB(%) 3.2802\n",
      "      26054.31c       -4.516447E-3     $ Fe-54  AB(%) 5.6456\n",
      "      26056.31c       -7.352122E-2     $ Fe-56  AB(%) 91.902\n",
      "      26057.31c       -1.728295E-3     $ Fe-57  AB(%) 2.1604\n",
      "      26058.31c       -2.340355E-4     $ Fe-58  AB(%) 0.29254\n",
      "       7014.31c       -3.983744E-1     $ N-14   AB(%) 99.594\n",
      "       7015.31c       -1.625644E-3     $ N-15   AB(%) 0.40641\n"
     ]
    }
   ],
   "source": [
    "from f4enix.input.materials import Material\n",
    "from f4enix.input.libmanager import LibManager\n",
    "\n",
    "libman = LibManager()  # always needed when libraries are involved\n",
    "zaids = [(1000, -4.7), (5000, -30.4), (6000, -28.3), (11000, -3.2),\n",
    "         (16000, -33.1), (14000, -0.06), (26000, -0.08), (7000, -0.4)]\n",
    "newmat = Material.from_zaids(zaids, libman, '31c', 'header of the material')\n",
    "print(newmat.to_text())"
   ]
  },
  {
   "attachments": {},
   "cell_type": "markdown",
   "metadata": {},
   "source": [
    "The elements/zaids to be added can be specified with the zaid number but also using their formula as shown below"
   ]
  },
  {
   "cell_type": "code",
   "execution_count": 45,
   "metadata": {},
   "outputs": [
    {
     "name": "stdout",
     "output_type": "stream",
     "text": [
      "C header of the material\n",
      "M1\n",
      "       1001.31c       -1.000000E+2     $ H-1    AB(%) 100.0\n",
      "       5010.31c       -3.639041E+1     $ B-10   AB(%) 18.195\n",
      "       5011.31c       -1.636096E+2     $ B-11   AB(%) 81.805\n",
      "       6012.31c       -5.000000E+1     $ C-12   AB(%) 100.0\n"
     ]
    }
   ],
   "source": [
    "zaids = [('1001', -100), ('B-0', -200), ('C-12', -50)]\n",
    "newmat = Material.from_zaids(zaids, libman, '31c', 'header of the material')\n",
    "print(newmat.to_text())"
   ]
  },
  {
   "cell_type": "markdown",
   "metadata": {},
   "source": [
    "### Renumbering and Merging"
   ]
  },
  {
   "cell_type": "markdown",
   "metadata": {},
   "source": [
    "A very common task when dealing with MCNP input is renumbering. The numjuggler capabilities have been restored also in F4Enix with the exception of renumbering materials"
   ]
  },
  {
   "cell_type": "code",
   "execution_count": 46,
   "metadata": {},
   "outputs": [
    {
     "name": "stdout",
     "output_type": "stream",
     "text": [
      "keys are not modified by renumbering:\n",
      "dict_keys(['1', '2', '3', '4', '5', '6', '7', '8', '9', '10', '11', '12', '13', '14', '15', '16', '17', '18', '19', '20', '21', '22', '23', '24', '25', '26', '27', '28', '29', '30', '31', '32', '33', '34', '35', '36', '37', '38', '39', '40', '41', '42', '43', '44', '45', '46', '47', '48', '49', '50', '51', '52', '53', '54', '55', '56', '57', '58', '59', '60', '61', '62', '63', '64', '65', '66', '67', '68', '69', '70', '71', '72', '73', '74', '75', '76', '77', '78', '79', '80', '81', '82', '83', '84', '85', '86', '87', '88', '89', '90', '91', '92', '93', '94', '95', '96', '97', '98', '99', '100', '101', '102', '103', '104', '105', '106'])\n",
      "\n",
      "\n",
      "\n",
      "but the renumbering correctly happens when dumped:\n",
      "\n",
      "ITER 1D\n",
      "c  -use endfb8.0 with ljj builds of mcnp6\n",
      "c \n",
      "c  mcnp6.mpi n=inp173 \n",
      "c \n",
      "c        bohm edits\n",
      "c             -added ebin to f14 photon flux tally\n",
      "c \n",
      "c        Cells section:\n",
      "101    0                -175 176 -121          imp:n,p=8388608\n",
      "102     13  7.2058e-002  -175 176   121  -180   imp:n,p=8388608  \n",
      "103     13  7.2058e-002  -175 176  180  -181   imp:n,p=8388608  \n",
      "104     13  7.2058e-002  -175 176  181  -182   imp:n,p=4194304  \n",
      "105     13  7.2058e-002  -175 176  182  -183   imp:n,p=4194304  \n",
      "106     13  7.2058e-002  -175 176  183  -184   imp:n,p=2097152  \n",
      "107     13  7.2058e-002  -175 176  184  -185   imp:n,p=2097152  \n",
      "108     13  7.2058e-002  -175 176  185  -186   imp:n,p=1048576   \n",
      "109     13  7.2058e-002  -175 176  186  -187   imp:n,p=1048576   \n",
      "110    13  7.2058e-002  -175 176  187  -188   imp:n,p=524288 \n",
      "111    13  7.2058e-002  -175 176  188  -189   imp:n,p=524288 \n",
      "112    13  7.2058e-002  -175 176  189  -190   imp:n,p=262144  \n",
      "113    13  7.2058e-002  -175 176  190  -191   imp:n,p=262144  \n"
     ]
    }
   ],
   "source": [
    "newinp = deepcopy(inp)\n",
    "\n",
    "newinp.renumber(cells=100, surfs=120, translations=10, universes=10)\n",
    "# when used like that, the keys of the dictionary will not be updated\n",
    "print('keys are not modified by renumbering:')\n",
    "print(newinp.cells.keys())\n",
    "print('\\n\\n')\n",
    "# it is recommeded then to operate the renumbering only at the end of the\n",
    "# pre-processing\n",
    "outfile = os.path.join(tempfile.gettempdir(), 'renum.i')\n",
    "newinp.write(outfile)\n",
    "\n",
    "print('but the renumbering correctly happens when dumped:\\n')\n",
    "with open(outfile, 'r') as infile:\n",
    "    for i, line in enumerate(infile):\n",
    "        print(line.strip('\\n'))\n",
    "        if i > 20:\n",
    "            break"
   ]
  },
  {
   "cell_type": "code",
   "execution_count": 47,
   "metadata": {},
   "outputs": [
    {
     "name": "stdout",
     "output_type": "stream",
     "text": [
      "now dict keys are also renumbered:\n",
      "dict_keys(['1001', '1002', '1003', '1004', '1005', '1006', '1007', '1008', '1009', '1010', '1011', '1012', '1013', '1014', '1015', '1016', '1017', '1018', '1019', '1020', '1021', '1022', '1023', '1024', '1025', '1026', '1027', '1028', '1029', '1030', '1031', '1032', '1033', '1034', '1035', '1036', '1037', '1038', '1039', '1040', '1041', '1042', '1043', '1044', '1045', '1046', '1047', '1048', '1049', '1050', '1051', '1052', '1053', '1054', '1055', '1056', '1057', '1058', '1059', '1060', '1061', '1062', '1063', '1064', '1065', '1066', '1067', '1068', '1069', '1070', '1071', '1072', '1073', '1074', '1075', '1076', '1077', '1078', '1079', '1080', '1081', '1082', '1083', '1084', '1085', '1086', '1087', '1088', '1089', '1090', '1091', '1092', '1093', '1094', '1095', '1096', '1097', '1098', '1099', '1100', '1101', '1102', '1103', '1104', '1105', '1106'])\n",
      "\n",
      "\n",
      "\n"
     ]
    }
   ],
   "source": [
    "# keys can be updated if needed, it will cost a bit in term of performance\n",
    "# this do not guarantee that all internal numjuggler parameters are also updated\n",
    "newinp = deepcopy(inp)\n",
    "\n",
    "# the renumber_all option can be useful\n",
    "newinp.renumber(renum_all=1000, update_keys=True)\n",
    "# when used like that, the keys of the dictionary will not be updated\n",
    "print('now dict keys are also renumbered:')\n",
    "print(newinp.cells.keys())\n",
    "print('\\n\\n')"
   ]
  },
  {
   "cell_type": "markdown",
   "metadata": {},
   "source": [
    "The ability to renumber is often connected by the ability to merge two different mcnp inputs into a single one. A check is made to not duplicate the ID of cells, surfaces, materials or transformations. All other cards, if with duplicated ID, will be the ones of ``inp2`` in the example below "
   ]
  },
  {
   "cell_type": "code",
   "execution_count": 48,
   "metadata": {},
   "outputs": [
    {
     "name": "stdout",
     "output_type": "stream",
     "text": [
      "original cells: 106, original surfs: 107\n",
      "merged cells: 212, original surfs: 214\n"
     ]
    }
   ],
   "source": [
    "# just for the sake of the example, the same but renumbered input is merged\n",
    "inp1 = deepcopy(inp)\n",
    "print(f'original cells: {len(inp1.cells)}, original surfs: {len(inp1.surfs)}')\n",
    "inp2 = deepcopy(inp)\n",
    "\n",
    "inp2.renumber(renum_all=1000, update_keys=True)\n",
    "inp1.merge(inp2)\n",
    "print(f'merged cells: {len(inp1.cells)}, original surfs: {len(inp1.surfs)}')"
   ]
  },
  {
   "cell_type": "markdown",
   "metadata": {},
   "source": [
    "### Hash and Cut"
   ]
  },
  {
   "cell_type": "markdown",
   "metadata": {},
   "source": [
    "Sometimes it may be useful to cut certain cells with a surface or hash them with a cell."
   ]
  },
  {
   "cell_type": "code",
   "execution_count": 49,
   "metadata": {},
   "outputs": [
    {
     "name": "stdout",
     "output_type": "stream",
     "text": [
      "original cell:\n",
      "2     13  7.2058e-002  -55 56   1  -60   imp:n,p=8388608  \n",
      "\n",
      "cell after cut:\n",
      "2 13 7.2058e-002 ( -55 56 1 -60 ) 3  imp:n,p=8388608      \n",
      "\n"
     ]
    }
   ],
   "source": [
    "# cut the cell with a surface\n",
    "newinp = deepcopy(inp)\n",
    "cell = newinp.cells['2']\n",
    "print(f'original cell:\\n{cell.card()}')\n",
    "Input.add_surface(cell, 3, inplace=True)\n",
    "print(f'cell after cut:\\n{cell.card()}')\n"
   ]
  },
  {
   "cell_type": "code",
   "execution_count": 50,
   "metadata": {},
   "outputs": [
    {
     "name": "stdout",
     "output_type": "stream",
     "text": [
      "original cell:\n",
      "2     13  7.2058e-002  -55 56   1  -60   imp:n,p=8388608  \n",
      "\n",
      "cell after hash:\n",
      "2 13 7.2058e-002 ( -55 56 1 -60 ) #3  imp:n,p=8388608     \n",
      "\n",
      "multiple hashes:\n",
      "3 13 7.2058e-002 ( -55 56 60 -61 ) #1  imp:n,p=8388608    \n",
      "\n",
      "4 13 7.2058e-002 ( -55 56 61 -62 ) #1  imp:n,p=4194304    \n",
      "\n",
      "6 13 7.2058e-002 ( -55 56 63 -64 ) #2  imp:n,p=2097152    \n",
      "\n"
     ]
    }
   ],
   "source": [
    "# hash a cell with a surface\n",
    "newinp = deepcopy(inp)\n",
    "cell = newinp.cells['2']\n",
    "print(f'original cell:\\n{cell.card()}')\n",
    "Input.hash_cell(cell, 3, inplace=True)\n",
    "print(f'cell after hash:\\n{cell.card()}')\n",
    "\n",
    "# it is also possible to hash multiple cells at once, this is always done inplace\n",
    "print('multiple hashes:')\n",
    "hashes = {1: [3, 4], 2: [6]}\n",
    "newinp = deepcopy(inp)\n",
    "newinp.hash_multiple_cells(hashes)\n",
    "for id in [3, 4, 6]:\n",
    "    print(newinp.cells[str(id)].card())"
   ]
  },
  {
   "cell_type": "markdown",
   "metadata": {},
   "source": [
    "### Working with tallies"
   ]
  },
  {
   "cell_type": "markdown",
   "metadata": {},
   "source": [
    "#### Get an implemented tallies summary"
   ]
  },
  {
   "cell_type": "markdown",
   "metadata": {},
   "source": [
    "When producing a report, it can be useful to have a summary of the tallies defined in the input"
   ]
  },
  {
   "cell_type": "code",
   "execution_count": 51,
   "metadata": {},
   "outputs": [
    {
     "data": {
      "application/vnd.microsoft.datawrangler.viewer.v0+json": {
       "columns": [
        {
         "name": "Tally",
         "rawType": "int64",
         "type": "integer"
        },
        {
         "name": "Particle",
         "rawType": "object",
         "type": "string"
        },
        {
         "name": "Description",
         "rawType": "object",
         "type": "string"
        },
        {
         "name": "Normalization",
         "rawType": "object",
         "type": "string"
        },
        {
         "name": "Other multipliers",
         "rawType": "object",
         "type": "unknown"
        }
       ],
       "conversionMethod": "pd.DataFrame",
       "ref": "ae24e071-697f-4f86-bec2-c6682331c266",
       "rows": [
        [
         "4",
         "N",
         "Neutrons Flux (energy binned) [#/cm^2]",
         "1.222e21",
         null
        ],
        [
         "6",
         "NP",
         "Total Nuclear Heating [W/g]",
         "1.9577e8",
         null
        ],
        [
         "14",
         "P",
         "Photons Flux (energy binned) [#/cm^2]",
         "1.222e21",
         null
        ],
        [
         "16",
         "N",
         "Neutron Heating [W/g]",
         "1.9577e8",
         null
        ],
        [
         "24",
         "N",
         "Fe dpa/FPY",
         "3.8566e8",
         "['16', '444']"
        ],
        [
         "26",
         "P",
         "Gamma Heating [W/g]",
         "1.9577e8",
         null
        ],
        [
         "34",
         "N",
         "He in 316SS appm/FPY",
         "3.8566e10",
         "['11', '(207:206)']"
        ],
        [
         "44",
         "N",
         "H in 316SS appm/FPY",
         "3.8566e10",
         "['11', '(203:204:205)']"
        ],
        [
         "54",
         "N",
         "T in 316SS appm/FPY",
         "3.8566e10",
         "['11', '205']"
        ],
        [
         "64",
         "N",
         "Cu dpa/FPY",
         "3.8566e8",
         "['2', '444']"
        ],
        [
         "74",
         "N",
         "He in CuBeNi appm/FPY",
         "3.8566e10",
         "['8', '(207:206)']"
        ],
        [
         "84",
         "N",
         "H in CuBeNi appm/FPY",
         "3.8566e10",
         "['8', '(203:204:205)']"
        ],
        [
         "94",
         "N",
         "T in CuBeNi appm/FPY",
         "3.8566e10",
         "['8', '205']"
        ],
        [
         "104",
         "N",
         "Ni dpa/FPY",
         "3.8566e8",
         "['17', '444']"
        ],
        [
         "114",
         "N",
         "He in Inconel appm/FPY",
         "3.8566e10",
         "['12', '(207:206)']"
        ],
        [
         "124",
         "N",
         "H in Inconel appm/FPY",
         "3.8566e10",
         "['12', '(203:204:205)']"
        ],
        [
         "134",
         "N",
         "T in Inconel appm/FPY",
         "3.8566e10",
         "['12', '205']"
        ],
        [
         "144",
         "N",
         "He in Be appm/FPY",
         "3.8566e10",
         "['9', '(207:206)']"
        ],
        [
         "154",
         "N",
         "H in Be appm/FPY",
         "3.8566e10",
         "['9', '(203:204:205)']"
        ],
        [
         "164",
         "N",
         "T in Be appm/FPY",
         "3.8566e10",
         "['9', '205']"
        ],
        [
         "174",
         "N",
         "fast (E>0.1 MeV) fluence at magnet n/cm2/FPY",
         "3.8566e28",
         null
        ],
        [
         "204",
         "N",
         "Total Neutron Flux [#/cm^2]",
         "1.222e21",
         null
        ],
        [
         "214",
         "P",
         "Total Photons Flux [#/cm^2]",
         "1.222e21",
         null
        ]
       ],
       "shape": {
        "columns": 4,
        "rows": 23
       }
      },
      "text/html": [
       "<div>\n",
       "<style scoped>\n",
       "    .dataframe tbody tr th:only-of-type {\n",
       "        vertical-align: middle;\n",
       "    }\n",
       "\n",
       "    .dataframe tbody tr th {\n",
       "        vertical-align: top;\n",
       "    }\n",
       "\n",
       "    .dataframe thead th {\n",
       "        text-align: right;\n",
       "    }\n",
       "</style>\n",
       "<table border=\"1\" class=\"dataframe\">\n",
       "  <thead>\n",
       "    <tr style=\"text-align: right;\">\n",
       "      <th></th>\n",
       "      <th>Particle</th>\n",
       "      <th>Description</th>\n",
       "      <th>Normalization</th>\n",
       "      <th>Other multipliers</th>\n",
       "    </tr>\n",
       "    <tr>\n",
       "      <th>Tally</th>\n",
       "      <th></th>\n",
       "      <th></th>\n",
       "      <th></th>\n",
       "      <th></th>\n",
       "    </tr>\n",
       "  </thead>\n",
       "  <tbody>\n",
       "    <tr>\n",
       "      <th>4</th>\n",
       "      <td>N</td>\n",
       "      <td>Neutrons Flux (energy binned) [#/cm^2]</td>\n",
       "      <td>1.222e21</td>\n",
       "      <td>&lt;NA&gt;</td>\n",
       "    </tr>\n",
       "    <tr>\n",
       "      <th>6</th>\n",
       "      <td>NP</td>\n",
       "      <td>Total Nuclear Heating [W/g]</td>\n",
       "      <td>1.9577e8</td>\n",
       "      <td>&lt;NA&gt;</td>\n",
       "    </tr>\n",
       "    <tr>\n",
       "      <th>14</th>\n",
       "      <td>P</td>\n",
       "      <td>Photons Flux (energy binned) [#/cm^2]</td>\n",
       "      <td>1.222e21</td>\n",
       "      <td>&lt;NA&gt;</td>\n",
       "    </tr>\n",
       "    <tr>\n",
       "      <th>16</th>\n",
       "      <td>N</td>\n",
       "      <td>Neutron Heating [W/g]</td>\n",
       "      <td>1.9577e8</td>\n",
       "      <td>&lt;NA&gt;</td>\n",
       "    </tr>\n",
       "    <tr>\n",
       "      <th>24</th>\n",
       "      <td>N</td>\n",
       "      <td>Fe dpa/FPY</td>\n",
       "      <td>3.8566e8</td>\n",
       "      <td>[16, 444]</td>\n",
       "    </tr>\n",
       "    <tr>\n",
       "      <th>26</th>\n",
       "      <td>P</td>\n",
       "      <td>Gamma Heating [W/g]</td>\n",
       "      <td>1.9577e8</td>\n",
       "      <td>&lt;NA&gt;</td>\n",
       "    </tr>\n",
       "    <tr>\n",
       "      <th>34</th>\n",
       "      <td>N</td>\n",
       "      <td>He in 316SS appm/FPY</td>\n",
       "      <td>3.8566e10</td>\n",
       "      <td>[11, (207:206)]</td>\n",
       "    </tr>\n",
       "    <tr>\n",
       "      <th>44</th>\n",
       "      <td>N</td>\n",
       "      <td>H in 316SS appm/FPY</td>\n",
       "      <td>3.8566e10</td>\n",
       "      <td>[11, (203:204:205)]</td>\n",
       "    </tr>\n",
       "    <tr>\n",
       "      <th>54</th>\n",
       "      <td>N</td>\n",
       "      <td>T in 316SS appm/FPY</td>\n",
       "      <td>3.8566e10</td>\n",
       "      <td>[11, 205]</td>\n",
       "    </tr>\n",
       "    <tr>\n",
       "      <th>64</th>\n",
       "      <td>N</td>\n",
       "      <td>Cu dpa/FPY</td>\n",
       "      <td>3.8566e8</td>\n",
       "      <td>[2, 444]</td>\n",
       "    </tr>\n",
       "    <tr>\n",
       "      <th>74</th>\n",
       "      <td>N</td>\n",
       "      <td>He in CuBeNi appm/FPY</td>\n",
       "      <td>3.8566e10</td>\n",
       "      <td>[8, (207:206)]</td>\n",
       "    </tr>\n",
       "    <tr>\n",
       "      <th>84</th>\n",
       "      <td>N</td>\n",
       "      <td>H in CuBeNi appm/FPY</td>\n",
       "      <td>3.8566e10</td>\n",
       "      <td>[8, (203:204:205)]</td>\n",
       "    </tr>\n",
       "    <tr>\n",
       "      <th>94</th>\n",
       "      <td>N</td>\n",
       "      <td>T in CuBeNi appm/FPY</td>\n",
       "      <td>3.8566e10</td>\n",
       "      <td>[8, 205]</td>\n",
       "    </tr>\n",
       "    <tr>\n",
       "      <th>104</th>\n",
       "      <td>N</td>\n",
       "      <td>Ni dpa/FPY</td>\n",
       "      <td>3.8566e8</td>\n",
       "      <td>[17, 444]</td>\n",
       "    </tr>\n",
       "    <tr>\n",
       "      <th>114</th>\n",
       "      <td>N</td>\n",
       "      <td>He in Inconel appm/FPY</td>\n",
       "      <td>3.8566e10</td>\n",
       "      <td>[12, (207:206)]</td>\n",
       "    </tr>\n",
       "    <tr>\n",
       "      <th>124</th>\n",
       "      <td>N</td>\n",
       "      <td>H in Inconel appm/FPY</td>\n",
       "      <td>3.8566e10</td>\n",
       "      <td>[12, (203:204:205)]</td>\n",
       "    </tr>\n",
       "    <tr>\n",
       "      <th>134</th>\n",
       "      <td>N</td>\n",
       "      <td>T in Inconel appm/FPY</td>\n",
       "      <td>3.8566e10</td>\n",
       "      <td>[12, 205]</td>\n",
       "    </tr>\n",
       "    <tr>\n",
       "      <th>144</th>\n",
       "      <td>N</td>\n",
       "      <td>He in Be appm/FPY</td>\n",
       "      <td>3.8566e10</td>\n",
       "      <td>[9, (207:206)]</td>\n",
       "    </tr>\n",
       "    <tr>\n",
       "      <th>154</th>\n",
       "      <td>N</td>\n",
       "      <td>H in Be appm/FPY</td>\n",
       "      <td>3.8566e10</td>\n",
       "      <td>[9, (203:204:205)]</td>\n",
       "    </tr>\n",
       "    <tr>\n",
       "      <th>164</th>\n",
       "      <td>N</td>\n",
       "      <td>T in Be appm/FPY</td>\n",
       "      <td>3.8566e10</td>\n",
       "      <td>[9, 205]</td>\n",
       "    </tr>\n",
       "    <tr>\n",
       "      <th>174</th>\n",
       "      <td>N</td>\n",
       "      <td>fast (E&gt;0.1 MeV) fluence at magnet n/cm2/FPY</td>\n",
       "      <td>3.8566e28</td>\n",
       "      <td>&lt;NA&gt;</td>\n",
       "    </tr>\n",
       "    <tr>\n",
       "      <th>204</th>\n",
       "      <td>N</td>\n",
       "      <td>Total Neutron Flux [#/cm^2]</td>\n",
       "      <td>1.222e21</td>\n",
       "      <td>&lt;NA&gt;</td>\n",
       "    </tr>\n",
       "    <tr>\n",
       "      <th>214</th>\n",
       "      <td>P</td>\n",
       "      <td>Total Photons Flux [#/cm^2]</td>\n",
       "      <td>1.222e21</td>\n",
       "      <td>&lt;NA&gt;</td>\n",
       "    </tr>\n",
       "  </tbody>\n",
       "</table>\n",
       "</div>"
      ],
      "text/plain": [
       "      Particle                                   Description Normalization  \\\n",
       "Tally                                                                        \n",
       "4            N        Neutrons Flux (energy binned) [#/cm^2]      1.222e21   \n",
       "6           NP                   Total Nuclear Heating [W/g]      1.9577e8   \n",
       "14           P         Photons Flux (energy binned) [#/cm^2]      1.222e21   \n",
       "16           N                         Neutron Heating [W/g]      1.9577e8   \n",
       "24           N                                    Fe dpa/FPY      3.8566e8   \n",
       "26           P                           Gamma Heating [W/g]      1.9577e8   \n",
       "34           N                          He in 316SS appm/FPY     3.8566e10   \n",
       "44           N                           H in 316SS appm/FPY     3.8566e10   \n",
       "54           N                           T in 316SS appm/FPY     3.8566e10   \n",
       "64           N                                    Cu dpa/FPY      3.8566e8   \n",
       "74           N                         He in CuBeNi appm/FPY     3.8566e10   \n",
       "84           N                          H in CuBeNi appm/FPY     3.8566e10   \n",
       "94           N                          T in CuBeNi appm/FPY     3.8566e10   \n",
       "104          N                                    Ni dpa/FPY      3.8566e8   \n",
       "114          N                        He in Inconel appm/FPY     3.8566e10   \n",
       "124          N                         H in Inconel appm/FPY     3.8566e10   \n",
       "134          N                         T in Inconel appm/FPY     3.8566e10   \n",
       "144          N                             He in Be appm/FPY     3.8566e10   \n",
       "154          N                              H in Be appm/FPY     3.8566e10   \n",
       "164          N                              T in Be appm/FPY     3.8566e10   \n",
       "174          N  fast (E>0.1 MeV) fluence at magnet n/cm2/FPY     3.8566e28   \n",
       "204          N                   Total Neutron Flux [#/cm^2]      1.222e21   \n",
       "214          P                   Total Photons Flux [#/cm^2]      1.222e21   \n",
       "\n",
       "         Other multipliers  \n",
       "Tally                       \n",
       "4                     <NA>  \n",
       "6                     <NA>  \n",
       "14                    <NA>  \n",
       "16                    <NA>  \n",
       "24               [16, 444]  \n",
       "26                    <NA>  \n",
       "34         [11, (207:206)]  \n",
       "44     [11, (203:204:205)]  \n",
       "54               [11, 205]  \n",
       "64                [2, 444]  \n",
       "74          [8, (207:206)]  \n",
       "84      [8, (203:204:205)]  \n",
       "94                [8, 205]  \n",
       "104              [17, 444]  \n",
       "114        [12, (207:206)]  \n",
       "124    [12, (203:204:205)]  \n",
       "134              [12, 205]  \n",
       "144         [9, (207:206)]  \n",
       "154     [9, (203:204:205)]  \n",
       "164               [9, 205]  \n",
       "174                   <NA>  \n",
       "204                   <NA>  \n",
       "214                   <NA>  "
      ]
     },
     "execution_count": 51,
     "metadata": {},
     "output_type": "execute_result"
    }
   ],
   "source": [
    "# Normal tallies\n",
    "inp.get_tally_summary()"
   ]
  },
  {
   "cell_type": "code",
   "execution_count": 52,
   "metadata": {},
   "outputs": [
    {
     "data": {
      "application/vnd.microsoft.datawrangler.viewer.v0+json": {
       "columns": [
        {
         "name": "Tally",
         "rawType": "int64",
         "type": "integer"
        },
        {
         "name": "Particle",
         "rawType": "object",
         "type": "string"
        },
        {
         "name": "Description",
         "rawType": "object",
         "type": "string"
        },
        {
         "name": "Normalization",
         "rawType": "object",
         "type": "string"
        },
        {
         "name": "Other multipliers",
         "rawType": "object",
         "type": "unknown"
        }
       ],
       "conversionMethod": "pd.DataFrame",
       "ref": "fc1c0752-0891-41d0-bbc4-cae2e5e3446b",
       "rows": [
        [
         "1004",
         "N",
         "Neutron Flux [#/cc/s]",
         "1.222e21",
         null
        ],
        [
         "1024",
         "P",
         "Photon Flux [#/cc/s]",
         "1.222e21",
         null
        ]
       ],
       "shape": {
        "columns": 4,
        "rows": 2
       }
      },
      "text/html": [
       "<div>\n",
       "<style scoped>\n",
       "    .dataframe tbody tr th:only-of-type {\n",
       "        vertical-align: middle;\n",
       "    }\n",
       "\n",
       "    .dataframe tbody tr th {\n",
       "        vertical-align: top;\n",
       "    }\n",
       "\n",
       "    .dataframe thead th {\n",
       "        text-align: right;\n",
       "    }\n",
       "</style>\n",
       "<table border=\"1\" class=\"dataframe\">\n",
       "  <thead>\n",
       "    <tr style=\"text-align: right;\">\n",
       "      <th></th>\n",
       "      <th>Particle</th>\n",
       "      <th>Description</th>\n",
       "      <th>Normalization</th>\n",
       "      <th>Other multipliers</th>\n",
       "    </tr>\n",
       "    <tr>\n",
       "      <th>Tally</th>\n",
       "      <th></th>\n",
       "      <th></th>\n",
       "      <th></th>\n",
       "      <th></th>\n",
       "    </tr>\n",
       "  </thead>\n",
       "  <tbody>\n",
       "    <tr>\n",
       "      <th>1004</th>\n",
       "      <td>N</td>\n",
       "      <td>Neutron Flux [#/cc/s]</td>\n",
       "      <td>1.222e21</td>\n",
       "      <td>&lt;NA&gt;</td>\n",
       "    </tr>\n",
       "    <tr>\n",
       "      <th>1024</th>\n",
       "      <td>P</td>\n",
       "      <td>Photon Flux [#/cc/s]</td>\n",
       "      <td>1.222e21</td>\n",
       "      <td>&lt;NA&gt;</td>\n",
       "    </tr>\n",
       "  </tbody>\n",
       "</table>\n",
       "</div>"
      ],
      "text/plain": [
       "      Particle            Description Normalization Other multipliers\n",
       "Tally                                                                \n",
       "1004         N  Neutron Flux [#/cc/s]      1.222e21              <NA>\n",
       "1024         P   Photon Flux [#/cc/s]      1.222e21              <NA>"
      ]
     },
     "execution_count": 52,
     "metadata": {},
     "output_type": "execute_result"
    }
   ],
   "source": [
    "# FMESHES\n",
    "inp.get_tally_summary(fmesh=True)"
   ]
  },
  {
   "cell_type": "markdown",
   "metadata": {},
   "source": [
    "#### Adding new tallies"
   ]
  },
  {
   "cell_type": "markdown",
   "metadata": {},
   "source": [
    "Tallies are not explicitly handled with ad hoc object in F4Enix for the moment but the numjuggler cards can be accessed through the ``Input.other_data`` dictionary. Nevertheless, a method is provided to conveniently add 'F' tallies to an existing input"
   ]
  },
  {
   "cell_type": "code",
   "execution_count": 53,
   "metadata": {},
   "outputs": [
    {
     "name": "stdout",
     "output_type": "stream",
     "text": [
      "E4\n",
      "     1.0000e+04 1.0909e+04 1.1818e+04 1.2727e+04 1.3636e+04 1.4545e+04\n",
      "     1.5455e+04 1.6364e+04 1.7273e+04 1.8182e+04 1.9091e+04 2.0000e+04\n",
      "     2.0909e+04 2.1818e+04 2.2727e+04 2.3636e+04 2.4545e+04 2.5455e+04\n",
      "     2.6364e+04 2.7273e+04 2.8182e+04 2.9091e+04 3.0000e+04 3.0909e+04\n",
      "     3.1818e+04 3.2727e+04 3.3636e+04 3.4545e+04 3.5455e+04 3.6364e+04\n",
      "     3.7273e+04 3.8182e+04 3.9091e+04 4.0000e+04 4.0909e+04 4.1818e+04\n",
      "     4.2727e+04 4.3636e+04 4.4545e+04 4.5455e+04 4.6364e+04 4.7273e+04\n",
      "     4.8182e+04 4.9091e+04 5.0000e+04 5.0909e+04 5.1818e+04 5.2727e+04\n",
      "     5.3636e+04 5.4545e+04 5.5455e+04 5.6364e+04 5.7273e+04 5.8182e+04\n",
      "     5.9091e+04 6.0000e+04 6.0909e+04 6.1818e+04 6.2727e+04 6.3636e+04\n",
      "     6.4545e+04 6.5455e+04 6.6364e+04 6.7273e+04 6.8182e+04 6.9091e+04\n",
      "     7.0000e+04 7.0909e+04 7.1818e+04 7.2727e+04 7.3636e+04 7.4545e+04\n",
      "     7.5455e+04 7.6364e+04 7.7273e+04 7.8182e+04 7.9091e+04 8.0000e+04\n",
      "     8.0909e+04 8.1818e+04 8.2727e+04 8.3636e+04 8.4545e+04 8.5455e+04\n",
      "     8.6364e+04 8.7273e+04 8.8182e+04 8.9091e+04 9.0000e+04 9.0909e+04\n",
      "     9.1818e+04 9.2727e+04 9.3636e+04 9.4545e+04 9.5455e+04 9.6364e+04\n",
      "      9.7273e+04 9.8182e+04 9.9091e+04 1.0000e+05 \n",
      "\n",
      "FC4 Test F4 tally\n",
      "\n",
      "F4:N,P\n",
      "     100 101 102 103 104 105 106 107 108 109 110 111 112 113 114 115 116\n",
      "     117 118 119 120 121 122 123 124 125 126 127 128 129 130 131 132 133\n",
      "      134 135 136 137 138 139 140 141 142 143 144 145 146 147 148 149 T \n",
      "\n",
      "FM4 1 -52 1\n",
      "\n",
      "SD4 1 50R\n",
      "\n"
     ]
    }
   ],
   "source": [
    "import numpy as np\n",
    "\n",
    "newinput = deepcopy(inp)\n",
    "cells = range(100, 150)  # whatever array of integers\n",
    "energies = np.linspace(1e4, 1e5, 100)  # whatever array of floats\n",
    "newinput.add_F_tally(\n",
    "    4,  # ID of the tally\n",
    "    [\"N\", \"P\"],  # particles to be tallied\n",
    "    cells, # either cells or surfaces ints to tally\n",
    "    energies=energies,  # energies to tally (optional)\n",
    "    description=\"Test F4 tally\", # description of the tally\n",
    "    add_SD=True, # add SD card equal 1 for each bin\n",
    "    add_total=True, # add total to the cell or surface bin\n",
    "    multiplier=\"1 -52 1\", # multiplier for the tally\n",
    ")\n",
    "\n",
    "# shortcut to print the result, writing the input to a file would give the same\n",
    "# result\n",
    "for idx, card in newinput.other_data.items():\n",
    "    # Even if FC, SD, E and FM are connected to F4 they are still stored as \n",
    "    # separate cards\n",
    "    if idx in ['F4', 'FC4', 'SD4', 'E4', 'FM4']:\n",
    "        print(card.card())"
   ]
  },
  {
   "cell_type": "markdown",
   "metadata": {},
   "source": [
    "You can also add a more complex cell definition in the tally as a string:"
   ]
  },
  {
   "cell_type": "code",
   "execution_count": 54,
   "metadata": {},
   "outputs": [
    {
     "name": "stdout",
     "output_type": "stream",
     "text": [
      "FC14 Test F14 tally\n",
      "\n",
      "F14:N\n",
      "     ((1 2 3 4 5 6) < 10) 12 (((1 2 3 4 5 6) 18) < 11) 19 20 ((1 2 3 4 5\n",
      "      11) < 20) T \n",
      "\n",
      "FM14 1 -52 1\n",
      "\n",
      "e14 .1 1 5 10 20 t\n",
      "\n",
      "SD14 1 6R\n",
      "\n"
     ]
    }
   ],
   "source": [
    "newinput = deepcopy(inp)\n",
    "cells = [\"((1 2 3 4 5 6) < 10)\", 12, \"(((1 2 3 4 5 6) 18) < 11)\", 19, 20, \"((1 2 3 4 5 11) < 20)\"]  # whatever array of integers\n",
    "energies = np.linspace(1e4, 1e5, 100)  # whatever array of floats\n",
    "newinput.add_F_tally(\n",
    "    14,  # ID of the tally\n",
    "    [\"N\"],  # particles to be tallied\n",
    "    cells, # either cells or surfaces ints to tally\n",
    "    description=\"Test F14 tally\", # description of the tally\n",
    "    add_SD=True, # add SD card equal 1 for each bin\n",
    "    add_total=True, # add total to the cell or surface bin\n",
    "    multiplier=\"1 -52 1\", # multiplier for the tally\n",
    ")\n",
    "\n",
    "# shortcut to print the result, writing the input to a file would give the same\n",
    "# result\n",
    "for idx, card in newinput.other_data.items():\n",
    "    # Even if FC, SD, E and FM are connected to F4 they are still stored as \n",
    "    # separate cards\n",
    "    if idx in ['F14', 'FC14', 'SD14', 'E14', 'FM14']:\n",
    "        print(card.card())"
   ]
  },
  {
   "cell_type": "markdown",
   "metadata": {},
   "source": [
    "### Extract a sub-input"
   ]
  },
  {
   "attachments": {},
   "cell_type": "markdown",
   "metadata": {},
   "source": [
    "Another capability implemented in the MCNP inputs is the possibility to **extract a minimum working MCNP input given a set of cells**. All transformation cards, surfaces, universes and material cards related to these cells will also be extracted. Cell definitions using the # operator are also supported."
   ]
  },
  {
   "cell_type": "code",
   "execution_count": 55,
   "metadata": {},
   "outputs": [
    {
     "name": "stdout",
     "output_type": "stream",
     "text": [
      "ITER 1D\n",
      "34   7   1.0028e-001  -55 56  10 -11     imp:n,p=64\n",
      "35   11  8.5299e-002  -55 56  11 -12     imp:n,p=32\n",
      "36   7   1.0028e-001  -55 56  12 -13     imp:n,p=32\n",
      "\n",
      "10   cz 447.9 \n",
      "11   cz 451   \n",
      "12   cz 455.2 \n",
      "13   cz 458.2 \n",
      "*55   pz  1000.0\n",
      "*56   pz -1000.0\n",
      "\n",
      "c ------------------------------------------------------------------\n",
      "C           o-------------------------------------------------------o\n",
      "c           |    H2O                    \n",
      "c           |                                                       |\n",
      "c           |                                                       |\n",
      "c           |    t.a.d. =   1.0028e-001                        M7   |\n",
      "C           o-------------------------------------------------------o\n",
      "c     \n",
      "M7\n",
      "       1001.31c        6.684830E-2     $ H-1    AB(%) 99.988\n",
      "       1002.31c        7.688440E-6     $ H-2    AB(%) 0.0115\n",
      "c         8016.70c 3.34280E-02  $ O        (nat.)\n",
      "       8016.31c        3.334680E-2     $ O-16   AB(%) 99.757\n",
      "       8017.31c        1.270260E-5     $ O-17   AB(%) 0.038\n",
      "       8018.31c        6.852740E-5     $ O-18   AB(%) 0.205\n",
      "\t plib=84p\n",
      "c ------------------------------------------------------------------\n",
      "c           o-------------------------------------------------------o\n",
      "C           |     S.S. 316L(N)-IG.....100 %                         |   \n",
      "c           |                                                       | \n",
      "c           |     t.a.d.  = 8.5299e-002                       M11   |\n",
      "C           o-------------------------------------------------------o\n",
      "c\n",
      "c\n",
      "M11\n",
      "       5010.31c        8.707160E-7     $ B-10   AB(%) 19.9\n",
      "       5011.31c        3.504740E-6     $ B-11   AB(%) 80.1\n",
      "c         6012.21c 7.08895E-05  $ C    (nat.)\n",
      "       6012.31c        7.013100E-5     $ C-12   AB(%) 98.93\n",
      "       6013.31c        7.585180E-7     $ C-13   AB(%) 1.07\n",
      "c         7014.21c 2.36402E-04  $ N    (nat.)\n",
      "       7014.31c        2.355410E-4     $ N-14   AB(%) 99.636\n",
      "       7015.31c        8.605030E-7     $ N-15   AB(%) 0.364\n",
      "c         8016.70c 5.89895E-06  $ O    (nat.)\n",
      "       8016.31c        5.884620E-6     $ O-16   AB(%) 99.757\n",
      "       8017.31c        2.241600E-9     $ O-17   AB(%) 0.038\n",
      "       8018.31c        1.209280E-8     $ O-18   AB(%) 0.205\n",
      "      13027.31c        5.259500E-4     $ Al-27  AB(%) 100.0\n",
      "      14028.31c        7.145600E-4     $ Si-28  AB(%) 92.23\n",
      "      14029.31c        3.628300E-5     $ Si-29  AB(%) 4.6831\n",
      "      14030.31c        2.391800E-5     $ Si-30  AB(%) 3.0871\n",
      "      15031.31c        3.970720E-5     $ P-31   AB(%) 100.0\n",
      "c        16000.21c 1.47526E-05  $ S    (nat.)\n",
      "      16032.31c        1.401790E-5     $ S-32   AB(%) 95.02\n",
      "      16033.31c        1.106450E-7     $ S-33   AB(%) 0.75\n",
      "      16034.31c        6.210840E-7     $ S-34   AB(%) 4.21\n",
      "      16036.31c        2.950520E-9     $ S-36   AB(%) 0.02\n",
      "c        19000.21c 6.04926E-07  $ K    (nat.)\n",
      "      19039.31c        5.641540E-7     $ K-39   AB(%) 93.26\n",
      "      19040.31c       6.049260E-11     $ K-40   AB(%) 0.01\n",
      "      19041.31c        4.071150E-8     $ K-41   AB(%) 6.73\n",
      "      22046.31c        3.260400E-6     $ Ti-46  AB(%) 8.2501\n",
      "      22047.31c        2.940200E-6     $ Ti-47  AB(%) 7.4398\n",
      "      22048.31c        2.913400E-5     $ Ti-48  AB(%) 73.72\n",
      "      22049.31c        2.138000E-6     $ Ti-49  AB(%) 5.41\n",
      "      22050.31c        2.047100E-6     $ Ti-50  AB(%) 5.1799\n",
      "c        23000.21c 3.71431E-06  $ V    (nat.)\n",
      "      23050.31c        9.285780E-9     $ V-50   AB(%) 0.25\n",
      "      23051.31c        3.705020E-6     $ V-51   AB(%) 99.75\n",
      "      24050.31c        6.689300E-4     $ Cr-50  AB(%) 4.2958\n",
      "      24052.31c        1.303600E-2     $ Cr-52  AB(%) 83.716\n",
      "      24053.31c        1.493400E-3     $ Cr-53  AB(%) 9.5905\n",
      "      24054.31c        3.733600E-4     $ Cr-54  AB(%) 2.3977\n",
      "      25055.31c        1.463750E-3     $ Mn-55  AB(%) 100.0\n",
      "      26054.31c        3.165200E-3     $ Fe-54  AB(%) 5.7999\n",
      "      26056.31c        5.004400E-2     $ Fe-56  AB(%) 91.7\n",
      "      26057.31c        1.200600E-3     $ Fe-57  AB(%) 2.2 \n",
      "      26058.31c        1.637200E-4     $ Fe-58  AB(%) 0.3 \n",
      "      27059.31c        2.407970E-5     $ Co-59  AB(%) 100.0\n",
      "      28058.31c        7.202200E-3     $ Ni-58  AB(%) 67.7\n",
      "      28060.31c        2.787300E-3     $ Ni-60  AB(%) 26.2\n",
      "      28061.31c        1.383000E-4     $ Ni-61  AB(%) 1.3 \n",
      "      28062.31c        3.829800E-4     $ Ni-62  AB(%) 3.6 \n",
      "      28064.31c        1.276600E-4     $ Ni-64  AB(%) 1.2 \n",
      "      29063.31c        5.147510E-5     $ Cu-63  AB(%) 69.15\n",
      "      29065.31c        2.296460E-5     $ Cu-65  AB(%) 30.85\n",
      "c        40000.21c 1.03708E-06  $ Zr-nat.\n",
      "      40090.31c        5.335780E-7     $ Zr-90  AB(%) 51.45\n",
      "      40091.31c        1.163600E-7     $ Zr-91  AB(%) 11.22\n",
      "      40092.31c        1.778590E-7     $ Zr-92  AB(%) 17.15\n",
      "      40094.31c        1.802450E-7     $ Zr-94  AB(%) 17.38\n",
      "      40096.31c        2.903820E-8     $ Zr-96  AB(%) 2.8 \n",
      "      41093.31c        1.018300E-6     $ Nb-93  AB(%) 100.0\n",
      "      42092.31c        1.829400E-4     $ Mo-92  AB(%) 14.84\n",
      "      42094.31c        1.140300E-4     $ Mo-94  AB(%) 9.2501\n",
      "      42095.31c        1.962500E-4     $ Mo-95  AB(%) 15.92\n",
      "      42096.31c        2.056200E-4     $ Mo-96  AB(%) 16.68\n",
      "      42097.31c        1.177300E-4     $ Mo-97  AB(%) 9.5503\n",
      "      42098.31c        2.974600E-4     $ Mo-98  AB(%) 24.13\n",
      "      42100.31c        1.187100E-4     $ Mo-100 AB(%) 9.6298\n",
      "c        50000.21c 7.96952E-07  $ Sn   (nat.)\n",
      "      50112.31c        7.730430E-9     $ Sn-112 AB(%) 0.97\n",
      "      50114.31c        5.259880E-9     $ Sn-114 AB(%) 0.66\n",
      "      50115.31c        2.709640E-9     $ Sn-115 AB(%) 0.34\n",
      "      50116.31c        1.158770E-7     $ Sn-116 AB(%) 14.54\n",
      "      50117.31c        6.120590E-8     $ Sn-117 AB(%) 7.68\n",
      "      50118.31c        1.930220E-7     $ Sn-118 AB(%) 24.22\n",
      "      50119.31c        6.845820E-8     $ Sn-119 AB(%) 8.59\n",
      "      50120.31c        2.596470E-7     $ Sn-120 AB(%) 32.58\n",
      "      50122.31c        3.689890E-8     $ Sn-122 AB(%) 4.63\n",
      "      50124.31c        4.614350E-8     $ Sn-124 AB(%) 5.79\n",
      "      73181.31c        1.307090E-7     $ Ta-181 AB(%) 100.0\n",
      "      74180.31c       3.083810E-10     $ W-180  AB(%) 0.12\n",
      "      74182.31c        6.810080E-8     $ W-182  AB(%) 26.5\n",
      "      74183.31c        3.677440E-8     $ W-183  AB(%) 14.31\n",
      "      74184.31c        7.873990E-8     $ W-184  AB(%) 30.64\n",
      "      74186.31c        7.306060E-8     $ W-186  AB(%) 28.43\n",
      "      82204.31c        2.556720E-9     $ Pb-204 AB(%) 1.4 \n",
      "      82206.31c        4.401210E-8     $ Pb-206 AB(%) 24.1\n",
      "      82207.31c        4.035970E-8     $ Pb-207 AB(%) 22.1\n",
      "      82208.31c        9.569450E-8     $ Pb-208 AB(%) 52.4\n",
      "      83209.31c        1.810820E-7     $ Bi-209 AB(%) 100.0\n",
      "\t plib=84p\n",
      "c\n",
      "c       o-----------------------------------------------------------------o\n",
      "c       |               s o u r c e  d e s c r i p t i o n                |\n",
      "c       o-----------------------------------------------------------------o\n",
      "sdef  erg=d1  cel=51   x=d2 y=d3 z=d4   wgt=1\n",
      "c\n",
      "c    Source probability function for energy sampling:\n",
      "c    Muir velocity Gaussian energy spectrum (DT fusion at 10 keV):\n",
      "sp1   -6\n",
      "c    Coordinates sampling (x,y,z):\n",
      "si2    -1115.2  1115.2\n",
      "sp2      0    1\n",
      "c\n",
      "si3    -1115.2  1115.2\n",
      "sp3      0    1\n",
      "c\n",
      "si4    -1000.2  1000.2\n",
      "sp4      0    1\n",
      "c\n",
      "c void\n",
      "c   --------------------------------------------------------------\n",
      "c               source for volume calculations\n",
      "c sdef  erg=14.1 sur=57 nrm=-1 wgt=2.82743e+7\n",
      "c   --------------------------------------------------------------\n",
      "c \n",
      "mode    n p\n",
      "c \n",
      "c phys:n  20 1e-8\n",
      "c change phys card for mcnp6\n",
      "phys:n  100 1e-8 $ change emax to default 100 MeV\n",
      "c  phys:p  20 1\n",
      "cut:n   j j -0.5 -0.25 j\n",
      "c\n",
      "c vol:n  106j\n",
      "c  -----------------------------\n",
      "C    TALLY ENERGY CARD VITAMIN-J 175-group structure                       \n",
      "C                                            \n",
      "E4    1.00001E-07 4.13994E-07 5.31579E-07 6.82560E-07 8.76425E-07\n",
      "      1.12535E-06 1.44498E-06 1.85539E-06 2.38237E-06 3.05902E-06\n",
      "      3.92786E-06 5.04348E-06 6.47595E-06 8.31529E-06 1.06770E-05\n",
      "      1.37096E-05 1.76035E-05 2.26033E-05 2.90232E-05 3.72665E-05\n",
      "      4.78512E-05 6.14421E-05 7.88932E-05 1.01301E-04 1.30073E-04\n",
      "      1.67017E-04 2.14454E-04 2.75364E-04 3.53575E-04 4.53999E-04\n",
      "      5.82947E-04 7.48518E-04 9.61117E-04 1.23410E-03 1.58461E-03\n",
      "      2.03468E-03 2.24867E-03 2.48517E-03 2.61259E-03 2.74654E-03\n",
      "      3.03539E-03 3.35463E-03 3.70744E-03 4.30742E-03 5.53084E-03\n",
      "      7.10174E-03 9.11882E-03 1.05946E-02 1.17088E-02 1.50344E-02\n",
      "      1.93045E-02 2.18749E-02 2.35786E-02 2.41755E-02 2.47875E-02\n",
      "      2.60584E-02 2.70001E-02 2.85011E-02 3.18278E-02 3.43067E-02\n",
      "      4.08677E-02 4.63092E-02 5.24752E-02 5.65622E-02 6.73795E-02\n",
      "      7.20245E-02 7.94987E-02 8.25034E-02 8.65170E-02 9.80365E-02\n",
      "      1.11090E-01 1.16786E-01 1.22773E-01 1.29068E-01 1.35686E-01\n",
      "      1.42642E-01 1.49956E-01 1.57644E-01 1.65727E-01 1.74224E-01\n",
      "      1.83156E-01 1.92547E-01 2.02419E-01 2.12797E-01 2.23708E-01\n",
      "      2.35177E-01 2.47235E-01 2.73237E-01 2.87246E-01 2.94518E-01\n",
      "      2.97211E-01 2.98491E-01 3.01974E-01 3.33733E-01 3.68832E-01\n",
      "      3.87742E-01 4.07622E-01 4.50492E-01 4.97871E-01 5.23397E-01\n",
      "      5.50232E-01 5.78443E-01 6.08101E-01 6.39279E-01 6.72055E-01\n",
      "      7.06512E-01 7.42736E-01 7.80817E-01 8.20850E-01 8.62936E-01\n",
      "      9.07180E-01 9.61672E-01 1.00259E+00 1.10803E+00 1.16484E+00\n",
      "      1.22456E+00 1.28735E+00 1.35335E+00 1.42274E+00 1.49569E+00\n",
      "      1.57237E+00 1.65299E+00 1.73774E+00 1.82684E+00 1.92050E+00\n",
      "      2.01897E+00 2.12248E+00 2.23130E+00 2.30693E+00 2.34570E+00\n",
      "      2.36533E+00 2.38513E+00 2.46597E+00 2.59240E+00 2.72532E+00\n",
      "      2.86505E+00 3.01194E+00 3.16637E+00 3.32871E+00 3.67879E+00\n",
      "      4.06570E+00 4.49329E+00 4.72367E+00 4.96585E+00 5.22046E+00\n",
      "      5.48812E+00 5.76950E+00 6.06531E+00 6.37628E+00 6.59241E+00\n",
      "      6.70320E+00 7.04688E+00 7.40818E+00 7.78801E+00 8.18731E+00\n",
      "      8.60708E+00 9.04837E+00 9.51229E+00 1.00000E+01 1.05127E+01\n",
      "      1.10517E+01 1.16183E+01 1.22140E+01 1.25232E+01 1.28403E+01\n",
      "      1.34986E+01 1.38403E+01 1.41907E+01 1.45499E+01 1.49182E+01\n",
      "      1.56831E+01 1.64872E+01 1.69046E+01 1.73325E+01 1.96403E+01\n",
      "C \n",
      "c   --------------------------------------------------------------------\n",
      "fc4  Neutrons Flux (energy binned) [#/cm^2]\n",
      "f4:n\n",
      "                 2 3  4  5  6  \n",
      "                 7  8  9  10 11 \n",
      "                 12 13 14 15 16 \n",
      "                 17 18 19 20 21 \n",
      "                 22 24 25 26 27 \n",
      "                 28 29 30 31 33 \n",
      "                 34 35 36 37 38 \n",
      "                 39 40 41 42 43 \n",
      "                 44 45 46 47 48 \n",
      "                 49 53 54 55 56 \n",
      "                 57 58 59 60 61 \n",
      "                 62 63 64 65 66 \n",
      "                 67 68 69 71 72 \n",
      "                 73 74 75 76 77 \n",
      "                 78 79 80 81 82 \n",
      "                 83 85 86 87 88 \n",
      "                 89 90 91 92 93 \n",
      "                 94  95  96  97  98 \n",
      "                 99  100 101 102 103\n",
      "                 104 105\n",
      "fm4   1.222e21\n",
      "c      ----------------------------------           \n",
      "c\n",
      "fc204  Total Neutron Flux [#/cm^2]\n",
      "f204:n\n",
      "                 2 3  4  5  6  \n",
      "                 7  8  9  10 11 \n",
      "                 12 13 14 15 16 \n",
      "                 17 18 19 20 21 \n",
      "                 22 24 25 26 27 \n",
      "                 28 29 30 31 33 \n",
      "                 34 35 36 37 38 \n",
      "                 39 40 41 42 43 \n",
      "                 44 45 46 47 48 \n",
      "                 49 53 54 55 56 \n",
      "                 57 58 59 60 61 \n",
      "                 62 63 64 65 66 \n",
      "                 67 68 69 71 72 \n",
      "                 73 74 75 76 77 \n",
      "                 78 79 80 81 82 \n",
      "                 83 85 86 87 88 \n",
      "                 89 90 91 92 93 \n",
      "                 94  95  96  97  98 \n",
      "                 99  100 101 102 103\n",
      "                 104 105\n",
      "fm204   1.222e21\n",
      "c      ----------------------------------           \n",
      "c\n",
      "fc14  Photons Flux (energy binned) [#/cm^2]\n",
      "f14:p\n",
      "                  2 3  4  5  6 \n",
      "                  7  8  9  10 11\n",
      "                  12 13 14 15 16\n",
      "                  17 18 19 20 21\n",
      "                  22 24 25 26 27\n",
      "                  28 29 30 31 33\n",
      "                  34 35 36 37 38\n",
      "                  39 40 41 42 43\n",
      "                  44 45 46 47 48\n",
      "                  49 53 54 55 56\n",
      "                  57 58 59 60 61\n",
      "                  62 63 64 65 66\n",
      "                  67 68 69 71 72\n",
      "                  73 74 75 76 77\n",
      "                  78 79 80 81 82\n",
      "                  83 85 86 87 88\n",
      "                  89 90 91 92 93\n",
      "                  94  95  96  97  98 \n",
      "                  99  100 101 102 103\n",
      "                  104 105\n",
      "fm14   1.222e21\n",
      "e14 .1 1 5 10 20 t\n",
      "fq14 f e $ change tally printout cell/surf down,ebins across top\n",
      "c      ---------------------------------\n",
      "c\n",
      "fc214  Total Photons Flux [#/cm^2]\n",
      "f214:p\n",
      "                  2 3  4  5  6 \n",
      "                  7  8  9  10 11\n",
      "                  12 13 14 15 16\n",
      "                  17 18 19 20 21\n",
      "                  22 24 25 26 27\n",
      "                  28 29 30 31 33\n",
      "                  34 35 36 37 38\n",
      "                  39 40 41 42 43\n",
      "                  44 45 46 47 48\n",
      "                  49 53 54 55 56\n",
      "                  57 58 59 60 61\n",
      "                  62 63 64 65 66\n",
      "                  67 68 69 71 72\n",
      "                  73 74 75 76 77\n",
      "                  78 79 80 81 82\n",
      "                  83 85 86 87 88\n",
      "                  89 90 91 92 93\n",
      "                  94  95  96  97  98 \n",
      "                  99  100 101 102 103\n",
      "                  104 105\n",
      "fm214   1.222e21\n",
      "c      ---------------------------------\n",
      "c\n",
      "fc6   Total Nuclear Heating [W/g]\n",
      "f6:np\n",
      "                  2 3  4  5  6 \n",
      "                  7  8  9  10 11\n",
      "                  12 13 14 15 16\n",
      "                  17 18 19 20 21\n",
      "                  22 24 25 26 27\n",
      "                  28 29 30 31 33\n",
      "                  34 35 36 37 38\n",
      "                  39 40 41 42 43\n",
      "                  44 45 46 47 48\n",
      "                  49 53 54 55 56\n",
      "                  57 58 59 60 61\n",
      "                  62 63 64 65 66\n",
      "                  67 68 69 71 72\n",
      "                  73 74 75 76 77\n",
      "                  78 79 80 81 82\n",
      "                  83 85 86 87 88\n",
      "                  89 90 91 92 93\n",
      "                  94  95  96  97  98 \n",
      "                  99  100 101 102 103\n",
      "                  104 105\n",
      "fm6   1.9577e8\n",
      "c      -----------------------------\n",
      "fc16   Neutron Heating [W/g]\n",
      "f16:n\n",
      "                 2 3  4  5  6 \n",
      "                 7  8  9  10 11\n",
      "                 12 13 14 15 16\n",
      "                 17 18 19 20 21\n",
      "                 22 24 25 26 27\n",
      "                 28 29 30 31 33\n",
      "                 34 35 36 37 38\n",
      "                 39 40 41 42 43\n",
      "                 44 45 46 47 48\n",
      "                 49 53 54 55 56\n",
      "                 57 58 59 60 61\n",
      "                 62 63 64 65 66\n",
      "                 67 68 69 71 72\n",
      "                 73 74 75 76 77\n",
      "                 78 79 80 81 82\n",
      "                 83 85 86 87 88\n",
      "                 89 90 91 92 93\n",
      "                 94  95  96  97  98 \n",
      "                 99  100 101 102 103\n",
      "                 104 105\n",
      "fm16   1.9577e8\n",
      "c        --------------------------\n",
      "fc26   Gamma Heating [W/g]\n",
      "f26:p\n",
      "                  2 3  4  5  6 \n",
      "                  7  8  9  10 11\n",
      "                  12 13 14 15 16\n",
      "                  17 18 19 20 21\n",
      "                  22 24 25 26 27\n",
      "                  28 29 30 31 33\n",
      "                  34 35 36 37 38\n",
      "                  39 40 41 42 43\n",
      "                  44 45 46 47 48\n",
      "                  49 53 54 55 56\n",
      "                  57 58 59 60 61\n",
      "                  62 63 64 65 66\n",
      "                  67 68 69 71 72\n",
      "                  73 74 75 76 77\n",
      "                  78 79 80 81 82\n",
      "                  83 85 86 87 88\n",
      "                  89 90 91 92 93\n",
      "                  94  95  96  97  98 \n",
      "                  99  100 101 102 103\n",
      "                  104 105\n",
      "fm26   1.9577e8\n",
      "c    -------------------------------\n",
      "fc24   Fe dpa/FPY\n",
      "f24:n   47 \n",
      "        45 43 41 39 37 35 33 \n",
      "        26 30 29 28 27\n",
      "        21\n",
      "        55\n",
      "        57 59 61 63 65 67 69\n",
      "        72 73 74 75 76 77 78 79 80 81\n",
      "        86\n",
      "fm24   3.8566e8   16 444\n",
      "c      ------------------------------\n",
      "fc34   He in 316SS appm/FPY\n",
      "f34:n   47\n",
      "        45 43 41 39 37 35 33\n",
      "        26 30 29 28 27\n",
      "        21\n",
      "        55\n",
      "        57 59 61 63 65 67 69\n",
      "        72 73 74 75 76 77 78 79 80 81\n",
      "        86\n",
      "fm34   3.8566e10   11 (207:206)\n",
      "c   ----------------------------------\n",
      "fc44   H in 316SS appm/FPY\n",
      "f44:n   47\n",
      "        45 43 41 39 37 35 33\n",
      "        26 30 29 28 27\n",
      "        21\n",
      "        55\n",
      "        57 59 61 63 65 67 69\n",
      "        72 73 74 75 76 77 78 79 80 81\n",
      "        86\n",
      "fm44   3.8566e10   11  (203:204:205)\n",
      "c   ----------------------------------\n",
      "fc54   T in 316SS appm/FPY\n",
      "f54:n   47\n",
      "        45 43 41 39 37 35 33\n",
      "        26 30 29 28 27\n",
      "        21\n",
      "        55\n",
      "        57 59 61 63 65 67 69\n",
      "        72 73 74 75 76 77 78 79 80 81\n",
      "        86\n",
      "fm54   3.8566e10   11 205\n",
      "c     -------------------------------\n",
      "fc64   Cu dpa/FPY\n",
      "f64:n  48 21 54 86\n",
      "fm64   3.8566e8   2 444\n",
      "c      ------------------------------\n",
      "fc74   He in CuBeNi appm/FPY\n",
      "f74:n   48 21 54 86\n",
      "fm74   3.8566e10   8 (207:206)\n",
      "c   ----------------------------------\n",
      "fc84   H in CuBeNi appm/FPY\n",
      "f84:n   48 21 54 86\n",
      "fm84   3.8566e10   8  (203:204:205)\n",
      "c   ----------------------------------\n",
      "fc94   T in CuBeNi appm/FPY\n",
      "f94:n   48 21 54 86\n",
      "fm94   3.8566e10   8 205\n",
      "c    ________________________________\n",
      "fc104   Ni dpa/FPY\n",
      "f104:n  31 25 71 82\n",
      "fm104   3.8566e8   17 444\n",
      "c      ------------------------------\n",
      "fc114   He in Inconel appm/FPY\n",
      "f114:n   31 25 71 82\n",
      "fm114   3.8566e10   12 (207:206)\n",
      "c   ----------------------------------\n",
      "fc124   H in Inconel appm/FPY\n",
      "f124:n   31 25 71 82\n",
      "fm124   3.8566e10   12  (203:204:205)\n",
      "c   ----------------------------------\n",
      "fc134   T in Inconel appm/FPY\n",
      "f134:n   31 25 71 82\n",
      "fm134   3.8566e10   12 205\n",
      "c    ________________________________\n",
      "fc144   He in Be appm/FPY\n",
      "f144:n   49 53\n",
      "fm144   3.8566e10   9 (207:206)\n",
      "c   ----------------------------------\n",
      "fc154   H in Be appm/FPY\n",
      "f154:n   49 53\n",
      "fm154   3.8566e10   9  (203:204:205)\n",
      "c   ----------------------------------\n",
      "fc164   T in Be appm/FPY\n",
      "f164:n   49 53\n",
      "fm164   3.8566e10   9 205\n",
      "c    ________________________________\n",
      "fc174   fast (E>0.1 MeV) fluence at magnet n/cm2/FPY\n",
      "f174:n  21 86\n",
      "e174    0.1 20\n",
      "fm174   3.8566e28\n",
      "c     ------------------------------\n",
      "C\n",
      "FC1004  Neutron Flux [#/cc/s]\n",
      "FMESH1004:N GEOM=XYZ ORIGIN=-1300 -1300 -900\n",
      "                    IMESH=1300   IINTS=130\n",
      "                        JMESH=1300   JINTS=130\n",
      "                        KMESH=900    KINTS= 90\n",
      "FM1004   1.222e21\n",
      "C\n",
      "C\n",
      "FC1024  Photon Flux [#/cc/s]\n",
      "FMESH1024:P GEOM=XYZ ORIGIN=-1300 -1300 -900\n",
      "                    IMESH=1300   IINTS=130\n",
      "                        JMESH=1300   JINTS=130\n",
      "                        KMESH=900    KINTS= 90\n",
      "FM1024   1.222e21\n",
      "C\n",
      "print  110\n",
      "c original nps,prdmp \n",
      "c BW added 110 above                   \n",
      "c prdmp  100000 100000 1 1 100000\n",
      "c BW changed above NDM from 1000000 to 500000       \n",
      "c nps    500000  \n",
      "C BW originally was 100000\n",
      "c ctme   1000\n",
      "c BW commented out line above =computer time cutoff\n",
      "c \n",
      "rand gen=1 seed=19073486328213 $ change random number seed (default ends in 5)\n",
      "c \n",
      "c nps 160e6             $ number of particles\n",
      "prdmp j 16e6 1 1 $ write mctal,save only the last dump \n",
      "NPS 1e7 \n"
     ]
    }
   ],
   "source": [
    "cells_to_extract = [34, 35, 36]\n",
    "outfile = os.path.join(tempfile.gettempdir(), 'extracted.i')\n",
    "inp.extract_cells(cells_to_extract, outfile)\n",
    "\n",
    "with open(outfile, 'r') as infile:\n",
    "    for line in infile:\n",
    "        print(line.strip('\\n'))"
   ]
  },
  {
   "attachments": {},
   "cell_type": "markdown",
   "metadata": {},
   "source": [
    "The extract_universe method allows the creation of a new MCNP input with the selected universe. The universe keywords will be erased from the cell definitions. "
   ]
  },
  {
   "cell_type": "code",
   "execution_count": 56,
   "metadata": {},
   "outputs": [
    {
     "name": "stdout",
     "output_type": "stream",
     "text": [
      "Title\n",
      "C\n",
      "c Universe level 1\n",
      "121 4 -1.0 -171 imp:n=1    \n",
      "122 0      -172 imp:n=1    \n",
      "399 0 #121 #122    imp:n=1    \n",
      "\n",
      "171 SX 25 10\n",
      "172 SX -25 10\n",
      "\n",
      "M4\n",
      "       2003.31c        2.460820E-8     $        AB(%)     \n",
      "       2004.31c        1.836430E-2     $        AB(%)     \n",
      "C Data cards section\n",
      "sdef pos 0 0 0\n"
     ]
    }
   ],
   "source": [
    "inp_universes = Input.from_input(\"test_universe.i\")\n",
    "# both extract_universe() and extract_cells() also allow to renumber cards\n",
    "# the arguments are the same as for the renumber() function\n",
    "offset_dict = {'cells': 100, 'surfs': 150}\n",
    "outfile = os.path.join(tempfile.gettempdir(), 'extracted_universe.i')\n",
    "inp_universes.extract_universe(125, outfile, renumber_offsets=offset_dict)\n",
    "with open(outfile, 'r') as infile:\n",
    "    for line in infile:\n",
    "        print(line.strip('\\n'))"
   ]
  },
  {
   "cell_type": "code",
   "execution_count": 57,
   "metadata": {},
   "outputs": [
    {
     "data": {
      "application/vnd.microsoft.datawrangler.viewer.v0+json": {
       "columns": [
        {
         "name": "cell",
         "rawType": "int64",
         "type": "integer"
        },
        {
         "name": "material",
         "rawType": "int64",
         "type": "integer"
        },
        {
         "name": "density",
         "rawType": "float64",
         "type": "float"
        },
        {
         "name": "universe",
         "rawType": "float64",
         "type": "float"
        },
        {
         "name": "filler",
         "rawType": "float64",
         "type": "float"
        }
       ],
       "conversionMethod": "pd.DataFrame",
       "ref": "d833aaf3-3163-41c0-8dad-c9c1a0cc4bc5",
       "rows": [
        [
         "1",
         "0",
         "0.0",
         null,
         "125.0"
        ],
        [
         "21",
         "4",
         "-1.0",
         "125.0",
         null
        ],
        [
         "22",
         "0",
         "0.0",
         "125.0",
         null
        ],
        [
         "99",
         "0",
         "0.0",
         null,
         null
        ],
        [
         "299",
         "0",
         "0.0",
         "125.0",
         null
        ]
       ],
       "shape": {
        "columns": 4,
        "rows": 5
       }
      },
      "text/html": [
       "<div>\n",
       "<style scoped>\n",
       "    .dataframe tbody tr th:only-of-type {\n",
       "        vertical-align: middle;\n",
       "    }\n",
       "\n",
       "    .dataframe tbody tr th {\n",
       "        vertical-align: top;\n",
       "    }\n",
       "\n",
       "    .dataframe thead th {\n",
       "        text-align: right;\n",
       "    }\n",
       "</style>\n",
       "<table border=\"1\" class=\"dataframe\">\n",
       "  <thead>\n",
       "    <tr style=\"text-align: right;\">\n",
       "      <th></th>\n",
       "      <th>material</th>\n",
       "      <th>density</th>\n",
       "      <th>universe</th>\n",
       "      <th>filler</th>\n",
       "    </tr>\n",
       "    <tr>\n",
       "      <th>cell</th>\n",
       "      <th></th>\n",
       "      <th></th>\n",
       "      <th></th>\n",
       "      <th></th>\n",
       "    </tr>\n",
       "  </thead>\n",
       "  <tbody>\n",
       "    <tr>\n",
       "      <th>1</th>\n",
       "      <td>0</td>\n",
       "      <td>0.0</td>\n",
       "      <td>NaN</td>\n",
       "      <td>125.0</td>\n",
       "    </tr>\n",
       "    <tr>\n",
       "      <th>21</th>\n",
       "      <td>4</td>\n",
       "      <td>-1.0</td>\n",
       "      <td>125.0</td>\n",
       "      <td>NaN</td>\n",
       "    </tr>\n",
       "    <tr>\n",
       "      <th>22</th>\n",
       "      <td>0</td>\n",
       "      <td>0.0</td>\n",
       "      <td>125.0</td>\n",
       "      <td>NaN</td>\n",
       "    </tr>\n",
       "    <tr>\n",
       "      <th>99</th>\n",
       "      <td>0</td>\n",
       "      <td>0.0</td>\n",
       "      <td>NaN</td>\n",
       "      <td>NaN</td>\n",
       "    </tr>\n",
       "    <tr>\n",
       "      <th>299</th>\n",
       "      <td>0</td>\n",
       "      <td>0.0</td>\n",
       "      <td>125.0</td>\n",
       "      <td>NaN</td>\n",
       "    </tr>\n",
       "  </tbody>\n",
       "</table>\n",
       "</div>"
      ],
      "text/plain": [
       "      material  density  universe  filler\n",
       "cell                                     \n",
       "1            0      0.0       NaN   125.0\n",
       "21           4     -1.0     125.0     NaN\n",
       "22           0      0.0     125.0     NaN\n",
       "99           0      0.0       NaN     NaN\n",
       "299          0      0.0     125.0     NaN"
      ]
     },
     "execution_count": 57,
     "metadata": {},
     "output_type": "execute_result"
    }
   ],
   "source": [
    "inp_universes.get_cells_summary()"
   ]
  },
  {
   "cell_type": "markdown",
   "metadata": {},
   "source": [
    "### Miscellaneous"
   ]
  },
  {
   "cell_type": "markdown",
   "metadata": {},
   "source": [
    "#### Deal with FENDL3.1d faulty isotopes"
   ]
  },
  {
   "cell_type": "markdown",
   "metadata": {},
   "source": [
    "FENDL3.1 has some faulty isotopes that produce negative heating. F4Enix conveniently stores these isotopes in a global variable for the user to easily translate them in another library "
   ]
  },
  {
   "cell_type": "code",
   "execution_count": 58,
   "metadata": {},
   "outputs": [],
   "source": [
    "from f4enix.constants import FAULTY_ISOTOPES\n",
    "newinp = deepcopy(inp)\n",
    "# first of all collect all the zaids that are present in the input and not in\n",
    "# the faulty isotopes\n",
    "other_zaids = []\n",
    "for material in newinp.materials:\n",
    "    for submaterial in material.submaterials:\n",
    "        for zaid in submaterial.zaidList:\n",
    "            zaidnum = zaid.element+zaid.isotope\n",
    "            if zaidnum not in FAULTY_ISOTOPES:\n",
    "                other_zaids.append(zaidnum)\n",
    "newinp.translate({'21c': FAULTY_ISOTOPES, '31c': other_zaids}, libmanager)"
   ]
  },
  {
   "cell_type": "code",
   "execution_count": null,
   "metadata": {},
   "outputs": [],
   "source": []
  }
 ],
 "metadata": {
  "kernelspec": {
   "display_name": "jade-exp",
   "language": "python",
   "name": "python3"
  },
  "language_info": {
   "codemirror_mode": {
    "name": "ipython",
    "version": 3
   },
   "file_extension": ".py",
   "mimetype": "text/x-python",
   "name": "python",
   "nbconvert_exporter": "python",
   "pygments_lexer": "ipython3",
   "version": "3.9.19"
  }
 },
 "nbformat": 4,
 "nbformat_minor": 2
}
